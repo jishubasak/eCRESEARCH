{
 "cells": [
  {
   "cell_type": "code",
   "execution_count": 1,
   "metadata": {
    "ExecuteTime": {
     "end_time": "2020-04-10T07:28:13.736762Z",
     "start_time": "2020-04-10T07:28:11.994903Z"
    },
    "scrolled": true
   },
   "outputs": [
    {
     "name": "stderr",
     "output_type": "stream",
     "text": [
      "Using TensorFlow backend.\n",
      "/home/ubuntu/miniconda3/lib/python3.7/site-packages/tensorflow/python/framework/dtypes.py:516: FutureWarning:\n",
      "\n",
      "Passing (type, 1) or '1type' as a synonym of type is deprecated; in a future version of numpy, it will be understood as (type, (1,)) / '(1,)type'.\n",
      "\n",
      "/home/ubuntu/miniconda3/lib/python3.7/site-packages/tensorflow/python/framework/dtypes.py:517: FutureWarning:\n",
      "\n",
      "Passing (type, 1) or '1type' as a synonym of type is deprecated; in a future version of numpy, it will be understood as (type, (1,)) / '(1,)type'.\n",
      "\n",
      "/home/ubuntu/miniconda3/lib/python3.7/site-packages/tensorflow/python/framework/dtypes.py:518: FutureWarning:\n",
      "\n",
      "Passing (type, 1) or '1type' as a synonym of type is deprecated; in a future version of numpy, it will be understood as (type, (1,)) / '(1,)type'.\n",
      "\n",
      "/home/ubuntu/miniconda3/lib/python3.7/site-packages/tensorflow/python/framework/dtypes.py:519: FutureWarning:\n",
      "\n",
      "Passing (type, 1) or '1type' as a synonym of type is deprecated; in a future version of numpy, it will be understood as (type, (1,)) / '(1,)type'.\n",
      "\n",
      "/home/ubuntu/miniconda3/lib/python3.7/site-packages/tensorflow/python/framework/dtypes.py:520: FutureWarning:\n",
      "\n",
      "Passing (type, 1) or '1type' as a synonym of type is deprecated; in a future version of numpy, it will be understood as (type, (1,)) / '(1,)type'.\n",
      "\n",
      "/home/ubuntu/miniconda3/lib/python3.7/site-packages/tensorflow/python/framework/dtypes.py:525: FutureWarning:\n",
      "\n",
      "Passing (type, 1) or '1type' as a synonym of type is deprecated; in a future version of numpy, it will be understood as (type, (1,)) / '(1,)type'.\n",
      "\n",
      "/home/ubuntu/miniconda3/lib/python3.7/site-packages/tensorboard/compat/tensorflow_stub/dtypes.py:541: FutureWarning:\n",
      "\n",
      "Passing (type, 1) or '1type' as a synonym of type is deprecated; in a future version of numpy, it will be understood as (type, (1,)) / '(1,)type'.\n",
      "\n",
      "/home/ubuntu/miniconda3/lib/python3.7/site-packages/tensorboard/compat/tensorflow_stub/dtypes.py:542: FutureWarning:\n",
      "\n",
      "Passing (type, 1) or '1type' as a synonym of type is deprecated; in a future version of numpy, it will be understood as (type, (1,)) / '(1,)type'.\n",
      "\n",
      "/home/ubuntu/miniconda3/lib/python3.7/site-packages/tensorboard/compat/tensorflow_stub/dtypes.py:543: FutureWarning:\n",
      "\n",
      "Passing (type, 1) or '1type' as a synonym of type is deprecated; in a future version of numpy, it will be understood as (type, (1,)) / '(1,)type'.\n",
      "\n",
      "/home/ubuntu/miniconda3/lib/python3.7/site-packages/tensorboard/compat/tensorflow_stub/dtypes.py:544: FutureWarning:\n",
      "\n",
      "Passing (type, 1) or '1type' as a synonym of type is deprecated; in a future version of numpy, it will be understood as (type, (1,)) / '(1,)type'.\n",
      "\n",
      "/home/ubuntu/miniconda3/lib/python3.7/site-packages/tensorboard/compat/tensorflow_stub/dtypes.py:545: FutureWarning:\n",
      "\n",
      "Passing (type, 1) or '1type' as a synonym of type is deprecated; in a future version of numpy, it will be understood as (type, (1,)) / '(1,)type'.\n",
      "\n",
      "/home/ubuntu/miniconda3/lib/python3.7/site-packages/tensorboard/compat/tensorflow_stub/dtypes.py:550: FutureWarning:\n",
      "\n",
      "Passing (type, 1) or '1type' as a synonym of type is deprecated; in a future version of numpy, it will be understood as (type, (1,)) / '(1,)type'.\n",
      "\n"
     ]
    }
   ],
   "source": [
    "# (1) Importing dependency\n",
    "#Essentials\n",
    "import sqlite3\n",
    "import pandas as pd\n",
    "import numpy as np\n",
    "import matplotlib.pyplot as plt\n",
    "import numpy as np\n",
    "import os\n",
    "from collections import Counter\n",
    "import plotly.graph_objects as go\n",
    "\n",
    "#Image\n",
    "from PIL import Image\n",
    "import cv2\n",
    "\n",
    "#Sklearn\n",
    "from sklearn.impute import KNNImputer\n",
    "from sklearn.preprocessing import MinMaxScaler\n",
    "from sklearn.metrics import r2_score\n",
    "\n",
    "#Keras\n",
    "import keras\n",
    "from keras.models import Sequential, Model\n",
    "from keras.utils import plot_model\n",
    "from keras.layers import Input\n",
    "from keras.layers import Activation\n",
    "from keras.layers import Dropout\n",
    "from keras.layers import Dense\n",
    "from keras.layers import Flatten\n",
    "from keras.layers.convolutional import Conv2D\n",
    "from keras.layers.pooling import MaxPooling2D\n",
    "from keras.layers.merge import concatenate\n",
    "from keras.layers.normalization import BatchNormalization\n",
    "from keras.callbacks import ModelCheckpoint\n",
    "from keras.layers import Convolution2D, MaxPooling2D, ZeroPadding2D\n",
    "from keras import regularizers\n",
    "from keras.layers import LeakyReLU\n",
    "from keras.optimizers import SGD\n",
    "from keras import backend\n",
    "from keras.models import load_model"
   ]
  },
  {
   "cell_type": "code",
   "execution_count": 2,
   "metadata": {
    "ExecuteTime": {
     "end_time": "2020-04-10T07:28:37.901367Z",
     "start_time": "2020-04-10T07:28:18.318790Z"
    },
    "scrolled": true
   },
   "outputs": [],
   "source": [
    "dbs = []\n",
    "headers = ['link','country','cat1','cat2','cat3','cat4','product','product_title',\n",
    "'rating_star','overall_rating','company','price',\n",
    "'product_highlights','product_length','product_width','product_height',\n",
    "'product_weight','asin','pd_unit','best_seller_cat','best_seller_prod',\n",
    "'weight_unit','shipping_weight','shipping_weight_unit','crr_5','crr_4',\n",
    "'crr_3','crr_2','crr_1','crr_fr_1','crr_fr_2','crr_fr_3','tags','images_link']\n",
    "df_temp = pd.DataFrame(columns=headers)\n",
    "for root, dirs, files in os.walk(\"/home/jishu/sql/database/\"):\n",
    "    for file in files:\n",
    "        if file.endswith(\".db\"):\n",
    "            os.chdir(os.path.join(root))\n",
    "    #             print(os.path.join(root),file)\n",
    "            conn = sqlite3.connect(file)\n",
    "            df = pd.read_sql('''SELECT * FROM Product''', conn)\n",
    "            df.drop(columns = ['index'],axis=1,inplace=True)\n",
    "            df_temp = df_temp.append(df)\n",
    "            dbs.append(os.path.join(root))"
   ]
  },
  {
   "cell_type": "code",
   "execution_count": null,
   "metadata": {
    "ExecuteTime": {
     "end_time": "2020-04-08T09:41:18.349556Z",
     "start_time": "2020-04-08T09:41:18.326489Z"
    }
   },
   "outputs": [],
   "source": [
    "tags = list(df_temp[['product_highlights','tags']].head(20)['tags'])\n",
    "main_tags = []\n",
    "for i in range(len(tags)):\n",
    "    temp_tags = []\n",
    "    try:\n",
    "        temp = tags[i].split('<CPT14>')\n",
    "        for j in temp:\n",
    "            temp_tags.append(temp)\n",
    "    except:\n",
    "        temp_tags.append(tags[i])\n",
    "    main_tags.append(temp_tags)\n",
    "tags_real = [item for sublist in main_tags for item in sublist]\n",
    "tags_real = list(set([item for sublist in tags_real for item in sublist]))\n",
    "df_temp[['product_highlights','tags']].head(20)"
   ]
  },
  {
   "cell_type": "code",
   "execution_count": null,
   "metadata": {
    "ExecuteTime": {
     "end_time": "2020-04-09T11:48:40.988236Z",
     "start_time": "2020-04-09T11:48:40.478889Z"
    }
   },
   "outputs": [],
   "source": [
    "usa_temp = df_temp[df_temp['country']=='USA'].reset_index()"
   ]
  },
  {
   "cell_type": "markdown",
   "metadata": {},
   "source": [
    "### Data Wrangling - USA"
   ]
  },
  {
   "cell_type": "code",
   "execution_count": 43,
   "metadata": {
    "ExecuteTime": {
     "end_time": "2020-04-10T08:51:50.063981Z",
     "start_time": "2020-04-10T08:51:49.473455Z"
    }
   },
   "outputs": [],
   "source": [
    "#data\n",
    "df_usa = df_temp[df_temp['country']=='USA']\n",
    "df_usa_temp = df_usa[df_usa['rating_star']!='Not Scrapable']\n",
    "usa_shampoo = df_usa_temp[df_usa_temp['product']=='shampoo']"
   ]
  },
  {
   "cell_type": "code",
   "execution_count": 44,
   "metadata": {
    "ExecuteTime": {
     "end_time": "2020-04-10T08:51:50.861871Z",
     "start_time": "2020-04-10T08:51:50.847957Z"
    }
   },
   "outputs": [
    {
     "data": {
      "text/html": [
       "<div>\n",
       "<style scoped>\n",
       "    .dataframe tbody tr th:only-of-type {\n",
       "        vertical-align: middle;\n",
       "    }\n",
       "\n",
       "    .dataframe tbody tr th {\n",
       "        vertical-align: top;\n",
       "    }\n",
       "\n",
       "    .dataframe thead th {\n",
       "        text-align: right;\n",
       "    }\n",
       "</style>\n",
       "<table border=\"1\" class=\"dataframe\">\n",
       "  <thead>\n",
       "    <tr style=\"text-align: right;\">\n",
       "      <th></th>\n",
       "      <th>link</th>\n",
       "      <th>country</th>\n",
       "      <th>cat1</th>\n",
       "      <th>cat2</th>\n",
       "      <th>cat3</th>\n",
       "      <th>cat4</th>\n",
       "      <th>product</th>\n",
       "      <th>product_title</th>\n",
       "      <th>rating_star</th>\n",
       "      <th>overall_rating</th>\n",
       "      <th>company</th>\n",
       "      <th>price</th>\n",
       "      <th>product_highlights</th>\n",
       "      <th>product_length</th>\n",
       "      <th>product_width</th>\n",
       "    </tr>\n",
       "  </thead>\n",
       "  <tbody>\n",
       "    <tr>\n",
       "      <th>0</th>\n",
       "      <td>https://www.amazon.com/Fanola-No-Yellow-Shampo...</td>\n",
       "      <td>USA</td>\n",
       "      <td>health_and_beauty</td>\n",
       "      <td>hair_products</td>\n",
       "      <td>None</td>\n",
       "      <td>None</td>\n",
       "      <td>shampoo</td>\n",
       "      <td>Fanola No Yellow Shampoo, 11.8 Fl Oz</td>\n",
       "      <td>4.4</td>\n",
       "      <td>18787</td>\n",
       "      <td>Fanola</td>\n",
       "      <td>0.48</td>\n",
       "      <td>Ideal, for grey, super lightened, or decolored...</td>\n",
       "      <td>2.4</td>\n",
       "      <td>2.8</td>\n",
       "    </tr>\n",
       "    <tr>\n",
       "      <th>1</th>\n",
       "      <td>https://www.amazon.com/Olaplex-No-4-Bond-Maint...</td>\n",
       "      <td>USA</td>\n",
       "      <td>health_and_beauty</td>\n",
       "      <td>hair_products</td>\n",
       "      <td>None</td>\n",
       "      <td>None</td>\n",
       "      <td>shampoo</td>\n",
       "      <td>Olaplex No.4 Bond Maintenance Shampoo, 8.5 Fl oz</td>\n",
       "      <td>4.6</td>\n",
       "      <td>2519</td>\n",
       "      <td>Not Scrapable</td>\n",
       "      <td>0</td>\n",
       "      <td>Not Available</td>\n",
       "      <td>5.2</td>\n",
       "      <td>2.2</td>\n",
       "    </tr>\n",
       "    <tr>\n",
       "      <th>2</th>\n",
       "      <td>https://www.amazon.com/Fanola-No-Yellow-Shampo...</td>\n",
       "      <td>USA</td>\n",
       "      <td>health_and_beauty</td>\n",
       "      <td>hair_products</td>\n",
       "      <td>None</td>\n",
       "      <td>None</td>\n",
       "      <td>shampoo</td>\n",
       "      <td>Fanola No Yellow Shampoo, 11.8 Fl Oz</td>\n",
       "      <td>4.4</td>\n",
       "      <td>18787</td>\n",
       "      <td>Fanola</td>\n",
       "      <td>0.48</td>\n",
       "      <td>Ideal, for grey, super lightened, or decolored...</td>\n",
       "      <td>2.4</td>\n",
       "      <td>2.8</td>\n",
       "    </tr>\n",
       "    <tr>\n",
       "      <th>3</th>\n",
       "      <td>https://www.amazon.com/Fanola-No-Yellow-Shampo...</td>\n",
       "      <td>USA</td>\n",
       "      <td>health_and_beauty</td>\n",
       "      <td>hair_products</td>\n",
       "      <td>None</td>\n",
       "      <td>None</td>\n",
       "      <td>shampoo</td>\n",
       "      <td>Fanola No Yellow Shampoo, 11.8 Fl Oz</td>\n",
       "      <td>4.4</td>\n",
       "      <td>18787</td>\n",
       "      <td>Fanola</td>\n",
       "      <td>0.48</td>\n",
       "      <td>Ideal, for grey, super lightened, or decolored...</td>\n",
       "      <td>2.4</td>\n",
       "      <td>2.8</td>\n",
       "    </tr>\n",
       "    <tr>\n",
       "      <th>4</th>\n",
       "      <td>https://www.amazon.com/Fanola-No-Yellow-Shampo...</td>\n",
       "      <td>USA</td>\n",
       "      <td>health_and_beauty</td>\n",
       "      <td>hair_products</td>\n",
       "      <td>None</td>\n",
       "      <td>None</td>\n",
       "      <td>shampoo</td>\n",
       "      <td>Fanola No Yellow Shampoo, 11.8 Fl Oz</td>\n",
       "      <td>4.4</td>\n",
       "      <td>18787</td>\n",
       "      <td>Fanola</td>\n",
       "      <td>0.48</td>\n",
       "      <td>Ideal, for grey, super lightened, or decolored...</td>\n",
       "      <td>2.4</td>\n",
       "      <td>2.8</td>\n",
       "    </tr>\n",
       "  </tbody>\n",
       "</table>\n",
       "</div>"
      ],
      "text/plain": [
       "                                                link country  \\\n",
       "0  https://www.amazon.com/Fanola-No-Yellow-Shampo...     USA   \n",
       "1  https://www.amazon.com/Olaplex-No-4-Bond-Maint...     USA   \n",
       "2  https://www.amazon.com/Fanola-No-Yellow-Shampo...     USA   \n",
       "3  https://www.amazon.com/Fanola-No-Yellow-Shampo...     USA   \n",
       "4  https://www.amazon.com/Fanola-No-Yellow-Shampo...     USA   \n",
       "\n",
       "                cat1           cat2  cat3  cat4  product  \\\n",
       "0  health_and_beauty  hair_products  None  None  shampoo   \n",
       "1  health_and_beauty  hair_products  None  None  shampoo   \n",
       "2  health_and_beauty  hair_products  None  None  shampoo   \n",
       "3  health_and_beauty  hair_products  None  None  shampoo   \n",
       "4  health_and_beauty  hair_products  None  None  shampoo   \n",
       "\n",
       "                                      product_title rating_star  \\\n",
       "0              Fanola No Yellow Shampoo, 11.8 Fl Oz         4.4   \n",
       "1  Olaplex No.4 Bond Maintenance Shampoo, 8.5 Fl oz         4.6   \n",
       "2              Fanola No Yellow Shampoo, 11.8 Fl Oz         4.4   \n",
       "3              Fanola No Yellow Shampoo, 11.8 Fl Oz         4.4   \n",
       "4              Fanola No Yellow Shampoo, 11.8 Fl Oz         4.4   \n",
       "\n",
       "  overall_rating        company price  \\\n",
       "0          18787         Fanola  0.48   \n",
       "1           2519  Not Scrapable     0   \n",
       "2          18787         Fanola  0.48   \n",
       "3          18787         Fanola  0.48   \n",
       "4          18787         Fanola  0.48   \n",
       "\n",
       "                                  product_highlights product_length  \\\n",
       "0  Ideal, for grey, super lightened, or decolored...            2.4   \n",
       "1                                      Not Available            5.2   \n",
       "2  Ideal, for grey, super lightened, or decolored...            2.4   \n",
       "3  Ideal, for grey, super lightened, or decolored...            2.4   \n",
       "4  Ideal, for grey, super lightened, or decolored...            2.4   \n",
       "\n",
       "  product_width  \n",
       "0           2.8  \n",
       "1           2.2  \n",
       "2           2.8  \n",
       "3           2.8  \n",
       "4           2.8  "
      ]
     },
     "execution_count": 44,
     "metadata": {},
     "output_type": "execute_result"
    }
   ],
   "source": [
    "usa_shampoo.iloc[:,:15].head()"
   ]
  },
  {
   "cell_type": "code",
   "execution_count": 45,
   "metadata": {
    "ExecuteTime": {
     "end_time": "2020-04-10T08:51:51.354531Z",
     "start_time": "2020-04-10T08:51:51.339746Z"
    },
    "scrolled": true
   },
   "outputs": [
    {
     "data": {
      "text/html": [
       "<div>\n",
       "<style scoped>\n",
       "    .dataframe tbody tr th:only-of-type {\n",
       "        vertical-align: middle;\n",
       "    }\n",
       "\n",
       "    .dataframe tbody tr th {\n",
       "        vertical-align: top;\n",
       "    }\n",
       "\n",
       "    .dataframe thead th {\n",
       "        text-align: right;\n",
       "    }\n",
       "</style>\n",
       "<table border=\"1\" class=\"dataframe\">\n",
       "  <thead>\n",
       "    <tr style=\"text-align: right;\">\n",
       "      <th></th>\n",
       "      <th>product_height</th>\n",
       "      <th>product_weight</th>\n",
       "      <th>asin</th>\n",
       "      <th>pd_unit</th>\n",
       "      <th>best_seller_cat</th>\n",
       "      <th>best_seller_prod</th>\n",
       "      <th>weight_unit</th>\n",
       "      <th>shipping_weight</th>\n",
       "      <th>shipping_weight_unit</th>\n",
       "      <th>crr_5</th>\n",
       "      <th>crr_4</th>\n",
       "      <th>crr_3</th>\n",
       "      <th>crr_2</th>\n",
       "      <th>crr_1</th>\n",
       "      <th>crr_fr_1</th>\n",
       "      <th>crr_fr_2</th>\n",
       "      <th>crr_fr_3</th>\n",
       "      <th>tags</th>\n",
       "      <th>images_link</th>\n",
       "    </tr>\n",
       "  </thead>\n",
       "  <tbody>\n",
       "    <tr>\n",
       "      <th>0</th>\n",
       "      <td>7.5</td>\n",
       "      <td>11.2</td>\n",
       "      <td>B00RWCDM4A</td>\n",
       "      <td>inches</td>\n",
       "      <td>196</td>\n",
       "      <td>4</td>\n",
       "      <td>ounces</td>\n",
       "      <td>14.1</td>\n",
       "      <td>ounces</td>\n",
       "      <td>72</td>\n",
       "      <td>11</td>\n",
       "      <td>6</td>\n",
       "      <td>3</td>\n",
       "      <td>8</td>\n",
       "      <td>3.8</td>\n",
       "      <td>3.4</td>\n",
       "      <td>3.3</td>\n",
       "      <td>regular shampoo&lt;CPT14&gt;blonde hair&lt;CPT14&gt;dry ha...</td>\n",
       "      <td>Amazon_USA/health_and_beauty/hair_products/sha...</td>\n",
       "    </tr>\n",
       "    <tr>\n",
       "      <th>1</th>\n",
       "      <td>2.2</td>\n",
       "      <td>8</td>\n",
       "      <td>B07D37PQGL</td>\n",
       "      <td>inches</td>\n",
       "      <td>190</td>\n",
       "      <td>2</td>\n",
       "      <td>ounces</td>\n",
       "      <td>10.6</td>\n",
       "      <td>ounces</td>\n",
       "      <td>83</td>\n",
       "      <td>7</td>\n",
       "      <td>4</td>\n",
       "      <td>1</td>\n",
       "      <td>5</td>\n",
       "      <td>4.5</td>\n",
       "      <td>4.5</td>\n",
       "      <td>4.5</td>\n",
       "      <td>shampoo and conditioner&lt;CPT14&gt;best shampoo&lt;CPT...</td>\n",
       "      <td>Amazon_USA/health_and_beauty/hair_products/sha...</td>\n",
       "    </tr>\n",
       "    <tr>\n",
       "      <th>2</th>\n",
       "      <td>7.5</td>\n",
       "      <td>11.2</td>\n",
       "      <td>B00RWCDM4A</td>\n",
       "      <td>inches</td>\n",
       "      <td>196</td>\n",
       "      <td>4</td>\n",
       "      <td>ounces</td>\n",
       "      <td>14.1</td>\n",
       "      <td>ounces</td>\n",
       "      <td>72</td>\n",
       "      <td>11</td>\n",
       "      <td>6</td>\n",
       "      <td>3</td>\n",
       "      <td>8</td>\n",
       "      <td>3.8</td>\n",
       "      <td>3.4</td>\n",
       "      <td>3.3</td>\n",
       "      <td>regular shampoo&lt;CPT14&gt;Softness&lt;CPT14&gt;highly re...</td>\n",
       "      <td>Amazon_USA/health_and_beauty/hair_products/sha...</td>\n",
       "    </tr>\n",
       "    <tr>\n",
       "      <th>3</th>\n",
       "      <td>7.5</td>\n",
       "      <td>11.2</td>\n",
       "      <td>B00RWCDM4A</td>\n",
       "      <td>inches</td>\n",
       "      <td>196</td>\n",
       "      <td>4</td>\n",
       "      <td>ounces</td>\n",
       "      <td>14.1</td>\n",
       "      <td>ounces</td>\n",
       "      <td>72</td>\n",
       "      <td>11</td>\n",
       "      <td>6</td>\n",
       "      <td>3</td>\n",
       "      <td>8</td>\n",
       "      <td>3.8</td>\n",
       "      <td>3.4</td>\n",
       "      <td>3.3</td>\n",
       "      <td>regular shampoo&lt;CPT14&gt;Softness&lt;CPT14&gt;highly re...</td>\n",
       "      <td>Amazon_USA/health_and_beauty/hair_products/sha...</td>\n",
       "    </tr>\n",
       "    <tr>\n",
       "      <th>4</th>\n",
       "      <td>7.5</td>\n",
       "      <td>11.2</td>\n",
       "      <td>B00RWCDM4A</td>\n",
       "      <td>inches</td>\n",
       "      <td>196</td>\n",
       "      <td>4</td>\n",
       "      <td>ounces</td>\n",
       "      <td>14.1</td>\n",
       "      <td>ounces</td>\n",
       "      <td>72</td>\n",
       "      <td>11</td>\n",
       "      <td>6</td>\n",
       "      <td>3</td>\n",
       "      <td>8</td>\n",
       "      <td>3.8</td>\n",
       "      <td>3.3</td>\n",
       "      <td>3.4</td>\n",
       "      <td>regular shampoo&lt;CPT14&gt;Softness&lt;CPT14&gt;highly re...</td>\n",
       "      <td>Amazon_USA/health_and_beauty/hair_products/sha...</td>\n",
       "    </tr>\n",
       "  </tbody>\n",
       "</table>\n",
       "</div>"
      ],
      "text/plain": [
       "  product_height product_weight        asin pd_unit best_seller_cat  \\\n",
       "0            7.5           11.2  B00RWCDM4A  inches             196   \n",
       "1            2.2              8  B07D37PQGL  inches             190   \n",
       "2            7.5           11.2  B00RWCDM4A  inches             196   \n",
       "3            7.5           11.2  B00RWCDM4A  inches             196   \n",
       "4            7.5           11.2  B00RWCDM4A  inches             196   \n",
       "\n",
       "  best_seller_prod weight_unit shipping_weight shipping_weight_unit crr_5  \\\n",
       "0                4      ounces            14.1               ounces    72   \n",
       "1                2      ounces            10.6               ounces    83   \n",
       "2                4      ounces            14.1               ounces    72   \n",
       "3                4      ounces            14.1               ounces    72   \n",
       "4                4      ounces            14.1               ounces    72   \n",
       "\n",
       "  crr_4 crr_3 crr_2 crr_1 crr_fr_1 crr_fr_2 crr_fr_3  \\\n",
       "0    11     6     3     8      3.8      3.4      3.3   \n",
       "1     7     4     1     5      4.5      4.5      4.5   \n",
       "2    11     6     3     8      3.8      3.4      3.3   \n",
       "3    11     6     3     8      3.8      3.4      3.3   \n",
       "4    11     6     3     8      3.8      3.3      3.4   \n",
       "\n",
       "                                                tags  \\\n",
       "0  regular shampoo<CPT14>blonde hair<CPT14>dry ha...   \n",
       "1  shampoo and conditioner<CPT14>best shampoo<CPT...   \n",
       "2  regular shampoo<CPT14>Softness<CPT14>highly re...   \n",
       "3  regular shampoo<CPT14>Softness<CPT14>highly re...   \n",
       "4  regular shampoo<CPT14>Softness<CPT14>highly re...   \n",
       "\n",
       "                                         images_link  \n",
       "0  Amazon_USA/health_and_beauty/hair_products/sha...  \n",
       "1  Amazon_USA/health_and_beauty/hair_products/sha...  \n",
       "2  Amazon_USA/health_and_beauty/hair_products/sha...  \n",
       "3  Amazon_USA/health_and_beauty/hair_products/sha...  \n",
       "4  Amazon_USA/health_and_beauty/hair_products/sha...  "
      ]
     },
     "execution_count": 45,
     "metadata": {},
     "output_type": "execute_result"
    }
   ],
   "source": [
    "usa_shampoo.iloc[:,15:].head()"
   ]
  },
  {
   "cell_type": "code",
   "execution_count": 46,
   "metadata": {
    "ExecuteTime": {
     "end_time": "2020-04-10T08:51:51.750826Z",
     "start_time": "2020-04-10T08:51:51.739978Z"
    },
    "scrolled": true
   },
   "outputs": [
    {
     "name": "stderr",
     "output_type": "stream",
     "text": [
      "/home/ubuntu/miniconda3/lib/python3.7/site-packages/ipykernel_launcher.py:1: SettingWithCopyWarning:\n",
      "\n",
      "\n",
      "A value is trying to be set on a copy of a slice from a DataFrame.\n",
      "Try using .loc[row_indexer,col_indexer] = value instead\n",
      "\n",
      "See the caveats in the documentation: https://pandas.pydata.org/pandas-docs/stable/user_guide/indexing.html#returning-a-view-versus-a-copy\n",
      "\n",
      "/home/ubuntu/miniconda3/lib/python3.7/site-packages/ipykernel_launcher.py:2: SettingWithCopyWarning:\n",
      "\n",
      "\n",
      "A value is trying to be set on a copy of a slice from a DataFrame.\n",
      "Try using .loc[row_indexer,col_indexer] = value instead\n",
      "\n",
      "See the caveats in the documentation: https://pandas.pydata.org/pandas-docs/stable/user_guide/indexing.html#returning-a-view-versus-a-copy\n",
      "\n",
      "/home/ubuntu/miniconda3/lib/python3.7/site-packages/ipykernel_launcher.py:3: SettingWithCopyWarning:\n",
      "\n",
      "\n",
      "A value is trying to be set on a copy of a slice from a DataFrame.\n",
      "Try using .loc[row_indexer,col_indexer] = value instead\n",
      "\n",
      "See the caveats in the documentation: https://pandas.pydata.org/pandas-docs/stable/user_guide/indexing.html#returning-a-view-versus-a-copy\n",
      "\n"
     ]
    }
   ],
   "source": [
    "usa_shampoo['pd_unit'] = usa_shampoo['pd_unit'].astype('str')\n",
    "usa_shampoo['pd_unit'] = usa_shampoo['pd_unit'].str.replace('ounces','Not Scrapable')\n",
    "usa_shampoo['pd_unit'] = usa_shampoo['pd_unit'].str.replace('pounds','Not Scrapable')"
   ]
  },
  {
   "cell_type": "code",
   "execution_count": 47,
   "metadata": {
    "ExecuteTime": {
     "end_time": "2020-04-10T08:51:52.133052Z",
     "start_time": "2020-04-10T08:51:52.129848Z"
    }
   },
   "outputs": [
    {
     "data": {
      "text/plain": [
       "Index(['link', 'country', 'cat1', 'cat2', 'cat3', 'cat4', 'product',\n",
       "       'product_title', 'rating_star', 'overall_rating', 'company', 'price',\n",
       "       'product_highlights', 'product_length', 'product_width',\n",
       "       'product_height', 'product_weight', 'asin', 'pd_unit',\n",
       "       'best_seller_cat', 'best_seller_prod', 'weight_unit', 'shipping_weight',\n",
       "       'shipping_weight_unit', 'crr_5', 'crr_4', 'crr_3', 'crr_2', 'crr_1',\n",
       "       'crr_fr_1', 'crr_fr_2', 'crr_fr_3', 'tags', 'images_link'],\n",
       "      dtype='object')"
      ]
     },
     "execution_count": 47,
     "metadata": {},
     "output_type": "execute_result"
    }
   ],
   "source": [
    "usa_shampoo.columns"
   ]
  },
  {
   "cell_type": "code",
   "execution_count": 48,
   "metadata": {
    "ExecuteTime": {
     "end_time": "2020-04-10T08:51:52.542882Z",
     "start_time": "2020-04-10T08:51:52.504158Z"
    }
   },
   "outputs": [
    {
     "name": "stderr",
     "output_type": "stream",
     "text": [
      "/home/ubuntu/miniconda3/lib/python3.7/site-packages/ipykernel_launcher.py:1: SettingWithCopyWarning:\n",
      "\n",
      "\n",
      "A value is trying to be set on a copy of a slice from a DataFrame.\n",
      "Try using .loc[row_indexer,col_indexer] = value instead\n",
      "\n",
      "See the caveats in the documentation: https://pandas.pydata.org/pandas-docs/stable/user_guide/indexing.html#returning-a-view-versus-a-copy\n",
      "\n",
      "/home/ubuntu/miniconda3/lib/python3.7/site-packages/ipykernel_launcher.py:2: SettingWithCopyWarning:\n",
      "\n",
      "\n",
      "A value is trying to be set on a copy of a slice from a DataFrame.\n",
      "Try using .loc[row_indexer,col_indexer] = value instead\n",
      "\n",
      "See the caveats in the documentation: https://pandas.pydata.org/pandas-docs/stable/user_guide/indexing.html#returning-a-view-versus-a-copy\n",
      "\n",
      "/home/ubuntu/miniconda3/lib/python3.7/site-packages/ipykernel_launcher.py:3: SettingWithCopyWarning:\n",
      "\n",
      "\n",
      "A value is trying to be set on a copy of a slice from a DataFrame.\n",
      "Try using .loc[row_indexer,col_indexer] = value instead\n",
      "\n",
      "See the caveats in the documentation: https://pandas.pydata.org/pandas-docs/stable/user_guide/indexing.html#returning-a-view-versus-a-copy\n",
      "\n",
      "/home/ubuntu/miniconda3/lib/python3.7/site-packages/ipykernel_launcher.py:4: SettingWithCopyWarning:\n",
      "\n",
      "\n",
      "A value is trying to be set on a copy of a slice from a DataFrame.\n",
      "Try using .loc[row_indexer,col_indexer] = value instead\n",
      "\n",
      "See the caveats in the documentation: https://pandas.pydata.org/pandas-docs/stable/user_guide/indexing.html#returning-a-view-versus-a-copy\n",
      "\n",
      "/home/ubuntu/miniconda3/lib/python3.7/site-packages/ipykernel_launcher.py:5: SettingWithCopyWarning:\n",
      "\n",
      "\n",
      "A value is trying to be set on a copy of a slice from a DataFrame.\n",
      "Try using .loc[row_indexer,col_indexer] = value instead\n",
      "\n",
      "See the caveats in the documentation: https://pandas.pydata.org/pandas-docs/stable/user_guide/indexing.html#returning-a-view-versus-a-copy\n",
      "\n",
      "/home/ubuntu/miniconda3/lib/python3.7/site-packages/ipykernel_launcher.py:6: SettingWithCopyWarning:\n",
      "\n",
      "\n",
      "A value is trying to be set on a copy of a slice from a DataFrame.\n",
      "Try using .loc[row_indexer,col_indexer] = value instead\n",
      "\n",
      "See the caveats in the documentation: https://pandas.pydata.org/pandas-docs/stable/user_guide/indexing.html#returning-a-view-versus-a-copy\n",
      "\n",
      "/home/ubuntu/miniconda3/lib/python3.7/site-packages/ipykernel_launcher.py:7: SettingWithCopyWarning:\n",
      "\n",
      "\n",
      "A value is trying to be set on a copy of a slice from a DataFrame.\n",
      "Try using .loc[row_indexer,col_indexer] = value instead\n",
      "\n",
      "See the caveats in the documentation: https://pandas.pydata.org/pandas-docs/stable/user_guide/indexing.html#returning-a-view-versus-a-copy\n",
      "\n",
      "/home/ubuntu/miniconda3/lib/python3.7/site-packages/ipykernel_launcher.py:8: SettingWithCopyWarning:\n",
      "\n",
      "\n",
      "A value is trying to be set on a copy of a slice from a DataFrame.\n",
      "Try using .loc[row_indexer,col_indexer] = value instead\n",
      "\n",
      "See the caveats in the documentation: https://pandas.pydata.org/pandas-docs/stable/user_guide/indexing.html#returning-a-view-versus-a-copy\n",
      "\n",
      "/home/ubuntu/miniconda3/lib/python3.7/site-packages/ipykernel_launcher.py:9: SettingWithCopyWarning:\n",
      "\n",
      "\n",
      "A value is trying to be set on a copy of a slice from a DataFrame.\n",
      "Try using .loc[row_indexer,col_indexer] = value instead\n",
      "\n",
      "See the caveats in the documentation: https://pandas.pydata.org/pandas-docs/stable/user_guide/indexing.html#returning-a-view-versus-a-copy\n",
      "\n",
      "/home/ubuntu/miniconda3/lib/python3.7/site-packages/ipykernel_launcher.py:10: SettingWithCopyWarning:\n",
      "\n",
      "\n",
      "A value is trying to be set on a copy of a slice from a DataFrame.\n",
      "Try using .loc[row_indexer,col_indexer] = value instead\n",
      "\n",
      "See the caveats in the documentation: https://pandas.pydata.org/pandas-docs/stable/user_guide/indexing.html#returning-a-view-versus-a-copy\n",
      "\n",
      "/home/ubuntu/miniconda3/lib/python3.7/site-packages/ipykernel_launcher.py:11: SettingWithCopyWarning:\n",
      "\n",
      "\n",
      "A value is trying to be set on a copy of a slice from a DataFrame.\n",
      "Try using .loc[row_indexer,col_indexer] = value instead\n",
      "\n",
      "See the caveats in the documentation: https://pandas.pydata.org/pandas-docs/stable/user_guide/indexing.html#returning-a-view-versus-a-copy\n",
      "\n",
      "/home/ubuntu/miniconda3/lib/python3.7/site-packages/ipykernel_launcher.py:12: SettingWithCopyWarning:\n",
      "\n",
      "\n",
      "A value is trying to be set on a copy of a slice from a DataFrame.\n",
      "Try using .loc[row_indexer,col_indexer] = value instead\n",
      "\n",
      "See the caveats in the documentation: https://pandas.pydata.org/pandas-docs/stable/user_guide/indexing.html#returning-a-view-versus-a-copy\n",
      "\n",
      "/home/ubuntu/miniconda3/lib/python3.7/site-packages/ipykernel_launcher.py:13: SettingWithCopyWarning:\n",
      "\n",
      "\n",
      "A value is trying to be set on a copy of a slice from a DataFrame.\n",
      "Try using .loc[row_indexer,col_indexer] = value instead\n",
      "\n",
      "See the caveats in the documentation: https://pandas.pydata.org/pandas-docs/stable/user_guide/indexing.html#returning-a-view-versus-a-copy\n",
      "\n",
      "/home/ubuntu/miniconda3/lib/python3.7/site-packages/ipykernel_launcher.py:14: SettingWithCopyWarning:\n",
      "\n",
      "\n",
      "A value is trying to be set on a copy of a slice from a DataFrame.\n",
      "Try using .loc[row_indexer,col_indexer] = value instead\n",
      "\n",
      "See the caveats in the documentation: https://pandas.pydata.org/pandas-docs/stable/user_guide/indexing.html#returning-a-view-versus-a-copy\n",
      "\n",
      "/home/ubuntu/miniconda3/lib/python3.7/site-packages/ipykernel_launcher.py:15: SettingWithCopyWarning:\n",
      "\n",
      "\n",
      "A value is trying to be set on a copy of a slice from a DataFrame.\n",
      "Try using .loc[row_indexer,col_indexer] = value instead\n",
      "\n",
      "See the caveats in the documentation: https://pandas.pydata.org/pandas-docs/stable/user_guide/indexing.html#returning-a-view-versus-a-copy\n",
      "\n",
      "/home/ubuntu/miniconda3/lib/python3.7/site-packages/ipykernel_launcher.py:16: SettingWithCopyWarning:\n",
      "\n",
      "\n",
      "A value is trying to be set on a copy of a slice from a DataFrame.\n",
      "Try using .loc[row_indexer,col_indexer] = value instead\n",
      "\n",
      "See the caveats in the documentation: https://pandas.pydata.org/pandas-docs/stable/user_guide/indexing.html#returning-a-view-versus-a-copy\n",
      "\n"
     ]
    }
   ],
   "source": [
    "usa_shampoo['shipping_weight'] = usa_shampoo['shipping_weight'].astype('str')\n",
    "usa_shampoo['shipping_weight'] = usa_shampoo['shipping_weight'].str.replace('Not Scrapable','0')\n",
    "usa_shampoo['shipping_weight'] = usa_shampoo['shipping_weight'].str.replace(',','')\n",
    "usa_shampoo['shipping_weight'] = usa_shampoo['shipping_weight'].astype('float')\n",
    "usa_shampoo['product_length'] = usa_shampoo['product_length'].astype('str')\n",
    "usa_shampoo['product_length'] = usa_shampoo['product_length'].str.replace('Not Scrapable','0')\n",
    "usa_shampoo['product_length'] = usa_shampoo['product_length'].str.replace(',','')\n",
    "usa_shampoo['product_length'] = usa_shampoo['product_length'].astype('float')\n",
    "usa_shampoo['product_height'] = usa_shampoo['product_height'].astype('str')\n",
    "usa_shampoo['product_height'] = usa_shampoo['product_height'].str.replace('Not Scrapable','0')\n",
    "usa_shampoo['product_height'] = usa_shampoo['product_height'].str.replace(',','')\n",
    "usa_shampoo['product_height'] = usa_shampoo['product_height'].astype('float')\n",
    "usa_shampoo['product_width'] = usa_shampoo['product_width'].astype('str')\n",
    "usa_shampoo['product_width'] = usa_shampoo['product_width'].str.replace('Not Scrapable','0')\n",
    "usa_shampoo['product_width'] = usa_shampoo['product_width'].str.replace(',','')\n",
    "usa_shampoo['product_width'] = usa_shampoo['product_width'].astype('float')"
   ]
  },
  {
   "cell_type": "code",
   "execution_count": 49,
   "metadata": {
    "ExecuteTime": {
     "end_time": "2020-04-10T08:51:52.874419Z",
     "start_time": "2020-04-10T08:51:52.865052Z"
    }
   },
   "outputs": [
    {
     "data": {
      "text/html": [
       "<div>\n",
       "<style scoped>\n",
       "    .dataframe tbody tr th:only-of-type {\n",
       "        vertical-align: middle;\n",
       "    }\n",
       "\n",
       "    .dataframe tbody tr th {\n",
       "        vertical-align: top;\n",
       "    }\n",
       "\n",
       "    .dataframe thead th {\n",
       "        text-align: right;\n",
       "    }\n",
       "</style>\n",
       "<table border=\"1\" class=\"dataframe\">\n",
       "  <thead>\n",
       "    <tr style=\"text-align: right;\">\n",
       "      <th></th>\n",
       "      <th>shipping_weight</th>\n",
       "      <th>shipping_weight_unit</th>\n",
       "    </tr>\n",
       "  </thead>\n",
       "  <tbody>\n",
       "    <tr>\n",
       "      <th>0</th>\n",
       "      <td>14.1</td>\n",
       "      <td>ounces</td>\n",
       "    </tr>\n",
       "    <tr>\n",
       "      <th>1</th>\n",
       "      <td>10.6</td>\n",
       "      <td>ounces</td>\n",
       "    </tr>\n",
       "    <tr>\n",
       "      <th>2</th>\n",
       "      <td>14.1</td>\n",
       "      <td>ounces</td>\n",
       "    </tr>\n",
       "    <tr>\n",
       "      <th>3</th>\n",
       "      <td>14.1</td>\n",
       "      <td>ounces</td>\n",
       "    </tr>\n",
       "    <tr>\n",
       "      <th>4</th>\n",
       "      <td>14.1</td>\n",
       "      <td>ounces</td>\n",
       "    </tr>\n",
       "    <tr>\n",
       "      <th>...</th>\n",
       "      <td>...</td>\n",
       "      <td>...</td>\n",
       "    </tr>\n",
       "    <tr>\n",
       "      <th>3997</th>\n",
       "      <td>12.5</td>\n",
       "      <td>ounces</td>\n",
       "    </tr>\n",
       "    <tr>\n",
       "      <th>3998</th>\n",
       "      <td>7.2</td>\n",
       "      <td>ounces</td>\n",
       "    </tr>\n",
       "    <tr>\n",
       "      <th>3999</th>\n",
       "      <td>2.2</td>\n",
       "      <td>pounds</td>\n",
       "    </tr>\n",
       "    <tr>\n",
       "      <th>4000</th>\n",
       "      <td>10.4</td>\n",
       "      <td>ounces</td>\n",
       "    </tr>\n",
       "    <tr>\n",
       "      <th>4001</th>\n",
       "      <td>15.7</td>\n",
       "      <td>ounces</td>\n",
       "    </tr>\n",
       "  </tbody>\n",
       "</table>\n",
       "<p>4002 rows × 2 columns</p>\n",
       "</div>"
      ],
      "text/plain": [
       "      shipping_weight shipping_weight_unit\n",
       "0                14.1               ounces\n",
       "1                10.6               ounces\n",
       "2                14.1               ounces\n",
       "3                14.1               ounces\n",
       "4                14.1               ounces\n",
       "...               ...                  ...\n",
       "3997             12.5               ounces\n",
       "3998              7.2               ounces\n",
       "3999              2.2               pounds\n",
       "4000             10.4               ounces\n",
       "4001             15.7               ounces\n",
       "\n",
       "[4002 rows x 2 columns]"
      ]
     },
     "execution_count": 49,
     "metadata": {},
     "output_type": "execute_result"
    }
   ],
   "source": [
    "usa_shampoo.reset_index(inplace=True,drop=True)\n",
    "usa_shampoo[['shipping_weight','shipping_weight_unit']]"
   ]
  },
  {
   "cell_type": "code",
   "execution_count": 50,
   "metadata": {
    "ExecuteTime": {
     "end_time": "2020-04-10T08:51:53.826090Z",
     "start_time": "2020-04-10T08:51:53.249891Z"
    }
   },
   "outputs": [
    {
     "name": "stderr",
     "output_type": "stream",
     "text": [
      "/home/ubuntu/miniconda3/lib/python3.7/site-packages/pandas/core/indexing.py:965: SettingWithCopyWarning:\n",
      "\n",
      "\n",
      "A value is trying to be set on a copy of a slice from a DataFrame.\n",
      "Try using .loc[row_indexer,col_indexer] = value instead\n",
      "\n",
      "See the caveats in the documentation: https://pandas.pydata.org/pandas-docs/stable/user_guide/indexing.html#returning-a-view-versus-a-copy\n",
      "\n"
     ]
    }
   ],
   "source": [
    "#3998:2.2\n",
    "for i in range(len(usa_shampoo)):\n",
    "    if usa_shampoo.loc[i,'shipping_weight_unit'] == 'pounds':\n",
    "        usa_shampoo.loc[i,'shipping_weight'] = usa_shampoo.loc[i,'shipping_weight']*16\n",
    "    else:\n",
    "        pass"
   ]
  },
  {
   "cell_type": "code",
   "execution_count": 51,
   "metadata": {
    "ExecuteTime": {
     "end_time": "2020-04-10T08:51:53.829644Z",
     "start_time": "2020-04-10T08:51:53.827159Z"
    }
   },
   "outputs": [],
   "source": [
    "usa_shampoo_impute = usa_shampoo[['shipping_weight','product_length','product_width','product_height']]"
   ]
  },
  {
   "cell_type": "code",
   "execution_count": 52,
   "metadata": {
    "ExecuteTime": {
     "end_time": "2020-04-10T08:51:54.552463Z",
     "start_time": "2020-04-10T08:51:54.184254Z"
    }
   },
   "outputs": [],
   "source": [
    "#Imputation\n",
    "imputer = KNNImputer(missing_values=0,n_neighbors=10)\n",
    "usa_shampoo_impute = imputer.fit_transform(usa_shampoo_impute)\n",
    "usa_shampoo_impute = pd.DataFrame(usa_shampoo_impute,columns=['shipping_weight','product_length','product_width','product_height'])"
   ]
  },
  {
   "cell_type": "code",
   "execution_count": 53,
   "metadata": {
    "ExecuteTime": {
     "end_time": "2020-04-10T08:51:54.689819Z",
     "start_time": "2020-04-10T08:51:54.684642Z"
    },
    "scrolled": true
   },
   "outputs": [
    {
     "name": "stderr",
     "output_type": "stream",
     "text": [
      "/home/ubuntu/miniconda3/lib/python3.7/site-packages/ipykernel_launcher.py:1: SettingWithCopyWarning:\n",
      "\n",
      "\n",
      "A value is trying to be set on a copy of a slice from a DataFrame.\n",
      "Try using .loc[row_indexer,col_indexer] = value instead\n",
      "\n",
      "See the caveats in the documentation: https://pandas.pydata.org/pandas-docs/stable/user_guide/indexing.html#returning-a-view-versus-a-copy\n",
      "\n",
      "/home/ubuntu/miniconda3/lib/python3.7/site-packages/ipykernel_launcher.py:2: SettingWithCopyWarning:\n",
      "\n",
      "\n",
      "A value is trying to be set on a copy of a slice from a DataFrame.\n",
      "Try using .loc[row_indexer,col_indexer] = value instead\n",
      "\n",
      "See the caveats in the documentation: https://pandas.pydata.org/pandas-docs/stable/user_guide/indexing.html#returning-a-view-versus-a-copy\n",
      "\n",
      "/home/ubuntu/miniconda3/lib/python3.7/site-packages/ipykernel_launcher.py:3: SettingWithCopyWarning:\n",
      "\n",
      "\n",
      "A value is trying to be set on a copy of a slice from a DataFrame.\n",
      "Try using .loc[row_indexer,col_indexer] = value instead\n",
      "\n",
      "See the caveats in the documentation: https://pandas.pydata.org/pandas-docs/stable/user_guide/indexing.html#returning-a-view-versus-a-copy\n",
      "\n",
      "/home/ubuntu/miniconda3/lib/python3.7/site-packages/ipykernel_launcher.py:4: SettingWithCopyWarning:\n",
      "\n",
      "\n",
      "A value is trying to be set on a copy of a slice from a DataFrame.\n",
      "Try using .loc[row_indexer,col_indexer] = value instead\n",
      "\n",
      "See the caveats in the documentation: https://pandas.pydata.org/pandas-docs/stable/user_guide/indexing.html#returning-a-view-versus-a-copy\n",
      "\n",
      "/home/ubuntu/miniconda3/lib/python3.7/site-packages/ipykernel_launcher.py:5: SettingWithCopyWarning:\n",
      "\n",
      "\n",
      "A value is trying to be set on a copy of a slice from a DataFrame.\n",
      "Try using .loc[row_indexer,col_indexer] = value instead\n",
      "\n",
      "See the caveats in the documentation: https://pandas.pydata.org/pandas-docs/stable/user_guide/indexing.html#returning-a-view-versus-a-copy\n",
      "\n",
      "/home/ubuntu/miniconda3/lib/python3.7/site-packages/ipykernel_launcher.py:6: SettingWithCopyWarning:\n",
      "\n",
      "\n",
      "A value is trying to be set on a copy of a slice from a DataFrame.\n",
      "Try using .loc[row_indexer,col_indexer] = value instead\n",
      "\n",
      "See the caveats in the documentation: https://pandas.pydata.org/pandas-docs/stable/user_guide/indexing.html#returning-a-view-versus-a-copy\n",
      "\n"
     ]
    }
   ],
   "source": [
    "usa_shampoo['shipping_weight'] = usa_shampoo_impute['shipping_weight']\n",
    "usa_shampoo['product_length'] = usa_shampoo_impute['product_length']\n",
    "usa_shampoo['product_width'] = usa_shampoo_impute['product_width']\n",
    "usa_shampoo['product_height'] = usa_shampoo_impute['product_height']\n",
    "usa_shampoo['pd_unit'] = 'inches'\n",
    "usa_shampoo['shipping_weight_unit'] = 'ounces'"
   ]
  },
  {
   "cell_type": "code",
   "execution_count": 54,
   "metadata": {
    "ExecuteTime": {
     "end_time": "2020-04-10T08:51:55.276427Z",
     "start_time": "2020-04-10T08:51:55.272786Z"
    }
   },
   "outputs": [
    {
     "data": {
      "text/plain": [
       "Counter({'ounces': 4002})"
      ]
     },
     "execution_count": 54,
     "metadata": {},
     "output_type": "execute_result"
    }
   ],
   "source": [
    "Counter(usa_shampoo['shipping_weight_unit'])"
   ]
  },
  {
   "cell_type": "code",
   "execution_count": 55,
   "metadata": {
    "ExecuteTime": {
     "end_time": "2020-04-10T08:51:56.096717Z",
     "start_time": "2020-04-10T08:51:56.089348Z"
    }
   },
   "outputs": [
    {
     "data": {
      "text/plain": [
       "Counter({'ounces': 1834, 'pounds': 1032, 'Not Scrapable': 1136})"
      ]
     },
     "execution_count": 55,
     "metadata": {},
     "output_type": "execute_result"
    }
   ],
   "source": [
    "Counter(usa_shampoo['weight_unit'])"
   ]
  },
  {
   "cell_type": "code",
   "execution_count": 56,
   "metadata": {
    "ExecuteTime": {
     "end_time": "2020-04-10T08:51:56.567995Z",
     "start_time": "2020-04-10T08:51:56.564292Z"
    }
   },
   "outputs": [
    {
     "data": {
      "text/plain": [
       "Counter({'inches': 4002})"
      ]
     },
     "execution_count": 56,
     "metadata": {},
     "output_type": "execute_result"
    }
   ],
   "source": [
    "Counter(usa_shampoo['pd_unit'])"
   ]
  },
  {
   "cell_type": "code",
   "execution_count": 57,
   "metadata": {
    "ExecuteTime": {
     "end_time": "2020-04-10T08:51:57.208462Z",
     "start_time": "2020-04-10T08:51:57.204090Z"
    }
   },
   "outputs": [],
   "source": [
    "usa_shampoo_input = usa_shampoo[['asin','product_title',\n",
    "                                 'product_length',\n",
    "                                 'product_height',\n",
    "                                 'product_width',\n",
    "                                 'shipping_weight']]\n",
    "usa_shampoo_input.reset_index(inplace=True)"
   ]
  },
  {
   "cell_type": "code",
   "execution_count": 58,
   "metadata": {
    "ExecuteTime": {
     "end_time": "2020-04-10T08:51:57.845551Z",
     "start_time": "2020-04-10T08:51:57.836778Z"
    }
   },
   "outputs": [
    {
     "data": {
      "text/html": [
       "<div>\n",
       "<style scoped>\n",
       "    .dataframe tbody tr th:only-of-type {\n",
       "        vertical-align: middle;\n",
       "    }\n",
       "\n",
       "    .dataframe tbody tr th {\n",
       "        vertical-align: top;\n",
       "    }\n",
       "\n",
       "    .dataframe thead th {\n",
       "        text-align: right;\n",
       "    }\n",
       "</style>\n",
       "<table border=\"1\" class=\"dataframe\">\n",
       "  <thead>\n",
       "    <tr style=\"text-align: right;\">\n",
       "      <th></th>\n",
       "      <th>index</th>\n",
       "      <th>asin</th>\n",
       "      <th>product_title</th>\n",
       "      <th>product_length</th>\n",
       "      <th>product_height</th>\n",
       "      <th>product_width</th>\n",
       "      <th>shipping_weight</th>\n",
       "    </tr>\n",
       "  </thead>\n",
       "  <tbody>\n",
       "    <tr>\n",
       "      <th>0</th>\n",
       "      <td>0</td>\n",
       "      <td>B00RWCDM4A</td>\n",
       "      <td>Fanola No Yellow Shampoo, 11.8 Fl Oz</td>\n",
       "      <td>2.4</td>\n",
       "      <td>7.5</td>\n",
       "      <td>2.8</td>\n",
       "      <td>14.1</td>\n",
       "    </tr>\n",
       "    <tr>\n",
       "      <th>1</th>\n",
       "      <td>1</td>\n",
       "      <td>B07D37PQGL</td>\n",
       "      <td>Olaplex No.4 Bond Maintenance Shampoo, 8.5 Fl oz</td>\n",
       "      <td>5.2</td>\n",
       "      <td>2.2</td>\n",
       "      <td>2.2</td>\n",
       "      <td>10.6</td>\n",
       "    </tr>\n",
       "    <tr>\n",
       "      <th>2</th>\n",
       "      <td>2</td>\n",
       "      <td>B00RWCDM4A</td>\n",
       "      <td>Fanola No Yellow Shampoo, 11.8 Fl Oz</td>\n",
       "      <td>2.4</td>\n",
       "      <td>7.5</td>\n",
       "      <td>2.8</td>\n",
       "      <td>14.1</td>\n",
       "    </tr>\n",
       "    <tr>\n",
       "      <th>3</th>\n",
       "      <td>3</td>\n",
       "      <td>B00RWCDM4A</td>\n",
       "      <td>Fanola No Yellow Shampoo, 11.8 Fl Oz</td>\n",
       "      <td>2.4</td>\n",
       "      <td>7.5</td>\n",
       "      <td>2.8</td>\n",
       "      <td>14.1</td>\n",
       "    </tr>\n",
       "    <tr>\n",
       "      <th>4</th>\n",
       "      <td>4</td>\n",
       "      <td>B00RWCDM4A</td>\n",
       "      <td>Fanola No Yellow Shampoo, 11.8 Fl Oz</td>\n",
       "      <td>2.4</td>\n",
       "      <td>7.5</td>\n",
       "      <td>2.8</td>\n",
       "      <td>14.1</td>\n",
       "    </tr>\n",
       "  </tbody>\n",
       "</table>\n",
       "</div>"
      ],
      "text/plain": [
       "   index        asin                                     product_title  \\\n",
       "0      0  B00RWCDM4A              Fanola No Yellow Shampoo, 11.8 Fl Oz   \n",
       "1      1  B07D37PQGL  Olaplex No.4 Bond Maintenance Shampoo, 8.5 Fl oz   \n",
       "2      2  B00RWCDM4A              Fanola No Yellow Shampoo, 11.8 Fl Oz   \n",
       "3      3  B00RWCDM4A              Fanola No Yellow Shampoo, 11.8 Fl Oz   \n",
       "4      4  B00RWCDM4A              Fanola No Yellow Shampoo, 11.8 Fl Oz   \n",
       "\n",
       "   product_length  product_height  product_width  shipping_weight  \n",
       "0             2.4             7.5            2.8             14.1  \n",
       "1             5.2             2.2            2.2             10.6  \n",
       "2             2.4             7.5            2.8             14.1  \n",
       "3             2.4             7.5            2.8             14.1  \n",
       "4             2.4             7.5            2.8             14.1  "
      ]
     },
     "execution_count": 58,
     "metadata": {},
     "output_type": "execute_result"
    }
   ],
   "source": [
    "usa_shampoo_input.head()"
   ]
  },
  {
   "cell_type": "code",
   "execution_count": 59,
   "metadata": {
    "ExecuteTime": {
     "end_time": "2020-04-10T08:51:58.528753Z",
     "start_time": "2020-04-10T08:51:58.524035Z"
    }
   },
   "outputs": [],
   "source": [
    "usa_shampoo_features = usa_shampoo[['asin','product_title','rating_star',\n",
    "                                    'overall_rating','best_seller_cat',\n",
    "                                    'best_seller_prod','crr_5', 'crr_4', \n",
    "                                    'crr_3','crr_2','crr_1', 'crr_fr_1', \n",
    "                                    'crr_fr_2', 'crr_fr_3']]\n",
    "usa_shampoo_features.reset_index(inplace=True)"
   ]
  },
  {
   "cell_type": "code",
   "execution_count": 60,
   "metadata": {
    "ExecuteTime": {
     "end_time": "2020-04-10T08:51:59.233273Z",
     "start_time": "2020-04-10T08:51:59.231122Z"
    }
   },
   "outputs": [],
   "source": [
    "shampoo_images_link = '/home/jishu/sql/database/Amazon_USA/health_and_beauty/hair_products/shampoo/images/'\n",
    "os.chdir(os.path.join(shampoo_images_link))"
   ]
  },
  {
   "cell_type": "code",
   "execution_count": 61,
   "metadata": {
    "ExecuteTime": {
     "end_time": "2020-04-10T08:52:01.812417Z",
     "start_time": "2020-04-10T08:52:01.809584Z"
    }
   },
   "outputs": [],
   "source": [
    "def load_image(infilename) :\n",
    "    img = cv2.imread(infilename)\n",
    "    target_size = (128,128)\n",
    "    data = cv2.resize(img, target_size)\n",
    "    return data"
   ]
  },
  {
   "cell_type": "code",
   "execution_count": 62,
   "metadata": {
    "ExecuteTime": {
     "end_time": "2020-04-10T08:52:16.870686Z",
     "start_time": "2020-04-10T08:52:08.397470Z"
    }
   },
   "outputs": [],
   "source": [
    "images = []\n",
    "fails = []\n",
    "for image in range(len(usa_shampoo_features)):\n",
    "    try:\n",
    "        images.append(load_image(shampoo_images_link+usa_shampoo_features['asin'][image]+'_0.jpg'))\n",
    "    except:\n",
    "        try:\n",
    "            images.append(load_image(shampoo_images_link+usa_shampoo_features['product_title'][image]+'_0.jpg'))\n",
    "        except:\n",
    "            fails.append(image)"
   ]
  },
  {
   "cell_type": "code",
   "execution_count": 63,
   "metadata": {
    "ExecuteTime": {
     "end_time": "2020-04-10T08:52:19.543302Z",
     "start_time": "2020-04-10T08:52:19.536464Z"
    },
    "scrolled": true
   },
   "outputs": [
    {
     "name": "stderr",
     "output_type": "stream",
     "text": [
      "/home/ubuntu/miniconda3/lib/python3.7/site-packages/pandas/core/frame.py:3997: SettingWithCopyWarning:\n",
      "\n",
      "\n",
      "A value is trying to be set on a copy of a slice from a DataFrame\n",
      "\n",
      "See the caveats in the documentation: https://pandas.pydata.org/pandas-docs/stable/user_guide/indexing.html#returning-a-view-versus-a-copy\n",
      "\n"
     ]
    }
   ],
   "source": [
    "for i in fails:\n",
    "    usa_shampoo_features.drop(index=i,axis=0,inplace=True)\n",
    "    usa_shampoo_input.drop(index=i,axis=0,inplace=True)"
   ]
  },
  {
   "cell_type": "code",
   "execution_count": 64,
   "metadata": {
    "ExecuteTime": {
     "end_time": "2020-04-10T08:52:22.426908Z",
     "start_time": "2020-04-10T08:52:22.424377Z"
    }
   },
   "outputs": [],
   "source": [
    "feature_columns = ['rating_star', 'overall_rating',\n",
    "       'best_seller_cat', 'best_seller_prod', 'crr_5', 'crr_4', 'crr_3',\n",
    "       'crr_2', 'crr_1', 'crr_fr_1', 'crr_fr_2', 'crr_fr_3']"
   ]
  },
  {
   "cell_type": "code",
   "execution_count": 65,
   "metadata": {
    "ExecuteTime": {
     "end_time": "2020-04-10T08:52:22.973738Z",
     "start_time": "2020-04-10T08:52:22.953879Z"
    },
    "scrolled": true
   },
   "outputs": [
    {
     "name": "stderr",
     "output_type": "stream",
     "text": [
      "/home/ubuntu/miniconda3/lib/python3.7/site-packages/ipykernel_launcher.py:1: SettingWithCopyWarning:\n",
      "\n",
      "\n",
      "A value is trying to be set on a copy of a slice from a DataFrame.\n",
      "Try using .loc[row_indexer,col_indexer] = value instead\n",
      "\n",
      "See the caveats in the documentation: https://pandas.pydata.org/pandas-docs/stable/user_guide/indexing.html#returning-a-view-versus-a-copy\n",
      "\n",
      "/home/ubuntu/miniconda3/lib/python3.7/site-packages/ipykernel_launcher.py:2: SettingWithCopyWarning:\n",
      "\n",
      "\n",
      "A value is trying to be set on a copy of a slice from a DataFrame.\n",
      "Try using .loc[row_indexer,col_indexer] = value instead\n",
      "\n",
      "See the caveats in the documentation: https://pandas.pydata.org/pandas-docs/stable/user_guide/indexing.html#returning-a-view-versus-a-copy\n",
      "\n",
      "/home/ubuntu/miniconda3/lib/python3.7/site-packages/ipykernel_launcher.py:3: SettingWithCopyWarning:\n",
      "\n",
      "\n",
      "A value is trying to be set on a copy of a slice from a DataFrame.\n",
      "Try using .loc[row_indexer,col_indexer] = value instead\n",
      "\n",
      "See the caveats in the documentation: https://pandas.pydata.org/pandas-docs/stable/user_guide/indexing.html#returning-a-view-versus-a-copy\n",
      "\n",
      "/home/ubuntu/miniconda3/lib/python3.7/site-packages/ipykernel_launcher.py:4: SettingWithCopyWarning:\n",
      "\n",
      "\n",
      "A value is trying to be set on a copy of a slice from a DataFrame.\n",
      "Try using .loc[row_indexer,col_indexer] = value instead\n",
      "\n",
      "See the caveats in the documentation: https://pandas.pydata.org/pandas-docs/stable/user_guide/indexing.html#returning-a-view-versus-a-copy\n",
      "\n",
      "/home/ubuntu/miniconda3/lib/python3.7/site-packages/ipykernel_launcher.py:5: SettingWithCopyWarning:\n",
      "\n",
      "\n",
      "A value is trying to be set on a copy of a slice from a DataFrame.\n",
      "Try using .loc[row_indexer,col_indexer] = value instead\n",
      "\n",
      "See the caveats in the documentation: https://pandas.pydata.org/pandas-docs/stable/user_guide/indexing.html#returning-a-view-versus-a-copy\n",
      "\n",
      "/home/ubuntu/miniconda3/lib/python3.7/site-packages/ipykernel_launcher.py:6: SettingWithCopyWarning:\n",
      "\n",
      "\n",
      "A value is trying to be set on a copy of a slice from a DataFrame.\n",
      "Try using .loc[row_indexer,col_indexer] = value instead\n",
      "\n",
      "See the caveats in the documentation: https://pandas.pydata.org/pandas-docs/stable/user_guide/indexing.html#returning-a-view-versus-a-copy\n",
      "\n",
      "/home/ubuntu/miniconda3/lib/python3.7/site-packages/ipykernel_launcher.py:7: SettingWithCopyWarning:\n",
      "\n",
      "\n",
      "A value is trying to be set on a copy of a slice from a DataFrame.\n",
      "Try using .loc[row_indexer,col_indexer] = value instead\n",
      "\n",
      "See the caveats in the documentation: https://pandas.pydata.org/pandas-docs/stable/user_guide/indexing.html#returning-a-view-versus-a-copy\n",
      "\n",
      "/home/ubuntu/miniconda3/lib/python3.7/site-packages/ipykernel_launcher.py:8: SettingWithCopyWarning:\n",
      "\n",
      "\n",
      "A value is trying to be set on a copy of a slice from a DataFrame.\n",
      "Try using .loc[row_indexer,col_indexer] = value instead\n",
      "\n",
      "See the caveats in the documentation: https://pandas.pydata.org/pandas-docs/stable/user_guide/indexing.html#returning-a-view-versus-a-copy\n",
      "\n",
      "/home/ubuntu/miniconda3/lib/python3.7/site-packages/ipykernel_launcher.py:9: SettingWithCopyWarning:\n",
      "\n",
      "\n",
      "A value is trying to be set on a copy of a slice from a DataFrame.\n",
      "Try using .loc[row_indexer,col_indexer] = value instead\n",
      "\n",
      "See the caveats in the documentation: https://pandas.pydata.org/pandas-docs/stable/user_guide/indexing.html#returning-a-view-versus-a-copy\n",
      "\n",
      "/home/ubuntu/miniconda3/lib/python3.7/site-packages/ipykernel_launcher.py:10: SettingWithCopyWarning:\n",
      "\n",
      "\n",
      "A value is trying to be set on a copy of a slice from a DataFrame.\n",
      "Try using .loc[row_indexer,col_indexer] = value instead\n",
      "\n",
      "See the caveats in the documentation: https://pandas.pydata.org/pandas-docs/stable/user_guide/indexing.html#returning-a-view-versus-a-copy\n",
      "\n",
      "/home/ubuntu/miniconda3/lib/python3.7/site-packages/ipykernel_launcher.py:11: SettingWithCopyWarning:\n",
      "\n",
      "\n",
      "A value is trying to be set on a copy of a slice from a DataFrame.\n",
      "Try using .loc[row_indexer,col_indexer] = value instead\n",
      "\n",
      "See the caveats in the documentation: https://pandas.pydata.org/pandas-docs/stable/user_guide/indexing.html#returning-a-view-versus-a-copy\n",
      "\n",
      "/home/ubuntu/miniconda3/lib/python3.7/site-packages/ipykernel_launcher.py:12: SettingWithCopyWarning:\n",
      "\n",
      "\n",
      "A value is trying to be set on a copy of a slice from a DataFrame.\n",
      "Try using .loc[row_indexer,col_indexer] = value instead\n",
      "\n",
      "See the caveats in the documentation: https://pandas.pydata.org/pandas-docs/stable/user_guide/indexing.html#returning-a-view-versus-a-copy\n",
      "\n"
     ]
    }
   ],
   "source": [
    "usa_shampoo_features['rating_star'] = usa_shampoo_features['rating_star'].astype('str')\n",
    "usa_shampoo_features['overall_rating'] = usa_shampoo_features['overall_rating'].astype('str')\n",
    "usa_shampoo_features['best_seller_cat'] = usa_shampoo_features['best_seller_cat'].astype('str')\n",
    "usa_shampoo_features['best_seller_prod'] = usa_shampoo_features['best_seller_prod'].astype('str')\n",
    "usa_shampoo_features['crr_5'] = usa_shampoo_features['crr_5'].astype('str')\n",
    "usa_shampoo_features['crr_4'] = usa_shampoo_features['crr_4'].astype('str')\n",
    "usa_shampoo_features['crr_3'] = usa_shampoo_features['crr_3'].astype('str')\n",
    "usa_shampoo_features['crr_2'] = usa_shampoo_features['crr_2'].astype('str')\n",
    "usa_shampoo_features['crr_1'] = usa_shampoo_features['crr_1'].astype('str')\n",
    "usa_shampoo_features['crr_fr_1'] = usa_shampoo_features['crr_fr_1'].astype('str')\n",
    "usa_shampoo_features['crr_fr_2'] = usa_shampoo_features['crr_fr_2'].astype('str')\n",
    "usa_shampoo_features['crr_fr_3'] = usa_shampoo_features['crr_fr_3'].astype('str')"
   ]
  },
  {
   "cell_type": "code",
   "execution_count": 66,
   "metadata": {
    "ExecuteTime": {
     "end_time": "2020-04-10T08:52:25.031980Z",
     "start_time": "2020-04-10T08:52:24.982946Z"
    },
    "scrolled": true
   },
   "outputs": [
    {
     "name": "stdout",
     "output_type": "stream",
     "text": [
      "rating_star\n",
      "overall_rating\n",
      "best_seller_cat\n",
      "best_seller_prod\n",
      "crr_5\n",
      "crr_4\n",
      "crr_3\n",
      "crr_2\n",
      "crr_1\n",
      "crr_fr_1\n",
      "crr_fr_2\n",
      "crr_fr_3\n"
     ]
    },
    {
     "name": "stderr",
     "output_type": "stream",
     "text": [
      "/home/ubuntu/miniconda3/lib/python3.7/site-packages/ipykernel_launcher.py:3: SettingWithCopyWarning:\n",
      "\n",
      "\n",
      "A value is trying to be set on a copy of a slice from a DataFrame.\n",
      "Try using .loc[row_indexer,col_indexer] = value instead\n",
      "\n",
      "See the caveats in the documentation: https://pandas.pydata.org/pandas-docs/stable/user_guide/indexing.html#returning-a-view-versus-a-copy\n",
      "\n",
      "/home/ubuntu/miniconda3/lib/python3.7/site-packages/ipykernel_launcher.py:4: SettingWithCopyWarning:\n",
      "\n",
      "\n",
      "A value is trying to be set on a copy of a slice from a DataFrame.\n",
      "Try using .loc[row_indexer,col_indexer] = value instead\n",
      "\n",
      "See the caveats in the documentation: https://pandas.pydata.org/pandas-docs/stable/user_guide/indexing.html#returning-a-view-versus-a-copy\n",
      "\n"
     ]
    }
   ],
   "source": [
    "for column in feature_columns:\n",
    "    print(column)\n",
    "    usa_shampoo_features[column] = usa_shampoo_features[column].str.replace('Not Scrapable','0')\n",
    "    usa_shampoo_features[column] = usa_shampoo_features[column].str.replace(',','')"
   ]
  },
  {
   "cell_type": "code",
   "execution_count": 67,
   "metadata": {
    "ExecuteTime": {
     "end_time": "2020-04-10T08:52:27.367148Z",
     "start_time": "2020-04-10T08:52:27.344860Z"
    },
    "scrolled": true
   },
   "outputs": [
    {
     "name": "stderr",
     "output_type": "stream",
     "text": [
      "/home/ubuntu/miniconda3/lib/python3.7/site-packages/ipykernel_launcher.py:1: SettingWithCopyWarning:\n",
      "\n",
      "\n",
      "A value is trying to be set on a copy of a slice from a DataFrame.\n",
      "Try using .loc[row_indexer,col_indexer] = value instead\n",
      "\n",
      "See the caveats in the documentation: https://pandas.pydata.org/pandas-docs/stable/user_guide/indexing.html#returning-a-view-versus-a-copy\n",
      "\n",
      "/home/ubuntu/miniconda3/lib/python3.7/site-packages/ipykernel_launcher.py:2: SettingWithCopyWarning:\n",
      "\n",
      "\n",
      "A value is trying to be set on a copy of a slice from a DataFrame.\n",
      "Try using .loc[row_indexer,col_indexer] = value instead\n",
      "\n",
      "See the caveats in the documentation: https://pandas.pydata.org/pandas-docs/stable/user_guide/indexing.html#returning-a-view-versus-a-copy\n",
      "\n",
      "/home/ubuntu/miniconda3/lib/python3.7/site-packages/ipykernel_launcher.py:3: SettingWithCopyWarning:\n",
      "\n",
      "\n",
      "A value is trying to be set on a copy of a slice from a DataFrame.\n",
      "Try using .loc[row_indexer,col_indexer] = value instead\n",
      "\n",
      "See the caveats in the documentation: https://pandas.pydata.org/pandas-docs/stable/user_guide/indexing.html#returning-a-view-versus-a-copy\n",
      "\n",
      "/home/ubuntu/miniconda3/lib/python3.7/site-packages/ipykernel_launcher.py:4: SettingWithCopyWarning:\n",
      "\n",
      "\n",
      "A value is trying to be set on a copy of a slice from a DataFrame.\n",
      "Try using .loc[row_indexer,col_indexer] = value instead\n",
      "\n",
      "See the caveats in the documentation: https://pandas.pydata.org/pandas-docs/stable/user_guide/indexing.html#returning-a-view-versus-a-copy\n",
      "\n",
      "/home/ubuntu/miniconda3/lib/python3.7/site-packages/ipykernel_launcher.py:5: SettingWithCopyWarning:\n",
      "\n",
      "\n",
      "A value is trying to be set on a copy of a slice from a DataFrame.\n",
      "Try using .loc[row_indexer,col_indexer] = value instead\n",
      "\n",
      "See the caveats in the documentation: https://pandas.pydata.org/pandas-docs/stable/user_guide/indexing.html#returning-a-view-versus-a-copy\n",
      "\n",
      "/home/ubuntu/miniconda3/lib/python3.7/site-packages/ipykernel_launcher.py:6: SettingWithCopyWarning:\n",
      "\n",
      "\n",
      "A value is trying to be set on a copy of a slice from a DataFrame.\n",
      "Try using .loc[row_indexer,col_indexer] = value instead\n",
      "\n",
      "See the caveats in the documentation: https://pandas.pydata.org/pandas-docs/stable/user_guide/indexing.html#returning-a-view-versus-a-copy\n",
      "\n",
      "/home/ubuntu/miniconda3/lib/python3.7/site-packages/ipykernel_launcher.py:7: SettingWithCopyWarning:\n",
      "\n",
      "\n",
      "A value is trying to be set on a copy of a slice from a DataFrame.\n",
      "Try using .loc[row_indexer,col_indexer] = value instead\n",
      "\n",
      "See the caveats in the documentation: https://pandas.pydata.org/pandas-docs/stable/user_guide/indexing.html#returning-a-view-versus-a-copy\n",
      "\n",
      "/home/ubuntu/miniconda3/lib/python3.7/site-packages/ipykernel_launcher.py:8: SettingWithCopyWarning:\n",
      "\n",
      "\n",
      "A value is trying to be set on a copy of a slice from a DataFrame.\n",
      "Try using .loc[row_indexer,col_indexer] = value instead\n",
      "\n",
      "See the caveats in the documentation: https://pandas.pydata.org/pandas-docs/stable/user_guide/indexing.html#returning-a-view-versus-a-copy\n",
      "\n",
      "/home/ubuntu/miniconda3/lib/python3.7/site-packages/ipykernel_launcher.py:9: SettingWithCopyWarning:\n",
      "\n",
      "\n",
      "A value is trying to be set on a copy of a slice from a DataFrame.\n",
      "Try using .loc[row_indexer,col_indexer] = value instead\n",
      "\n",
      "See the caveats in the documentation: https://pandas.pydata.org/pandas-docs/stable/user_guide/indexing.html#returning-a-view-versus-a-copy\n",
      "\n",
      "/home/ubuntu/miniconda3/lib/python3.7/site-packages/ipykernel_launcher.py:10: SettingWithCopyWarning:\n",
      "\n",
      "\n",
      "A value is trying to be set on a copy of a slice from a DataFrame.\n",
      "Try using .loc[row_indexer,col_indexer] = value instead\n",
      "\n",
      "See the caveats in the documentation: https://pandas.pydata.org/pandas-docs/stable/user_guide/indexing.html#returning-a-view-versus-a-copy\n",
      "\n",
      "/home/ubuntu/miniconda3/lib/python3.7/site-packages/ipykernel_launcher.py:11: SettingWithCopyWarning:\n",
      "\n",
      "\n",
      "A value is trying to be set on a copy of a slice from a DataFrame.\n",
      "Try using .loc[row_indexer,col_indexer] = value instead\n",
      "\n",
      "See the caveats in the documentation: https://pandas.pydata.org/pandas-docs/stable/user_guide/indexing.html#returning-a-view-versus-a-copy\n",
      "\n",
      "/home/ubuntu/miniconda3/lib/python3.7/site-packages/ipykernel_launcher.py:12: SettingWithCopyWarning:\n",
      "\n",
      "\n",
      "A value is trying to be set on a copy of a slice from a DataFrame.\n",
      "Try using .loc[row_indexer,col_indexer] = value instead\n",
      "\n",
      "See the caveats in the documentation: https://pandas.pydata.org/pandas-docs/stable/user_guide/indexing.html#returning-a-view-versus-a-copy\n",
      "\n"
     ]
    }
   ],
   "source": [
    "usa_shampoo_features['rating_star'] = usa_shampoo_features['rating_star'].astype('float')\n",
    "usa_shampoo_features['overall_rating'] = usa_shampoo_features['overall_rating'].astype('float')\n",
    "usa_shampoo_features['best_seller_cat'] = usa_shampoo_features['best_seller_cat'].astype('float')\n",
    "usa_shampoo_features['best_seller_prod'] = usa_shampoo_features['best_seller_prod'].astype('float')\n",
    "usa_shampoo_features['crr_5'] = usa_shampoo_features['crr_5'].astype('float')\n",
    "usa_shampoo_features['crr_4'] = usa_shampoo_features['crr_4'].astype('float')\n",
    "usa_shampoo_features['crr_3'] = usa_shampoo_features['crr_3'].astype('float')\n",
    "usa_shampoo_features['crr_2'] = usa_shampoo_features['crr_2'].astype('float')\n",
    "usa_shampoo_features['crr_1'] = usa_shampoo_features['crr_1'].astype('float')\n",
    "usa_shampoo_features['crr_fr_1'] = usa_shampoo_features['crr_fr_1'].astype('float')\n",
    "usa_shampoo_features['crr_fr_2'] = usa_shampoo_features['crr_fr_2'].astype('float')\n",
    "usa_shampoo_features['crr_fr_3'] = usa_shampoo_features['crr_fr_3'].astype('float')"
   ]
  },
  {
   "cell_type": "code",
   "execution_count": 68,
   "metadata": {
    "ExecuteTime": {
     "end_time": "2020-04-10T08:52:28.414430Z",
     "start_time": "2020-04-10T08:52:28.404859Z"
    },
    "scrolled": true
   },
   "outputs": [
    {
     "name": "stderr",
     "output_type": "stream",
     "text": [
      "/home/ubuntu/miniconda3/lib/python3.7/site-packages/ipykernel_launcher.py:5: SettingWithCopyWarning:\n",
      "\n",
      "\n",
      "A value is trying to be set on a copy of a slice from a DataFrame.\n",
      "Try using .loc[row_indexer,col_indexer] = value instead\n",
      "\n",
      "See the caveats in the documentation: https://pandas.pydata.org/pandas-docs/stable/user_guide/indexing.html#returning-a-view-versus-a-copy\n",
      "\n",
      "/home/ubuntu/miniconda3/lib/python3.7/site-packages/pandas/core/indexing.py:965: SettingWithCopyWarning:\n",
      "\n",
      "\n",
      "A value is trying to be set on a copy of a slice from a DataFrame.\n",
      "Try using .loc[row_indexer,col_indexer] = value instead\n",
      "\n",
      "See the caveats in the documentation: https://pandas.pydata.org/pandas-docs/stable/user_guide/indexing.html#returning-a-view-versus-a-copy\n",
      "\n",
      "/home/ubuntu/miniconda3/lib/python3.7/site-packages/ipykernel_launcher.py:6: SettingWithCopyWarning:\n",
      "\n",
      "\n",
      "A value is trying to be set on a copy of a slice from a DataFrame.\n",
      "Try using .loc[row_indexer,col_indexer] = value instead\n",
      "\n",
      "See the caveats in the documentation: https://pandas.pydata.org/pandas-docs/stable/user_guide/indexing.html#returning-a-view-versus-a-copy\n",
      "\n",
      "/home/ubuntu/miniconda3/lib/python3.7/site-packages/ipykernel_launcher.py:7: SettingWithCopyWarning:\n",
      "\n",
      "\n",
      "A value is trying to be set on a copy of a slice from a DataFrame.\n",
      "Try using .loc[row_indexer,col_indexer] = value instead\n",
      "\n",
      "See the caveats in the documentation: https://pandas.pydata.org/pandas-docs/stable/user_guide/indexing.html#returning-a-view-versus-a-copy\n",
      "\n"
     ]
    }
   ],
   "source": [
    "#Scaling Sales Rank\n",
    "scaler = MinMaxScaler()\n",
    "usa_shampoo_features[['overall_rating',\n",
    "                      'best_seller_cat',\n",
    "                      'best_seller_prod']] = scaler.fit_transform(usa_shampoo_features[['overall_rating','best_seller_cat','best_seller_prod']])\n",
    "usa_shampoo_features['best_seller_cat'] = 1 - usa_shampoo_features['best_seller_cat']\n",
    "usa_shampoo_features['best_seller_prod'] = 1 - usa_shampoo_features['best_seller_prod']"
   ]
  },
  {
   "cell_type": "code",
   "execution_count": 69,
   "metadata": {
    "ExecuteTime": {
     "end_time": "2020-04-10T08:52:35.007374Z",
     "start_time": "2020-04-10T08:52:31.433852Z"
    },
    "scrolled": true
   },
   "outputs": [
    {
     "name": "stderr",
     "output_type": "stream",
     "text": [
      "/home/ubuntu/miniconda3/lib/python3.7/site-packages/ipykernel_launcher.py:3: SettingWithCopyWarning:\n",
      "\n",
      "\n",
      "A value is trying to be set on a copy of a slice from a DataFrame.\n",
      "Try using .loc[row_indexer,col_indexer] = value instead\n",
      "\n",
      "See the caveats in the documentation: https://pandas.pydata.org/pandas-docs/stable/user_guide/indexing.html#returning-a-view-versus-a-copy\n",
      "\n"
     ]
    }
   ],
   "source": [
    "#Defining Target\n",
    "weights = [1, 1, 1, 1, 0.5, 0.5, 0.5, 0.5, 0.5, 0.8, 0.8, 0.8]\n",
    "usa_shampoo_features['target'] = 0\n",
    "for i in range(len(usa_shampoo_features)):\n",
    "    try:\n",
    "        usa_shampoo_features.loc[i,'target'] = np.average(list(usa_shampoo_features.loc[i,feature_columns]),weights = weights)\n",
    "    except:\n",
    "        pass"
   ]
  },
  {
   "cell_type": "markdown",
   "metadata": {},
   "source": [
    "### Modelling"
   ]
  },
  {
   "cell_type": "code",
   "execution_count": 70,
   "metadata": {
    "ExecuteTime": {
     "end_time": "2020-04-10T08:52:37.335010Z",
     "start_time": "2020-04-10T08:52:37.331637Z"
    }
   },
   "outputs": [
    {
     "data": {
      "text/plain": [
       "(4001,)"
      ]
     },
     "execution_count": 70,
     "metadata": {},
     "output_type": "execute_result"
    }
   ],
   "source": [
    "usa_shampoo_features['target'].shape"
   ]
  },
  {
   "cell_type": "code",
   "execution_count": 71,
   "metadata": {
    "ExecuteTime": {
     "end_time": "2020-04-10T08:52:37.920671Z",
     "start_time": "2020-04-10T08:52:37.841336Z"
    }
   },
   "outputs": [
    {
     "data": {
      "text/plain": [
       "(4001, 128, 128, 3)"
      ]
     },
     "execution_count": 71,
     "metadata": {},
     "output_type": "execute_result"
    }
   ],
   "source": [
    "np.array(images).shape"
   ]
  },
  {
   "cell_type": "code",
   "execution_count": 72,
   "metadata": {
    "ExecuteTime": {
     "end_time": "2020-04-10T08:52:40.061261Z",
     "start_time": "2020-04-10T08:52:40.057827Z"
    }
   },
   "outputs": [],
   "source": [
    "meta_input_usa = usa_shampoo_input[['product_length','product_height','product_width','shipping_weight']].values"
   ]
  },
  {
   "cell_type": "code",
   "execution_count": 73,
   "metadata": {
    "ExecuteTime": {
     "end_time": "2020-04-10T08:52:41.246637Z",
     "start_time": "2020-04-10T08:52:41.244628Z"
    }
   },
   "outputs": [],
   "source": [
    "meta_input_usa = meta_input_usa.reshape(4001,4,1,1)"
   ]
  },
  {
   "cell_type": "code",
   "execution_count": null,
   "metadata": {
    "ExecuteTime": {
     "end_time": "2020-04-10T05:09:46.994939Z",
     "start_time": "2020-04-10T04:39:59.393412Z"
    },
    "scrolled": true
   },
   "outputs": [],
   "source": [
    "#Main Model\n",
    "def rmse(y_true, y_pred):\n",
    "    return backend.sqrt(backend.mean(backend.square(y_pred - y_true), axis=-1))\n",
    "\n",
    "# first input model\n",
    "visible1 = Input(shape=(128,128,3),name='main_input')\n",
    "conv11 = Conv2D(96, kernel_size=(3,3),strides=(4,4),activation='relu',\n",
    "                padding='valid')(visible1)\n",
    "pool11 = MaxPooling2D(pool_size=(2, 2))(conv11)\n",
    "batch11 = BatchNormalization()(pool11)\n",
    "\n",
    "conv12 = Conv2D(64, kernel_size=(3,3),strides=(2,2),activation='relu',\n",
    "                padding='valid')(batch11)\n",
    "pool12 = MaxPooling2D(pool_size=(2, 2))(conv12)\n",
    "batch12 = BatchNormalization()(pool12)\n",
    "\n",
    "conv13 = Conv2D(32, kernel_size=(3,3),strides=(2,2),activation='relu',\n",
    "                padding='valid')(batch12)\n",
    "pool13 = MaxPooling2D(pool_size=(1, 1))(conv13)\n",
    "batch13 = BatchNormalization()(pool13)\n",
    "\n",
    "# conv14 = Conv2D(16, kernel_size=(5,5),strides=(2,2),activation='relu',\n",
    "#                 padding='valid')(batch13)\n",
    "# pool14 = MaxPooling2D(pool_size=(2, 2))(conv14)\n",
    "# batch14 = BatchNormalization()(pool14)\n",
    "\n",
    "# conv15 = Conv2D(8, kernel_size=(5,5),strides=(2,2),activation='relu',\n",
    "#                 padding='valid')(batch14)\n",
    "# pool15 = MaxPooling2D(pool_size=(2, 2))(conv15)\n",
    "# batch15 = BatchNormalization()(pool15)\n",
    "flat1 = Flatten()(batch13)\n",
    "\n",
    "# second input model\n",
    "visible2 = Input(shape=(4,1,1),name='meta_input')\n",
    "hidden21 = Dense(10, activation='relu')(visible2)\n",
    "hidden22 = Dense(20, activation='relu')(hidden21)\n",
    "hidden23 = Dense(10, activation='relu')(hidden22)\n",
    "flat2 = Flatten()(hidden23)\n",
    "\n",
    "# merge input models\n",
    "merge = concatenate([flat1, flat2])\n",
    "# interpretation model\n",
    "hidden1 = Dense(10, activation='relu')(merge)\n",
    "hidden2 = Dense(10, activation='relu')(hidden1)\n",
    "hidden3 = LeakyReLU(alpha=0.3)(hidden2)\n",
    "output = Dense(1,name='output')(hidden3)\n",
    "\n",
    "model = Model(inputs=[visible1, visible2], outputs=output)\n",
    "opt = SGD(lr=0.01, momentum=0.9,clipnorm=1.0)\n",
    "\n",
    "# compiling\n",
    "model.compile(optimizer=opt, \n",
    "              loss='mean_absolute_error',metrics=['mean_squared_error',\n",
    "                                                  'mean_absolute_error',\n",
    "                                                  'mean_absolute_percentage_error',\n",
    "                                                  'cosine_proximity'])\n",
    "\n",
    "# And trained it via:\n",
    "history = model.fit(x = {'main_input': np.array(images), \n",
    "                           'meta_input': meta_input_usa},\n",
    "                      y = {'output': usa_shampoo_features['target'].values},\n",
    "                      epochs=1000, \n",
    "                      batch_size=32,\n",
    "                      verbose=1)\n",
    "\n",
    "# summarize layers\n",
    "print(model.summary())\n",
    "model_link = '/home/jishu/sql/database/Amazon_USA/health_and_beauty/hair_products/shampoo/'\n",
    "os.chdir(os.path.join(model_link))\n",
    "model.save(\"shampoo_usa.h5\")"
   ]
  },
  {
   "cell_type": "code",
   "execution_count": 40,
   "metadata": {
    "ExecuteTime": {
     "end_time": "2020-04-10T08:51:09.665319Z",
     "start_time": "2020-04-10T08:51:07.729736Z"
    }
   },
   "outputs": [],
   "source": [
    "model_link = '/home/jishu/sql/database/Amazon_USA/health_and_beauty/hair_products/shampoo/'\n",
    "os.chdir(os.path.join(model_link))\n",
    "model = load_model(\"shampoo_usa.h5\")"
   ]
  },
  {
   "cell_type": "code",
   "execution_count": 39,
   "metadata": {
    "ExecuteTime": {
     "end_time": "2020-04-10T08:51:01.855125Z",
     "start_time": "2020-04-10T08:51:01.834237Z"
    },
    "scrolled": true
   },
   "outputs": [
    {
     "ename": "AttributeError",
     "evalue": "'Model' object has no attribute 'history'",
     "output_type": "error",
     "traceback": [
      "\u001b[0;31m---------------------------------------------------------------------------\u001b[0m",
      "\u001b[0;31mAttributeError\u001b[0m                            Traceback (most recent call last)",
      "\u001b[0;32m<ipython-input-39-610b20c4070e>\u001b[0m in \u001b[0;36m<module>\u001b[0;34m\u001b[0m\n\u001b[1;32m      1\u001b[0m \u001b[0;31m# plot metrics\u001b[0m\u001b[0;34m\u001b[0m\u001b[0;34m\u001b[0m\u001b[0;34m\u001b[0m\u001b[0m\n\u001b[0;32m----> 2\u001b[0;31m plotting_metrics = {'mean_squared_error':history.history['mean_squared_error'],\n\u001b[0m\u001b[1;32m      3\u001b[0m                     \u001b[0;34m'mean_absolute_error'\u001b[0m\u001b[0;34m:\u001b[0m\u001b[0mhistory\u001b[0m\u001b[0;34m.\u001b[0m\u001b[0mhistory\u001b[0m\u001b[0;34m[\u001b[0m\u001b[0;34m'mean_absolute_error'\u001b[0m\u001b[0;34m]\u001b[0m\u001b[0;34m,\u001b[0m\u001b[0;34m\u001b[0m\u001b[0;34m\u001b[0m\u001b[0m\n\u001b[1;32m      4\u001b[0m                     \u001b[0;34m'mean_absolute_percentage_error'\u001b[0m\u001b[0;34m:\u001b[0m\u001b[0mhistory\u001b[0m\u001b[0;34m.\u001b[0m\u001b[0mhistory\u001b[0m\u001b[0;34m[\u001b[0m\u001b[0;34m'mean_absolute_percentage_error'\u001b[0m\u001b[0;34m]\u001b[0m\u001b[0;34m,\u001b[0m\u001b[0;34m\u001b[0m\u001b[0;34m\u001b[0m\u001b[0m\n\u001b[1;32m      5\u001b[0m                     'cosine_proximity':history.history['cosine_proximity']}\n",
      "\u001b[0;31mAttributeError\u001b[0m: 'Model' object has no attribute 'history'"
     ]
    }
   ],
   "source": [
    "# plot metrics\n",
    "plotting_metrics = {'mean_squared_error':history.history['mean_squared_error'],\n",
    "                    'mean_absolute_error':history.history['mean_absolute_error'],\n",
    "                    'mean_absolute_percentage_error':history.history['mean_absolute_percentage_error'],\n",
    "                    'cosine_proximity':history.history['cosine_proximity']}"
   ]
  },
  {
   "cell_type": "code",
   "execution_count": null,
   "metadata": {
    "ExecuteTime": {
     "end_time": "2020-04-09T15:59:37.234369Z",
     "start_time": "2020-04-09T15:59:37.051291Z"
    }
   },
   "outputs": [],
   "source": [
    "fig = go.Figure()\n",
    "# Create and style traces\n",
    "fig.add_trace(go.Scatter(x=list(range(len(plotting_metrics['mean_squared_error']))), \n",
    "                         y=plotting_metrics['mean_squared_error'], \n",
    "                         name='Mean Squared Error',\n",
    "                         line=dict(color='firebrick', width=4)))\n",
    "\n",
    "fig.add_trace(go.Scatter(x=list(range(len(plotting_metrics['mean_absolute_error']))), \n",
    "                         y=plotting_metrics['mean_absolute_error'], \n",
    "                         name='Mean Absolute Error',\n",
    "                         line=dict(color='royalblue', width=4)))\n",
    "\n",
    "# fig.add_trace(go.Scatter(x=list(range(len(plotting_metrics['mean_absolute_percentage_error']))), \n",
    "#                          y=plotting_metrics['mean_absolute_percentage_error'], \n",
    "#                          name='Mean Absolute Percentage Error',\n",
    "#                          line=dict(color='darkgreen', width=4)))\n",
    "\n",
    "\n",
    "fig.add_trace(go.Scatter(x=list(range(len(plotting_metrics['cosine_proximity']))), \n",
    "                         y=plotting_metrics['cosine_proximity'], \n",
    "                         name='Cosine Proximity',\n",
    "                         line=dict(color='gold', width=4)))\n",
    "\n",
    "# Edit the layout\n",
    "fig.update_layout(title='Permorming Metrics',\n",
    "                   xaxis_title='Epoch',\n",
    "                   yaxis_title='Measure')\n",
    "\n",
    "\n",
    "fig.show()"
   ]
  },
  {
   "cell_type": "code",
   "execution_count": 74,
   "metadata": {
    "ExecuteTime": {
     "end_time": "2020-04-10T08:52:48.844108Z",
     "start_time": "2020-04-10T08:52:48.841630Z"
    }
   },
   "outputs": [],
   "source": [
    "trial_meta = meta_input_usa[3001]\n",
    "trial_meta = trial_meta.reshape(1,4,1,1)"
   ]
  },
  {
   "cell_type": "code",
   "execution_count": 75,
   "metadata": {
    "ExecuteTime": {
     "end_time": "2020-04-10T08:52:50.608210Z",
     "start_time": "2020-04-10T08:52:50.606046Z"
    }
   },
   "outputs": [],
   "source": [
    "trail_image = images[3001]\n",
    "trail_image = trail_image.reshape(1,128,128,3) "
   ]
  },
  {
   "cell_type": "code",
   "execution_count": 87,
   "metadata": {
    "ExecuteTime": {
     "end_time": "2020-04-10T08:55:00.989444Z",
     "start_time": "2020-04-10T08:55:00.983568Z"
    }
   },
   "outputs": [
    {
     "data": {
      "text/plain": [
       "6.1500564"
      ]
     },
     "execution_count": 87,
     "metadata": {},
     "output_type": "execute_result"
    }
   ],
   "source": [
    "pred1 = model.predict({'main_input': trail_image, 'meta_input': trial_meta})[0][0]\n",
    "pred1"
   ]
  },
  {
   "cell_type": "code",
   "execution_count": 77,
   "metadata": {
    "ExecuteTime": {
     "end_time": "2020-04-10T08:52:59.703566Z",
     "start_time": "2020-04-10T08:52:59.699459Z"
    }
   },
   "outputs": [
    {
     "data": {
      "text/plain": [
       "6.154049168493066"
      ]
     },
     "execution_count": 77,
     "metadata": {},
     "output_type": "execute_result"
    }
   ],
   "source": [
    "usa_shampoo_features.iloc[3001,10:]['target']"
   ]
  },
  {
   "cell_type": "code",
   "execution_count": 78,
   "metadata": {
    "ExecuteTime": {
     "end_time": "2020-04-10T08:53:04.305928Z",
     "start_time": "2020-04-10T08:53:03.532679Z"
    }
   },
   "outputs": [
    {
     "data": {
      "text/plain": [
       "0.9772586225358194"
      ]
     },
     "execution_count": 78,
     "metadata": {},
     "output_type": "execute_result"
    }
   ],
   "source": [
    "y_pred = model.predict({'main_input': np.array(images), 'meta_input': meta_input_usa})\n",
    "r2_score(usa_shampoo_features['target'].values, y_pred)"
   ]
  },
  {
   "cell_type": "code",
   "execution_count": 79,
   "metadata": {
    "ExecuteTime": {
     "end_time": "2020-04-10T08:53:06.822808Z",
     "start_time": "2020-04-10T08:53:06.815389Z"
    },
    "scrolled": true
   },
   "outputs": [
    {
     "name": "stdout",
     "output_type": "stream",
     "text": [
      "Model: \"model_3\"\n",
      "__________________________________________________________________________________________________\n",
      "Layer (type)                    Output Shape         Param #     Connected to                     \n",
      "==================================================================================================\n",
      "main_input (InputLayer)         (None, 128, 128, 3)  0                                            \n",
      "__________________________________________________________________________________________________\n",
      "conv2d_10 (Conv2D)              (None, 32, 32, 96)   2688        main_input[0][0]                 \n",
      "__________________________________________________________________________________________________\n",
      "max_pooling2d_10 (MaxPooling2D) (None, 16, 16, 96)   0           conv2d_10[0][0]                  \n",
      "__________________________________________________________________________________________________\n",
      "batch_normalization_10 (BatchNo (None, 16, 16, 96)   384         max_pooling2d_10[0][0]           \n",
      "__________________________________________________________________________________________________\n",
      "conv2d_11 (Conv2D)              (None, 7, 7, 64)     55360       batch_normalization_10[0][0]     \n",
      "__________________________________________________________________________________________________\n",
      "max_pooling2d_11 (MaxPooling2D) (None, 3, 3, 64)     0           conv2d_11[0][0]                  \n",
      "__________________________________________________________________________________________________\n",
      "batch_normalization_11 (BatchNo (None, 3, 3, 64)     256         max_pooling2d_11[0][0]           \n",
      "__________________________________________________________________________________________________\n",
      "meta_input (InputLayer)         (None, 4, 1, 1)      0                                            \n",
      "__________________________________________________________________________________________________\n",
      "conv2d_12 (Conv2D)              (None, 1, 1, 32)     18464       batch_normalization_11[0][0]     \n",
      "__________________________________________________________________________________________________\n",
      "dense_16 (Dense)                (None, 4, 1, 10)     20          meta_input[0][0]                 \n",
      "__________________________________________________________________________________________________\n",
      "max_pooling2d_12 (MaxPooling2D) (None, 1, 1, 32)     0           conv2d_12[0][0]                  \n",
      "__________________________________________________________________________________________________\n",
      "dense_17 (Dense)                (None, 4, 1, 20)     220         dense_16[0][0]                   \n",
      "__________________________________________________________________________________________________\n",
      "batch_normalization_12 (BatchNo (None, 1, 1, 32)     128         max_pooling2d_12[0][0]           \n",
      "__________________________________________________________________________________________________\n",
      "dense_18 (Dense)                (None, 4, 1, 10)     210         dense_17[0][0]                   \n",
      "__________________________________________________________________________________________________\n",
      "flatten_7 (Flatten)             (None, 32)           0           batch_normalization_12[0][0]     \n",
      "__________________________________________________________________________________________________\n",
      "flatten_8 (Flatten)             (None, 40)           0           dense_18[0][0]                   \n",
      "__________________________________________________________________________________________________\n",
      "concatenate_4 (Concatenate)     (None, 72)           0           flatten_7[0][0]                  \n",
      "                                                                 flatten_8[0][0]                  \n",
      "__________________________________________________________________________________________________\n",
      "dense_19 (Dense)                (None, 10)           730         concatenate_4[0][0]              \n",
      "__________________________________________________________________________________________________\n",
      "dense_20 (Dense)                (None, 10)           110         dense_19[0][0]                   \n",
      "__________________________________________________________________________________________________\n",
      "leaky_re_lu_3 (LeakyReLU)       (None, 10)           0           dense_20[0][0]                   \n",
      "__________________________________________________________________________________________________\n",
      "output (Dense)                  (None, 1)            11          leaky_re_lu_3[0][0]              \n",
      "==================================================================================================\n",
      "Total params: 78,581\n",
      "Trainable params: 78,197\n",
      "Non-trainable params: 384\n",
      "__________________________________________________________________________________________________\n",
      "None\n"
     ]
    }
   ],
   "source": [
    "print(model.summary())"
   ]
  },
  {
   "cell_type": "code",
   "execution_count": 88,
   "metadata": {
    "ExecuteTime": {
     "end_time": "2020-04-10T08:57:19.448910Z",
     "start_time": "2020-04-10T08:57:19.444818Z"
    }
   },
   "outputs": [],
   "source": [
    "result_df = pd.DataFrame(data=[['United States of America',\n",
    "                                'Health and Beauty',\n",
    "                                'Hair Products',\n",
    "                                'Shampoo',\n",
    "                                pred1,\n",
    "                                'USA']],\n",
    "                         columns=['Country',\n",
    "                                  'Category 1',\n",
    "                                  'Category 2',\n",
    "                                  'Product',\n",
    "                                  'Success Index',\n",
    "                                  'iso_alpha'])"
   ]
  },
  {
   "cell_type": "code",
   "execution_count": 154,
   "metadata": {
    "ExecuteTime": {
     "end_time": "2020-04-10T10:19:09.556478Z",
     "start_time": "2020-04-10T10:19:09.540584Z"
    }
   },
   "outputs": [
    {
     "data": {
      "text/html": [
       "<div>\n",
       "<style scoped>\n",
       "    .dataframe tbody tr th:only-of-type {\n",
       "        vertical-align: middle;\n",
       "    }\n",
       "\n",
       "    .dataframe tbody tr th {\n",
       "        vertical-align: top;\n",
       "    }\n",
       "\n",
       "    .dataframe thead th {\n",
       "        text-align: right;\n",
       "    }\n",
       "</style>\n",
       "<table border=\"1\" class=\"dataframe\">\n",
       "  <thead>\n",
       "    <tr style=\"text-align: right;\">\n",
       "      <th></th>\n",
       "      <th>country</th>\n",
       "      <th>continent</th>\n",
       "      <th>year</th>\n",
       "      <th>lifeExp</th>\n",
       "      <th>pop</th>\n",
       "      <th>gdpPercap</th>\n",
       "      <th>iso_alpha</th>\n",
       "      <th>iso_num</th>\n",
       "    </tr>\n",
       "  </thead>\n",
       "  <tbody>\n",
       "    <tr>\n",
       "      <th>1607</th>\n",
       "      <td>United Kingdom</td>\n",
       "      <td>Europe</td>\n",
       "      <td>2007</td>\n",
       "      <td>79.425</td>\n",
       "      <td>60776238</td>\n",
       "      <td>33203.26128</td>\n",
       "      <td>GBR</td>\n",
       "      <td>826</td>\n",
       "    </tr>\n",
       "  </tbody>\n",
       "</table>\n",
       "</div>"
      ],
      "text/plain": [
       "             country continent  year  lifeExp       pop    gdpPercap  \\\n",
       "1607  United Kingdom    Europe  2007   79.425  60776238  33203.26128   \n",
       "\n",
       "     iso_alpha  iso_num  \n",
       "1607       GBR      826  "
      ]
     },
     "execution_count": 154,
     "metadata": {},
     "output_type": "execute_result"
    }
   ],
   "source": [
    "df = px.data.gapminder().query(\"year==2007\")\n",
    "df[df['country']=='United Kingdom']"
   ]
  },
  {
   "cell_type": "code",
   "execution_count": 94,
   "metadata": {
    "ExecuteTime": {
     "end_time": "2020-04-10T09:04:39.155700Z",
     "start_time": "2020-04-10T09:04:38.957002Z"
    }
   },
   "outputs": [
    {
     "data": {
      "application/vnd.plotly.v1+json": {
       "config": {
        "plotlyServerURL": "https://plot.ly"
       },
       "data": [
        {
         "coloraxis": "coloraxis",
         "customdata": [
          [
           "United States of America",
           "Shampoo"
          ]
         ],
         "geo": "geo",
         "hovertemplate": "<b>%{hovertext}</b><br><br>Country=%{customdata[0]}<br>Product=%{customdata[1]}<br>iso_alpha=%{location}<br>Success Index=%{z}<extra></extra>",
         "hovertext": [
          "United States of America"
         ],
         "locations": [
          "USA"
         ],
         "name": "",
         "type": "choropleth",
         "z": [
          6.1500563621521
         ]
        }
       ],
       "layout": {
        "coloraxis": {
         "colorbar": {
          "title": {
           "text": "Success Index"
          }
         },
         "colorscale": [
          [
           0,
           "#0d0887"
          ],
          [
           0.1111111111111111,
           "#46039f"
          ],
          [
           0.2222222222222222,
           "#7201a8"
          ],
          [
           0.3333333333333333,
           "#9c179e"
          ],
          [
           0.4444444444444444,
           "#bd3786"
          ],
          [
           0.5555555555555556,
           "#d8576b"
          ],
          [
           0.6666666666666666,
           "#ed7953"
          ],
          [
           0.7777777777777778,
           "#fb9f3a"
          ],
          [
           0.8888888888888888,
           "#fdca26"
          ],
          [
           1,
           "#f0f921"
          ]
         ]
        },
        "geo": {
         "center": {},
         "domain": {
          "x": [
           0,
           1
          ],
          "y": [
           0,
           1
          ]
         }
        },
        "legend": {
         "tracegroupgap": 0
        },
        "margin": {
         "t": 60
        },
        "template": {
         "data": {
          "bar": [
           {
            "error_x": {
             "color": "#2a3f5f"
            },
            "error_y": {
             "color": "#2a3f5f"
            },
            "marker": {
             "line": {
              "color": "#E5ECF6",
              "width": 0.5
             }
            },
            "type": "bar"
           }
          ],
          "barpolar": [
           {
            "marker": {
             "line": {
              "color": "#E5ECF6",
              "width": 0.5
             }
            },
            "type": "barpolar"
           }
          ],
          "carpet": [
           {
            "aaxis": {
             "endlinecolor": "#2a3f5f",
             "gridcolor": "white",
             "linecolor": "white",
             "minorgridcolor": "white",
             "startlinecolor": "#2a3f5f"
            },
            "baxis": {
             "endlinecolor": "#2a3f5f",
             "gridcolor": "white",
             "linecolor": "white",
             "minorgridcolor": "white",
             "startlinecolor": "#2a3f5f"
            },
            "type": "carpet"
           }
          ],
          "choropleth": [
           {
            "colorbar": {
             "outlinewidth": 0,
             "ticks": ""
            },
            "type": "choropleth"
           }
          ],
          "contour": [
           {
            "colorbar": {
             "outlinewidth": 0,
             "ticks": ""
            },
            "colorscale": [
             [
              0,
              "#0d0887"
             ],
             [
              0.1111111111111111,
              "#46039f"
             ],
             [
              0.2222222222222222,
              "#7201a8"
             ],
             [
              0.3333333333333333,
              "#9c179e"
             ],
             [
              0.4444444444444444,
              "#bd3786"
             ],
             [
              0.5555555555555556,
              "#d8576b"
             ],
             [
              0.6666666666666666,
              "#ed7953"
             ],
             [
              0.7777777777777778,
              "#fb9f3a"
             ],
             [
              0.8888888888888888,
              "#fdca26"
             ],
             [
              1,
              "#f0f921"
             ]
            ],
            "type": "contour"
           }
          ],
          "contourcarpet": [
           {
            "colorbar": {
             "outlinewidth": 0,
             "ticks": ""
            },
            "type": "contourcarpet"
           }
          ],
          "heatmap": [
           {
            "colorbar": {
             "outlinewidth": 0,
             "ticks": ""
            },
            "colorscale": [
             [
              0,
              "#0d0887"
             ],
             [
              0.1111111111111111,
              "#46039f"
             ],
             [
              0.2222222222222222,
              "#7201a8"
             ],
             [
              0.3333333333333333,
              "#9c179e"
             ],
             [
              0.4444444444444444,
              "#bd3786"
             ],
             [
              0.5555555555555556,
              "#d8576b"
             ],
             [
              0.6666666666666666,
              "#ed7953"
             ],
             [
              0.7777777777777778,
              "#fb9f3a"
             ],
             [
              0.8888888888888888,
              "#fdca26"
             ],
             [
              1,
              "#f0f921"
             ]
            ],
            "type": "heatmap"
           }
          ],
          "heatmapgl": [
           {
            "colorbar": {
             "outlinewidth": 0,
             "ticks": ""
            },
            "colorscale": [
             [
              0,
              "#0d0887"
             ],
             [
              0.1111111111111111,
              "#46039f"
             ],
             [
              0.2222222222222222,
              "#7201a8"
             ],
             [
              0.3333333333333333,
              "#9c179e"
             ],
             [
              0.4444444444444444,
              "#bd3786"
             ],
             [
              0.5555555555555556,
              "#d8576b"
             ],
             [
              0.6666666666666666,
              "#ed7953"
             ],
             [
              0.7777777777777778,
              "#fb9f3a"
             ],
             [
              0.8888888888888888,
              "#fdca26"
             ],
             [
              1,
              "#f0f921"
             ]
            ],
            "type": "heatmapgl"
           }
          ],
          "histogram": [
           {
            "marker": {
             "colorbar": {
              "outlinewidth": 0,
              "ticks": ""
             }
            },
            "type": "histogram"
           }
          ],
          "histogram2d": [
           {
            "colorbar": {
             "outlinewidth": 0,
             "ticks": ""
            },
            "colorscale": [
             [
              0,
              "#0d0887"
             ],
             [
              0.1111111111111111,
              "#46039f"
             ],
             [
              0.2222222222222222,
              "#7201a8"
             ],
             [
              0.3333333333333333,
              "#9c179e"
             ],
             [
              0.4444444444444444,
              "#bd3786"
             ],
             [
              0.5555555555555556,
              "#d8576b"
             ],
             [
              0.6666666666666666,
              "#ed7953"
             ],
             [
              0.7777777777777778,
              "#fb9f3a"
             ],
             [
              0.8888888888888888,
              "#fdca26"
             ],
             [
              1,
              "#f0f921"
             ]
            ],
            "type": "histogram2d"
           }
          ],
          "histogram2dcontour": [
           {
            "colorbar": {
             "outlinewidth": 0,
             "ticks": ""
            },
            "colorscale": [
             [
              0,
              "#0d0887"
             ],
             [
              0.1111111111111111,
              "#46039f"
             ],
             [
              0.2222222222222222,
              "#7201a8"
             ],
             [
              0.3333333333333333,
              "#9c179e"
             ],
             [
              0.4444444444444444,
              "#bd3786"
             ],
             [
              0.5555555555555556,
              "#d8576b"
             ],
             [
              0.6666666666666666,
              "#ed7953"
             ],
             [
              0.7777777777777778,
              "#fb9f3a"
             ],
             [
              0.8888888888888888,
              "#fdca26"
             ],
             [
              1,
              "#f0f921"
             ]
            ],
            "type": "histogram2dcontour"
           }
          ],
          "mesh3d": [
           {
            "colorbar": {
             "outlinewidth": 0,
             "ticks": ""
            },
            "type": "mesh3d"
           }
          ],
          "parcoords": [
           {
            "line": {
             "colorbar": {
              "outlinewidth": 0,
              "ticks": ""
             }
            },
            "type": "parcoords"
           }
          ],
          "pie": [
           {
            "automargin": true,
            "type": "pie"
           }
          ],
          "scatter": [
           {
            "marker": {
             "colorbar": {
              "outlinewidth": 0,
              "ticks": ""
             }
            },
            "type": "scatter"
           }
          ],
          "scatter3d": [
           {
            "line": {
             "colorbar": {
              "outlinewidth": 0,
              "ticks": ""
             }
            },
            "marker": {
             "colorbar": {
              "outlinewidth": 0,
              "ticks": ""
             }
            },
            "type": "scatter3d"
           }
          ],
          "scattercarpet": [
           {
            "marker": {
             "colorbar": {
              "outlinewidth": 0,
              "ticks": ""
             }
            },
            "type": "scattercarpet"
           }
          ],
          "scattergeo": [
           {
            "marker": {
             "colorbar": {
              "outlinewidth": 0,
              "ticks": ""
             }
            },
            "type": "scattergeo"
           }
          ],
          "scattergl": [
           {
            "marker": {
             "colorbar": {
              "outlinewidth": 0,
              "ticks": ""
             }
            },
            "type": "scattergl"
           }
          ],
          "scattermapbox": [
           {
            "marker": {
             "colorbar": {
              "outlinewidth": 0,
              "ticks": ""
             }
            },
            "type": "scattermapbox"
           }
          ],
          "scatterpolar": [
           {
            "marker": {
             "colorbar": {
              "outlinewidth": 0,
              "ticks": ""
             }
            },
            "type": "scatterpolar"
           }
          ],
          "scatterpolargl": [
           {
            "marker": {
             "colorbar": {
              "outlinewidth": 0,
              "ticks": ""
             }
            },
            "type": "scatterpolargl"
           }
          ],
          "scatterternary": [
           {
            "marker": {
             "colorbar": {
              "outlinewidth": 0,
              "ticks": ""
             }
            },
            "type": "scatterternary"
           }
          ],
          "surface": [
           {
            "colorbar": {
             "outlinewidth": 0,
             "ticks": ""
            },
            "colorscale": [
             [
              0,
              "#0d0887"
             ],
             [
              0.1111111111111111,
              "#46039f"
             ],
             [
              0.2222222222222222,
              "#7201a8"
             ],
             [
              0.3333333333333333,
              "#9c179e"
             ],
             [
              0.4444444444444444,
              "#bd3786"
             ],
             [
              0.5555555555555556,
              "#d8576b"
             ],
             [
              0.6666666666666666,
              "#ed7953"
             ],
             [
              0.7777777777777778,
              "#fb9f3a"
             ],
             [
              0.8888888888888888,
              "#fdca26"
             ],
             [
              1,
              "#f0f921"
             ]
            ],
            "type": "surface"
           }
          ],
          "table": [
           {
            "cells": {
             "fill": {
              "color": "#EBF0F8"
             },
             "line": {
              "color": "white"
             }
            },
            "header": {
             "fill": {
              "color": "#C8D4E3"
             },
             "line": {
              "color": "white"
             }
            },
            "type": "table"
           }
          ]
         },
         "layout": {
          "annotationdefaults": {
           "arrowcolor": "#2a3f5f",
           "arrowhead": 0,
           "arrowwidth": 1
          },
          "coloraxis": {
           "colorbar": {
            "outlinewidth": 0,
            "ticks": ""
           }
          },
          "colorscale": {
           "diverging": [
            [
             0,
             "#8e0152"
            ],
            [
             0.1,
             "#c51b7d"
            ],
            [
             0.2,
             "#de77ae"
            ],
            [
             0.3,
             "#f1b6da"
            ],
            [
             0.4,
             "#fde0ef"
            ],
            [
             0.5,
             "#f7f7f7"
            ],
            [
             0.6,
             "#e6f5d0"
            ],
            [
             0.7,
             "#b8e186"
            ],
            [
             0.8,
             "#7fbc41"
            ],
            [
             0.9,
             "#4d9221"
            ],
            [
             1,
             "#276419"
            ]
           ],
           "sequential": [
            [
             0,
             "#0d0887"
            ],
            [
             0.1111111111111111,
             "#46039f"
            ],
            [
             0.2222222222222222,
             "#7201a8"
            ],
            [
             0.3333333333333333,
             "#9c179e"
            ],
            [
             0.4444444444444444,
             "#bd3786"
            ],
            [
             0.5555555555555556,
             "#d8576b"
            ],
            [
             0.6666666666666666,
             "#ed7953"
            ],
            [
             0.7777777777777778,
             "#fb9f3a"
            ],
            [
             0.8888888888888888,
             "#fdca26"
            ],
            [
             1,
             "#f0f921"
            ]
           ],
           "sequentialminus": [
            [
             0,
             "#0d0887"
            ],
            [
             0.1111111111111111,
             "#46039f"
            ],
            [
             0.2222222222222222,
             "#7201a8"
            ],
            [
             0.3333333333333333,
             "#9c179e"
            ],
            [
             0.4444444444444444,
             "#bd3786"
            ],
            [
             0.5555555555555556,
             "#d8576b"
            ],
            [
             0.6666666666666666,
             "#ed7953"
            ],
            [
             0.7777777777777778,
             "#fb9f3a"
            ],
            [
             0.8888888888888888,
             "#fdca26"
            ],
            [
             1,
             "#f0f921"
            ]
           ]
          },
          "colorway": [
           "#636efa",
           "#EF553B",
           "#00cc96",
           "#ab63fa",
           "#FFA15A",
           "#19d3f3",
           "#FF6692",
           "#B6E880",
           "#FF97FF",
           "#FECB52"
          ],
          "font": {
           "color": "#2a3f5f"
          },
          "geo": {
           "bgcolor": "white",
           "lakecolor": "white",
           "landcolor": "#E5ECF6",
           "showlakes": true,
           "showland": true,
           "subunitcolor": "white"
          },
          "hoverlabel": {
           "align": "left"
          },
          "hovermode": "closest",
          "mapbox": {
           "style": "light"
          },
          "paper_bgcolor": "white",
          "plot_bgcolor": "#E5ECF6",
          "polar": {
           "angularaxis": {
            "gridcolor": "white",
            "linecolor": "white",
            "ticks": ""
           },
           "bgcolor": "#E5ECF6",
           "radialaxis": {
            "gridcolor": "white",
            "linecolor": "white",
            "ticks": ""
           }
          },
          "scene": {
           "xaxis": {
            "backgroundcolor": "#E5ECF6",
            "gridcolor": "white",
            "gridwidth": 2,
            "linecolor": "white",
            "showbackground": true,
            "ticks": "",
            "zerolinecolor": "white"
           },
           "yaxis": {
            "backgroundcolor": "#E5ECF6",
            "gridcolor": "white",
            "gridwidth": 2,
            "linecolor": "white",
            "showbackground": true,
            "ticks": "",
            "zerolinecolor": "white"
           },
           "zaxis": {
            "backgroundcolor": "#E5ECF6",
            "gridcolor": "white",
            "gridwidth": 2,
            "linecolor": "white",
            "showbackground": true,
            "ticks": "",
            "zerolinecolor": "white"
           }
          },
          "shapedefaults": {
           "line": {
            "color": "#2a3f5f"
           }
          },
          "ternary": {
           "aaxis": {
            "gridcolor": "white",
            "linecolor": "white",
            "ticks": ""
           },
           "baxis": {
            "gridcolor": "white",
            "linecolor": "white",
            "ticks": ""
           },
           "bgcolor": "#E5ECF6",
           "caxis": {
            "gridcolor": "white",
            "linecolor": "white",
            "ticks": ""
           }
          },
          "title": {
           "x": 0.05
          },
          "xaxis": {
           "automargin": true,
           "gridcolor": "white",
           "linecolor": "white",
           "ticks": "",
           "title": {
            "standoff": 15
           },
           "zerolinecolor": "white",
           "zerolinewidth": 2
          },
          "yaxis": {
           "automargin": true,
           "gridcolor": "white",
           "linecolor": "white",
           "ticks": "",
           "title": {
            "standoff": 15
           },
           "zerolinecolor": "white",
           "zerolinewidth": 2
          }
         }
        }
       }
      },
      "text/html": [
       "<div>\n",
       "        \n",
       "        \n",
       "            <div id=\"316d73ae-c257-483f-bb35-d56f829c0a4f\" class=\"plotly-graph-div\" style=\"height:525px; width:100%;\"></div>\n",
       "            <script type=\"text/javascript\">\n",
       "                require([\"plotly\"], function(Plotly) {\n",
       "                    window.PLOTLYENV=window.PLOTLYENV || {};\n",
       "                    \n",
       "                if (document.getElementById(\"316d73ae-c257-483f-bb35-d56f829c0a4f\")) {\n",
       "                    Plotly.newPlot(\n",
       "                        '316d73ae-c257-483f-bb35-d56f829c0a4f',\n",
       "                        [{\"coloraxis\": \"coloraxis\", \"customdata\": [[\"United States of America\", \"Shampoo\"]], \"geo\": \"geo\", \"hovertemplate\": \"<b>%{hovertext}</b><br><br>Country=%{customdata[0]}<br>Product=%{customdata[1]}<br>iso_alpha=%{location}<br>Success Index=%{z}<extra></extra>\", \"hovertext\": [\"United States of America\"], \"locations\": [\"USA\"], \"name\": \"\", \"type\": \"choropleth\", \"z\": [6.1500563621521]}],\n",
       "                        {\"coloraxis\": {\"colorbar\": {\"title\": {\"text\": \"Success Index\"}}, \"colorscale\": [[0.0, \"#0d0887\"], [0.1111111111111111, \"#46039f\"], [0.2222222222222222, \"#7201a8\"], [0.3333333333333333, \"#9c179e\"], [0.4444444444444444, \"#bd3786\"], [0.5555555555555556, \"#d8576b\"], [0.6666666666666666, \"#ed7953\"], [0.7777777777777778, \"#fb9f3a\"], [0.8888888888888888, \"#fdca26\"], [1.0, \"#f0f921\"]]}, \"geo\": {\"center\": {}, \"domain\": {\"x\": [0.0, 1.0], \"y\": [0.0, 1.0]}}, \"legend\": {\"tracegroupgap\": 0}, \"margin\": {\"t\": 60}, \"template\": {\"data\": {\"bar\": [{\"error_x\": {\"color\": \"#2a3f5f\"}, \"error_y\": {\"color\": \"#2a3f5f\"}, \"marker\": {\"line\": {\"color\": \"#E5ECF6\", \"width\": 0.5}}, \"type\": \"bar\"}], \"barpolar\": [{\"marker\": {\"line\": {\"color\": \"#E5ECF6\", \"width\": 0.5}}, \"type\": \"barpolar\"}], \"carpet\": [{\"aaxis\": {\"endlinecolor\": \"#2a3f5f\", \"gridcolor\": \"white\", \"linecolor\": \"white\", \"minorgridcolor\": \"white\", \"startlinecolor\": \"#2a3f5f\"}, \"baxis\": {\"endlinecolor\": \"#2a3f5f\", \"gridcolor\": \"white\", \"linecolor\": \"white\", \"minorgridcolor\": \"white\", \"startlinecolor\": \"#2a3f5f\"}, \"type\": \"carpet\"}], \"choropleth\": [{\"colorbar\": {\"outlinewidth\": 0, \"ticks\": \"\"}, \"type\": \"choropleth\"}], \"contour\": [{\"colorbar\": {\"outlinewidth\": 0, \"ticks\": \"\"}, \"colorscale\": [[0.0, \"#0d0887\"], [0.1111111111111111, \"#46039f\"], [0.2222222222222222, \"#7201a8\"], [0.3333333333333333, \"#9c179e\"], [0.4444444444444444, \"#bd3786\"], [0.5555555555555556, \"#d8576b\"], [0.6666666666666666, \"#ed7953\"], [0.7777777777777778, \"#fb9f3a\"], [0.8888888888888888, \"#fdca26\"], [1.0, \"#f0f921\"]], \"type\": \"contour\"}], \"contourcarpet\": [{\"colorbar\": {\"outlinewidth\": 0, \"ticks\": \"\"}, \"type\": \"contourcarpet\"}], \"heatmap\": [{\"colorbar\": {\"outlinewidth\": 0, \"ticks\": \"\"}, \"colorscale\": [[0.0, \"#0d0887\"], [0.1111111111111111, \"#46039f\"], [0.2222222222222222, \"#7201a8\"], [0.3333333333333333, \"#9c179e\"], [0.4444444444444444, \"#bd3786\"], [0.5555555555555556, \"#d8576b\"], [0.6666666666666666, \"#ed7953\"], [0.7777777777777778, \"#fb9f3a\"], [0.8888888888888888, \"#fdca26\"], [1.0, \"#f0f921\"]], \"type\": \"heatmap\"}], \"heatmapgl\": [{\"colorbar\": {\"outlinewidth\": 0, \"ticks\": \"\"}, \"colorscale\": [[0.0, \"#0d0887\"], [0.1111111111111111, \"#46039f\"], [0.2222222222222222, \"#7201a8\"], [0.3333333333333333, \"#9c179e\"], [0.4444444444444444, \"#bd3786\"], [0.5555555555555556, \"#d8576b\"], [0.6666666666666666, \"#ed7953\"], [0.7777777777777778, \"#fb9f3a\"], [0.8888888888888888, \"#fdca26\"], [1.0, \"#f0f921\"]], \"type\": \"heatmapgl\"}], \"histogram\": [{\"marker\": {\"colorbar\": {\"outlinewidth\": 0, \"ticks\": \"\"}}, \"type\": \"histogram\"}], \"histogram2d\": [{\"colorbar\": {\"outlinewidth\": 0, \"ticks\": \"\"}, \"colorscale\": [[0.0, \"#0d0887\"], [0.1111111111111111, \"#46039f\"], [0.2222222222222222, \"#7201a8\"], [0.3333333333333333, \"#9c179e\"], [0.4444444444444444, \"#bd3786\"], [0.5555555555555556, \"#d8576b\"], [0.6666666666666666, \"#ed7953\"], [0.7777777777777778, \"#fb9f3a\"], [0.8888888888888888, \"#fdca26\"], [1.0, \"#f0f921\"]], \"type\": \"histogram2d\"}], \"histogram2dcontour\": [{\"colorbar\": {\"outlinewidth\": 0, \"ticks\": \"\"}, \"colorscale\": [[0.0, \"#0d0887\"], [0.1111111111111111, \"#46039f\"], [0.2222222222222222, \"#7201a8\"], [0.3333333333333333, \"#9c179e\"], [0.4444444444444444, \"#bd3786\"], [0.5555555555555556, \"#d8576b\"], [0.6666666666666666, \"#ed7953\"], [0.7777777777777778, \"#fb9f3a\"], [0.8888888888888888, \"#fdca26\"], [1.0, \"#f0f921\"]], \"type\": \"histogram2dcontour\"}], \"mesh3d\": [{\"colorbar\": {\"outlinewidth\": 0, \"ticks\": \"\"}, \"type\": \"mesh3d\"}], \"parcoords\": [{\"line\": {\"colorbar\": {\"outlinewidth\": 0, \"ticks\": \"\"}}, \"type\": \"parcoords\"}], \"pie\": [{\"automargin\": true, \"type\": \"pie\"}], \"scatter\": [{\"marker\": {\"colorbar\": {\"outlinewidth\": 0, \"ticks\": \"\"}}, \"type\": \"scatter\"}], \"scatter3d\": [{\"line\": {\"colorbar\": {\"outlinewidth\": 0, \"ticks\": \"\"}}, \"marker\": {\"colorbar\": {\"outlinewidth\": 0, \"ticks\": \"\"}}, \"type\": \"scatter3d\"}], \"scattercarpet\": [{\"marker\": {\"colorbar\": {\"outlinewidth\": 0, \"ticks\": \"\"}}, \"type\": \"scattercarpet\"}], \"scattergeo\": [{\"marker\": {\"colorbar\": {\"outlinewidth\": 0, \"ticks\": \"\"}}, \"type\": \"scattergeo\"}], \"scattergl\": [{\"marker\": {\"colorbar\": {\"outlinewidth\": 0, \"ticks\": \"\"}}, \"type\": \"scattergl\"}], \"scattermapbox\": [{\"marker\": {\"colorbar\": {\"outlinewidth\": 0, \"ticks\": \"\"}}, \"type\": \"scattermapbox\"}], \"scatterpolar\": [{\"marker\": {\"colorbar\": {\"outlinewidth\": 0, \"ticks\": \"\"}}, \"type\": \"scatterpolar\"}], \"scatterpolargl\": [{\"marker\": {\"colorbar\": {\"outlinewidth\": 0, \"ticks\": \"\"}}, \"type\": \"scatterpolargl\"}], \"scatterternary\": [{\"marker\": {\"colorbar\": {\"outlinewidth\": 0, \"ticks\": \"\"}}, \"type\": \"scatterternary\"}], \"surface\": [{\"colorbar\": {\"outlinewidth\": 0, \"ticks\": \"\"}, \"colorscale\": [[0.0, \"#0d0887\"], [0.1111111111111111, \"#46039f\"], [0.2222222222222222, \"#7201a8\"], [0.3333333333333333, \"#9c179e\"], [0.4444444444444444, \"#bd3786\"], [0.5555555555555556, \"#d8576b\"], [0.6666666666666666, \"#ed7953\"], [0.7777777777777778, \"#fb9f3a\"], [0.8888888888888888, \"#fdca26\"], [1.0, \"#f0f921\"]], \"type\": \"surface\"}], \"table\": [{\"cells\": {\"fill\": {\"color\": \"#EBF0F8\"}, \"line\": {\"color\": \"white\"}}, \"header\": {\"fill\": {\"color\": \"#C8D4E3\"}, \"line\": {\"color\": \"white\"}}, \"type\": \"table\"}]}, \"layout\": {\"annotationdefaults\": {\"arrowcolor\": \"#2a3f5f\", \"arrowhead\": 0, \"arrowwidth\": 1}, \"coloraxis\": {\"colorbar\": {\"outlinewidth\": 0, \"ticks\": \"\"}}, \"colorscale\": {\"diverging\": [[0, \"#8e0152\"], [0.1, \"#c51b7d\"], [0.2, \"#de77ae\"], [0.3, \"#f1b6da\"], [0.4, \"#fde0ef\"], [0.5, \"#f7f7f7\"], [0.6, \"#e6f5d0\"], [0.7, \"#b8e186\"], [0.8, \"#7fbc41\"], [0.9, \"#4d9221\"], [1, \"#276419\"]], \"sequential\": [[0.0, \"#0d0887\"], [0.1111111111111111, \"#46039f\"], [0.2222222222222222, \"#7201a8\"], [0.3333333333333333, \"#9c179e\"], [0.4444444444444444, \"#bd3786\"], [0.5555555555555556, \"#d8576b\"], [0.6666666666666666, \"#ed7953\"], [0.7777777777777778, \"#fb9f3a\"], [0.8888888888888888, \"#fdca26\"], [1.0, \"#f0f921\"]], \"sequentialminus\": [[0.0, \"#0d0887\"], [0.1111111111111111, \"#46039f\"], [0.2222222222222222, \"#7201a8\"], [0.3333333333333333, \"#9c179e\"], [0.4444444444444444, \"#bd3786\"], [0.5555555555555556, \"#d8576b\"], [0.6666666666666666, \"#ed7953\"], [0.7777777777777778, \"#fb9f3a\"], [0.8888888888888888, \"#fdca26\"], [1.0, \"#f0f921\"]]}, \"colorway\": [\"#636efa\", \"#EF553B\", \"#00cc96\", \"#ab63fa\", \"#FFA15A\", \"#19d3f3\", \"#FF6692\", \"#B6E880\", \"#FF97FF\", \"#FECB52\"], \"font\": {\"color\": \"#2a3f5f\"}, \"geo\": {\"bgcolor\": \"white\", \"lakecolor\": \"white\", \"landcolor\": \"#E5ECF6\", \"showlakes\": true, \"showland\": true, \"subunitcolor\": \"white\"}, \"hoverlabel\": {\"align\": \"left\"}, \"hovermode\": \"closest\", \"mapbox\": {\"style\": \"light\"}, \"paper_bgcolor\": \"white\", \"plot_bgcolor\": \"#E5ECF6\", \"polar\": {\"angularaxis\": {\"gridcolor\": \"white\", \"linecolor\": \"white\", \"ticks\": \"\"}, \"bgcolor\": \"#E5ECF6\", \"radialaxis\": {\"gridcolor\": \"white\", \"linecolor\": \"white\", \"ticks\": \"\"}}, \"scene\": {\"xaxis\": {\"backgroundcolor\": \"#E5ECF6\", \"gridcolor\": \"white\", \"gridwidth\": 2, \"linecolor\": \"white\", \"showbackground\": true, \"ticks\": \"\", \"zerolinecolor\": \"white\"}, \"yaxis\": {\"backgroundcolor\": \"#E5ECF6\", \"gridcolor\": \"white\", \"gridwidth\": 2, \"linecolor\": \"white\", \"showbackground\": true, \"ticks\": \"\", \"zerolinecolor\": \"white\"}, \"zaxis\": {\"backgroundcolor\": \"#E5ECF6\", \"gridcolor\": \"white\", \"gridwidth\": 2, \"linecolor\": \"white\", \"showbackground\": true, \"ticks\": \"\", \"zerolinecolor\": \"white\"}}, \"shapedefaults\": {\"line\": {\"color\": \"#2a3f5f\"}}, \"ternary\": {\"aaxis\": {\"gridcolor\": \"white\", \"linecolor\": \"white\", \"ticks\": \"\"}, \"baxis\": {\"gridcolor\": \"white\", \"linecolor\": \"white\", \"ticks\": \"\"}, \"bgcolor\": \"#E5ECF6\", \"caxis\": {\"gridcolor\": \"white\", \"linecolor\": \"white\", \"ticks\": \"\"}}, \"title\": {\"x\": 0.05}, \"xaxis\": {\"automargin\": true, \"gridcolor\": \"white\", \"linecolor\": \"white\", \"ticks\": \"\", \"title\": {\"standoff\": 15}, \"zerolinecolor\": \"white\", \"zerolinewidth\": 2}, \"yaxis\": {\"automargin\": true, \"gridcolor\": \"white\", \"linecolor\": \"white\", \"ticks\": \"\", \"title\": {\"standoff\": 15}, \"zerolinecolor\": \"white\", \"zerolinewidth\": 2}}}},\n",
       "                        {\"responsive\": true}\n",
       "                    ).then(function(){\n",
       "                            \n",
       "var gd = document.getElementById('316d73ae-c257-483f-bb35-d56f829c0a4f');\n",
       "var x = new MutationObserver(function (mutations, observer) {{\n",
       "        var display = window.getComputedStyle(gd).display;\n",
       "        if (!display || display === 'none') {{\n",
       "            console.log([gd, 'removed!']);\n",
       "            Plotly.purge(gd);\n",
       "            observer.disconnect();\n",
       "        }}\n",
       "}});\n",
       "\n",
       "// Listen for the removal of the full notebook cells\n",
       "var notebookContainer = gd.closest('#notebook-container');\n",
       "if (notebookContainer) {{\n",
       "    x.observe(notebookContainer, {childList: true});\n",
       "}}\n",
       "\n",
       "// Listen for the clearing of the current output cell\n",
       "var outputEl = gd.closest('.output');\n",
       "if (outputEl) {{\n",
       "    x.observe(outputEl, {childList: true});\n",
       "}}\n",
       "\n",
       "                        })\n",
       "                };\n",
       "                });\n",
       "            </script>\n",
       "        </div>"
      ]
     },
     "metadata": {},
     "output_type": "display_data"
    }
   ],
   "source": [
    "import plotly.express as px\n",
    "\n",
    "fig = px.choropleth(result_df, locations=\"iso_alpha\",\n",
    "                    color=\"Success Index\", # lifeExp is a column of gapminder\n",
    "                    hover_name=\"Country\", # column to add to hover information\n",
    "                    hover_data=[\"Country\",'Product'],\n",
    "                    color_continuous_scale=px.colors.sequential.Plasma)\n",
    "fig.show()"
   ]
  },
  {
   "cell_type": "markdown",
   "metadata": {},
   "source": [
    "### Test"
   ]
  },
  {
   "cell_type": "code",
   "execution_count": 116,
   "metadata": {
    "ExecuteTime": {
     "end_time": "2020-04-10T09:54:22.499696Z",
     "start_time": "2020-04-10T09:54:21.960751Z"
    },
    "scrolled": true
   },
   "outputs": [
    {
     "data": {
      "image/png": "[encoded data removed]",
      "text/plain": [
       "<Figure size 432x432 with 1 Axes>"
      ]
     },
     "metadata": {
      "needs_background": "light"
     },
     "output_type": "display_data"
    },
    {
     "data": {
      "image/png": "[encoded data removed]",
      "text/plain": [
       "<Figure size 432x432 with 1 Axes>"
      ]
     },
     "metadata": {
      "needs_background": "light"
     },
     "output_type": "display_data"
    },
    {
     "data": {
      "image/png": "[encoded data removed]",
      "text/plain": [
       "<Figure size 432x432 with 1 Axes>"
      ]
     },
     "metadata": {
      "needs_background": "light"
     },
     "output_type": "display_data"
    }
   ],
   "source": [
    "import matplotlib.image as mpimg\n",
    "\n",
    "for i in range(1,4):\n",
    "    img=mpimg.imread(test_link+'test_{}.jpg'.format(i))\n",
    "    plt.figure(figsize=(6,6))\n",
    "    imgplot = plt.imshow(img)"
   ]
  },
  {
   "cell_type": "code",
   "execution_count": 117,
   "metadata": {
    "ExecuteTime": {
     "end_time": "2020-04-10T09:54:57.395039Z",
     "start_time": "2020-04-10T09:54:57.379493Z"
    }
   },
   "outputs": [],
   "source": [
    "test_link = '/home/jishu/sql/'\n",
    "os.chdir(os.path.join(test_link))\n",
    "test_images = []\n",
    "for i in range(1,4):\n",
    "    test_images.append(load_image(test_link+'test_{}.jpg'.format(i)))"
   ]
  },
  {
   "cell_type": "code",
   "execution_count": 124,
   "metadata": {
    "ExecuteTime": {
     "end_time": "2020-04-10T09:56:29.005795Z",
     "start_time": "2020-04-10T09:56:29.003523Z"
    }
   },
   "outputs": [],
   "source": [
    "trial_meta = meta_input_usa[3001]"
   ]
  },
  {
   "cell_type": "code",
   "execution_count": 74,
   "metadata": {
    "ExecuteTime": {
     "end_time": "2020-04-10T08:52:48.844108Z",
     "start_time": "2020-04-10T08:52:48.841630Z"
    }
   },
   "outputs": [],
   "source": [
    "trial_meta = meta_input_usa[3001]\n",
    "trial_meta = trial_meta.reshape(1,4,1,1)"
   ]
  },
  {
   "cell_type": "code",
   "execution_count": 75,
   "metadata": {
    "ExecuteTime": {
     "end_time": "2020-04-10T08:52:50.608210Z",
     "start_time": "2020-04-10T08:52:50.606046Z"
    }
   },
   "outputs": [],
   "source": [
    "trail_image = images[3001]\n",
    "trail_image = trail_image.reshape(1,128,128,3) "
   ]
  },
  {
   "cell_type": "code",
   "execution_count": 87,
   "metadata": {
    "ExecuteTime": {
     "end_time": "2020-04-10T08:55:00.989444Z",
     "start_time": "2020-04-10T08:55:00.983568Z"
    }
   },
   "outputs": [
    {
     "data": {
      "text/plain": [
       "6.1500564"
      ]
     },
     "execution_count": 87,
     "metadata": {},
     "output_type": "execute_result"
    }
   ],
   "source": [
    "pred1 = model.predict({'main_input': trail_image, 'meta_input': trial_meta})[0][0]\n",
    "pred1"
   ]
  },
  {
   "cell_type": "markdown",
   "metadata": {
    "ExecuteTime": {
     "end_time": "2020-04-10T10:04:52.142235Z",
     "start_time": "2020-04-10T10:04:52.139193Z"
    }
   },
   "source": [
    "Order: \n",
    "- product_length,\n",
    "- product_height,\n",
    "- product_width,\n",
    "- shipping_weight"
   ]
  },
  {
   "cell_type": "code",
   "execution_count": 148,
   "metadata": {
    "ExecuteTime": {
     "end_time": "2020-04-10T10:13:31.597503Z",
     "start_time": "2020-04-10T10:13:31.589921Z"
    }
   },
   "outputs": [
    {
     "data": {
      "text/plain": [
       "6.252386"
      ]
     },
     "execution_count": 148,
     "metadata": {},
     "output_type": "execute_result"
    }
   ],
   "source": [
    "test_pl_1 = 13 \n",
    "test_ph_1 = 11\n",
    "test_pw_1 = 12\n",
    "test_w_1 = 15\n",
    "trial_meta_1 = np.array([test_pl_1,test_ph_1,test_pw_1,test_w_1])\n",
    "trial_meta_1 = trial_meta_1.reshape(1,4,1,1)\n",
    "\n",
    "trail_image_1 = test_images[0]\n",
    "trail_image_1 = trail_image_1.reshape(1,128,128,3) \n",
    "\n",
    "pred_test_1 = model.predict({'main_input': trail_image_1, 'meta_input': trial_meta_1})[0][0]\n",
    "pred_test_1"
   ]
  },
  {
   "cell_type": "code",
   "execution_count": 131,
   "metadata": {
    "ExecuteTime": {
     "end_time": "2020-04-10T10:07:30.165163Z",
     "start_time": "2020-04-10T10:07:29.958041Z"
    }
   },
   "outputs": [
    {
     "data": {
      "application/vnd.plotly.v1+json": {
       "config": {
        "plotlyServerURL": "https://plot.ly"
       },
       "data": [
        {
         "coloraxis": "coloraxis",
         "customdata": [
          [
           "United States of America",
           "Shampoo"
          ]
         ],
         "geo": "geo",
         "hovertemplate": "<b>%{hovertext}</b><br><br>Country=%{customdata[0]}<br>Product=%{customdata[1]}<br>iso_alpha=%{location}<br>Success Index=%{z}<extra></extra>",
         "hovertext": [
          "United States of America"
         ],
         "locations": [
          "USA"
         ],
         "name": "",
         "type": "choropleth",
         "z": [
          6.255517959594727
         ]
        }
       ],
       "layout": {
        "coloraxis": {
         "colorbar": {
          "title": {
           "text": "Success Index"
          }
         },
         "colorscale": [
          [
           0,
           "#0d0887"
          ],
          [
           0.1111111111111111,
           "#46039f"
          ],
          [
           0.2222222222222222,
           "#7201a8"
          ],
          [
           0.3333333333333333,
           "#9c179e"
          ],
          [
           0.4444444444444444,
           "#bd3786"
          ],
          [
           0.5555555555555556,
           "#d8576b"
          ],
          [
           0.6666666666666666,
           "#ed7953"
          ],
          [
           0.7777777777777778,
           "#fb9f3a"
          ],
          [
           0.8888888888888888,
           "#fdca26"
          ],
          [
           1,
           "#f0f921"
          ]
         ]
        },
        "geo": {
         "center": {},
         "domain": {
          "x": [
           0,
           1
          ],
          "y": [
           0,
           1
          ]
         }
        },
        "legend": {
         "tracegroupgap": 0
        },
        "margin": {
         "t": 60
        },
        "template": {
         "data": {
          "bar": [
           {
            "error_x": {
             "color": "#2a3f5f"
            },
            "error_y": {
             "color": "#2a3f5f"
            },
            "marker": {
             "line": {
              "color": "#E5ECF6",
              "width": 0.5
             }
            },
            "type": "bar"
           }
          ],
          "barpolar": [
           {
            "marker": {
             "line": {
              "color": "#E5ECF6",
              "width": 0.5
             }
            },
            "type": "barpolar"
           }
          ],
          "carpet": [
           {
            "aaxis": {
             "endlinecolor": "#2a3f5f",
             "gridcolor": "white",
             "linecolor": "white",
             "minorgridcolor": "white",
             "startlinecolor": "#2a3f5f"
            },
            "baxis": {
             "endlinecolor": "#2a3f5f",
             "gridcolor": "white",
             "linecolor": "white",
             "minorgridcolor": "white",
             "startlinecolor": "#2a3f5f"
            },
            "type": "carpet"
           }
          ],
          "choropleth": [
           {
            "colorbar": {
             "outlinewidth": 0,
             "ticks": ""
            },
            "type": "choropleth"
           }
          ],
          "contour": [
           {
            "colorbar": {
             "outlinewidth": 0,
             "ticks": ""
            },
            "colorscale": [
             [
              0,
              "#0d0887"
             ],
             [
              0.1111111111111111,
              "#46039f"
             ],
             [
              0.2222222222222222,
              "#7201a8"
             ],
             [
              0.3333333333333333,
              "#9c179e"
             ],
             [
              0.4444444444444444,
              "#bd3786"
             ],
             [
              0.5555555555555556,
              "#d8576b"
             ],
             [
              0.6666666666666666,
              "#ed7953"
             ],
             [
              0.7777777777777778,
              "#fb9f3a"
             ],
             [
              0.8888888888888888,
              "#fdca26"
             ],
             [
              1,
              "#f0f921"
             ]
            ],
            "type": "contour"
           }
          ],
          "contourcarpet": [
           {
            "colorbar": {
             "outlinewidth": 0,
             "ticks": ""
            },
            "type": "contourcarpet"
           }
          ],
          "heatmap": [
           {
            "colorbar": {
             "outlinewidth": 0,
             "ticks": ""
            },
            "colorscale": [
             [
              0,
              "#0d0887"
             ],
             [
              0.1111111111111111,
              "#46039f"
             ],
             [
              0.2222222222222222,
              "#7201a8"
             ],
             [
              0.3333333333333333,
              "#9c179e"
             ],
             [
              0.4444444444444444,
              "#bd3786"
             ],
             [
              0.5555555555555556,
              "#d8576b"
             ],
             [
              0.6666666666666666,
              "#ed7953"
             ],
             [
              0.7777777777777778,
              "#fb9f3a"
             ],
             [
              0.8888888888888888,
              "#fdca26"
             ],
             [
              1,
              "#f0f921"
             ]
            ],
            "type": "heatmap"
           }
          ],
          "heatmapgl": [
           {
            "colorbar": {
             "outlinewidth": 0,
             "ticks": ""
            },
            "colorscale": [
             [
              0,
              "#0d0887"
             ],
             [
              0.1111111111111111,
              "#46039f"
             ],
             [
              0.2222222222222222,
              "#7201a8"
             ],
             [
              0.3333333333333333,
              "#9c179e"
             ],
             [
              0.4444444444444444,
              "#bd3786"
             ],
             [
              0.5555555555555556,
              "#d8576b"
             ],
             [
              0.6666666666666666,
              "#ed7953"
             ],
             [
              0.7777777777777778,
              "#fb9f3a"
             ],
             [
              0.8888888888888888,
              "#fdca26"
             ],
             [
              1,
              "#f0f921"
             ]
            ],
            "type": "heatmapgl"
           }
          ],
          "histogram": [
           {
            "marker": {
             "colorbar": {
              "outlinewidth": 0,
              "ticks": ""
             }
            },
            "type": "histogram"
           }
          ],
          "histogram2d": [
           {
            "colorbar": {
             "outlinewidth": 0,
             "ticks": ""
            },
            "colorscale": [
             [
              0,
              "#0d0887"
             ],
             [
              0.1111111111111111,
              "#46039f"
             ],
             [
              0.2222222222222222,
              "#7201a8"
             ],
             [
              0.3333333333333333,
              "#9c179e"
             ],
             [
              0.4444444444444444,
              "#bd3786"
             ],
             [
              0.5555555555555556,
              "#d8576b"
             ],
             [
              0.6666666666666666,
              "#ed7953"
             ],
             [
              0.7777777777777778,
              "#fb9f3a"
             ],
             [
              0.8888888888888888,
              "#fdca26"
             ],
             [
              1,
              "#f0f921"
             ]
            ],
            "type": "histogram2d"
           }
          ],
          "histogram2dcontour": [
           {
            "colorbar": {
             "outlinewidth": 0,
             "ticks": ""
            },
            "colorscale": [
             [
              0,
              "#0d0887"
             ],
             [
              0.1111111111111111,
              "#46039f"
             ],
             [
              0.2222222222222222,
              "#7201a8"
             ],
             [
              0.3333333333333333,
              "#9c179e"
             ],
             [
              0.4444444444444444,
              "#bd3786"
             ],
             [
              0.5555555555555556,
              "#d8576b"
             ],
             [
              0.6666666666666666,
              "#ed7953"
             ],
             [
              0.7777777777777778,
              "#fb9f3a"
             ],
             [
              0.8888888888888888,
              "#fdca26"
             ],
             [
              1,
              "#f0f921"
             ]
            ],
            "type": "histogram2dcontour"
           }
          ],
          "mesh3d": [
           {
            "colorbar": {
             "outlinewidth": 0,
             "ticks": ""
            },
            "type": "mesh3d"
           }
          ],
          "parcoords": [
           {
            "line": {
             "colorbar": {
              "outlinewidth": 0,
              "ticks": ""
             }
            },
            "type": "parcoords"
           }
          ],
          "pie": [
           {
            "automargin": true,
            "type": "pie"
           }
          ],
          "scatter": [
           {
            "marker": {
             "colorbar": {
              "outlinewidth": 0,
              "ticks": ""
             }
            },
            "type": "scatter"
           }
          ],
          "scatter3d": [
           {
            "line": {
             "colorbar": {
              "outlinewidth": 0,
              "ticks": ""
             }
            },
            "marker": {
             "colorbar": {
              "outlinewidth": 0,
              "ticks": ""
             }
            },
            "type": "scatter3d"
           }
          ],
          "scattercarpet": [
           {
            "marker": {
             "colorbar": {
              "outlinewidth": 0,
              "ticks": ""
             }
            },
            "type": "scattercarpet"
           }
          ],
          "scattergeo": [
           {
            "marker": {
             "colorbar": {
              "outlinewidth": 0,
              "ticks": ""
             }
            },
            "type": "scattergeo"
           }
          ],
          "scattergl": [
           {
            "marker": {
             "colorbar": {
              "outlinewidth": 0,
              "ticks": ""
             }
            },
            "type": "scattergl"
           }
          ],
          "scattermapbox": [
           {
            "marker": {
             "colorbar": {
              "outlinewidth": 0,
              "ticks": ""
             }
            },
            "type": "scattermapbox"
           }
          ],
          "scatterpolar": [
           {
            "marker": {
             "colorbar": {
              "outlinewidth": 0,
              "ticks": ""
             }
            },
            "type": "scatterpolar"
           }
          ],
          "scatterpolargl": [
           {
            "marker": {
             "colorbar": {
              "outlinewidth": 0,
              "ticks": ""
             }
            },
            "type": "scatterpolargl"
           }
          ],
          "scatterternary": [
           {
            "marker": {
             "colorbar": {
              "outlinewidth": 0,
              "ticks": ""
             }
            },
            "type": "scatterternary"
           }
          ],
          "surface": [
           {
            "colorbar": {
             "outlinewidth": 0,
             "ticks": ""
            },
            "colorscale": [
             [
              0,
              "#0d0887"
             ],
             [
              0.1111111111111111,
              "#46039f"
             ],
             [
              0.2222222222222222,
              "#7201a8"
             ],
             [
              0.3333333333333333,
              "#9c179e"
             ],
             [
              0.4444444444444444,
              "#bd3786"
             ],
             [
              0.5555555555555556,
              "#d8576b"
             ],
             [
              0.6666666666666666,
              "#ed7953"
             ],
             [
              0.7777777777777778,
              "#fb9f3a"
             ],
             [
              0.8888888888888888,
              "#fdca26"
             ],
             [
              1,
              "#f0f921"
             ]
            ],
            "type": "surface"
           }
          ],
          "table": [
           {
            "cells": {
             "fill": {
              "color": "#EBF0F8"
             },
             "line": {
              "color": "white"
             }
            },
            "header": {
             "fill": {
              "color": "#C8D4E3"
             },
             "line": {
              "color": "white"
             }
            },
            "type": "table"
           }
          ]
         },
         "layout": {
          "annotationdefaults": {
           "arrowcolor": "#2a3f5f",
           "arrowhead": 0,
           "arrowwidth": 1
          },
          "coloraxis": {
           "colorbar": {
            "outlinewidth": 0,
            "ticks": ""
           }
          },
          "colorscale": {
           "diverging": [
            [
             0,
             "#8e0152"
            ],
            [
             0.1,
             "#c51b7d"
            ],
            [
             0.2,
             "#de77ae"
            ],
            [
             0.3,
             "#f1b6da"
            ],
            [
             0.4,
             "#fde0ef"
            ],
            [
             0.5,
             "#f7f7f7"
            ],
            [
             0.6,
             "#e6f5d0"
            ],
            [
             0.7,
             "#b8e186"
            ],
            [
             0.8,
             "#7fbc41"
            ],
            [
             0.9,
             "#4d9221"
            ],
            [
             1,
             "#276419"
            ]
           ],
           "sequential": [
            [
             0,
             "#0d0887"
            ],
            [
             0.1111111111111111,
             "#46039f"
            ],
            [
             0.2222222222222222,
             "#7201a8"
            ],
            [
             0.3333333333333333,
             "#9c179e"
            ],
            [
             0.4444444444444444,
             "#bd3786"
            ],
            [
             0.5555555555555556,
             "#d8576b"
            ],
            [
             0.6666666666666666,
             "#ed7953"
            ],
            [
             0.7777777777777778,
             "#fb9f3a"
            ],
            [
             0.8888888888888888,
             "#fdca26"
            ],
            [
             1,
             "#f0f921"
            ]
           ],
           "sequentialminus": [
            [
             0,
             "#0d0887"
            ],
            [
             0.1111111111111111,
             "#46039f"
            ],
            [
             0.2222222222222222,
             "#7201a8"
            ],
            [
             0.3333333333333333,
             "#9c179e"
            ],
            [
             0.4444444444444444,
             "#bd3786"
            ],
            [
             0.5555555555555556,
             "#d8576b"
            ],
            [
             0.6666666666666666,
             "#ed7953"
            ],
            [
             0.7777777777777778,
             "#fb9f3a"
            ],
            [
             0.8888888888888888,
             "#fdca26"
            ],
            [
             1,
             "#f0f921"
            ]
           ]
          },
          "colorway": [
           "#636efa",
           "#EF553B",
           "#00cc96",
           "#ab63fa",
           "#FFA15A",
           "#19d3f3",
           "#FF6692",
           "#B6E880",
           "#FF97FF",
           "#FECB52"
          ],
          "font": {
           "color": "#2a3f5f"
          },
          "geo": {
           "bgcolor": "white",
           "lakecolor": "white",
           "landcolor": "#E5ECF6",
           "showlakes": true,
           "showland": true,
           "subunitcolor": "white"
          },
          "hoverlabel": {
           "align": "left"
          },
          "hovermode": "closest",
          "mapbox": {
           "style": "light"
          },
          "paper_bgcolor": "white",
          "plot_bgcolor": "#E5ECF6",
          "polar": {
           "angularaxis": {
            "gridcolor": "white",
            "linecolor": "white",
            "ticks": ""
           },
           "bgcolor": "#E5ECF6",
           "radialaxis": {
            "gridcolor": "white",
            "linecolor": "white",
            "ticks": ""
           }
          },
          "scene": {
           "xaxis": {
            "backgroundcolor": "#E5ECF6",
            "gridcolor": "white",
            "gridwidth": 2,
            "linecolor": "white",
            "showbackground": true,
            "ticks": "",
            "zerolinecolor": "white"
           },
           "yaxis": {
            "backgroundcolor": "#E5ECF6",
            "gridcolor": "white",
            "gridwidth": 2,
            "linecolor": "white",
            "showbackground": true,
            "ticks": "",
            "zerolinecolor": "white"
           },
           "zaxis": {
            "backgroundcolor": "#E5ECF6",
            "gridcolor": "white",
            "gridwidth": 2,
            "linecolor": "white",
            "showbackground": true,
            "ticks": "",
            "zerolinecolor": "white"
           }
          },
          "shapedefaults": {
           "line": {
            "color": "#2a3f5f"
           }
          },
          "ternary": {
           "aaxis": {
            "gridcolor": "white",
            "linecolor": "white",
            "ticks": ""
           },
           "baxis": {
            "gridcolor": "white",
            "linecolor": "white",
            "ticks": ""
           },
           "bgcolor": "#E5ECF6",
           "caxis": {
            "gridcolor": "white",
            "linecolor": "white",
            "ticks": ""
           }
          },
          "title": {
           "x": 0.05
          },
          "xaxis": {
           "automargin": true,
           "gridcolor": "white",
           "linecolor": "white",
           "ticks": "",
           "title": {
            "standoff": 15
           },
           "zerolinecolor": "white",
           "zerolinewidth": 2
          },
          "yaxis": {
           "automargin": true,
           "gridcolor": "white",
           "linecolor": "white",
           "ticks": "",
           "title": {
            "standoff": 15
           },
           "zerolinecolor": "white",
           "zerolinewidth": 2
          }
         }
        }
       }
      },
      "text/html": [
       "<div>\n",
       "        \n",
       "        \n",
       "            <div id=\"9bc54086-9363-4c74-b819-e96382bd0866\" class=\"plotly-graph-div\" style=\"height:525px; width:100%;\"></div>\n",
       "            <script type=\"text/javascript\">\n",
       "                require([\"plotly\"], function(Plotly) {\n",
       "                    window.PLOTLYENV=window.PLOTLYENV || {};\n",
       "                    \n",
       "                if (document.getElementById(\"9bc54086-9363-4c74-b819-e96382bd0866\")) {\n",
       "                    Plotly.newPlot(\n",
       "                        '9bc54086-9363-4c74-b819-e96382bd0866',\n",
       "                        [{\"coloraxis\": \"coloraxis\", \"customdata\": [[\"United States of America\", \"Shampoo\"]], \"geo\": \"geo\", \"hovertemplate\": \"<b>%{hovertext}</b><br><br>Country=%{customdata[0]}<br>Product=%{customdata[1]}<br>iso_alpha=%{location}<br>Success Index=%{z}<extra></extra>\", \"hovertext\": [\"United States of America\"], \"locations\": [\"USA\"], \"name\": \"\", \"type\": \"choropleth\", \"z\": [6.255517959594727]}],\n",
       "                        {\"coloraxis\": {\"colorbar\": {\"title\": {\"text\": \"Success Index\"}}, \"colorscale\": [[0.0, \"#0d0887\"], [0.1111111111111111, \"#46039f\"], [0.2222222222222222, \"#7201a8\"], [0.3333333333333333, \"#9c179e\"], [0.4444444444444444, \"#bd3786\"], [0.5555555555555556, \"#d8576b\"], [0.6666666666666666, \"#ed7953\"], [0.7777777777777778, \"#fb9f3a\"], [0.8888888888888888, \"#fdca26\"], [1.0, \"#f0f921\"]]}, \"geo\": {\"center\": {}, \"domain\": {\"x\": [0.0, 1.0], \"y\": [0.0, 1.0]}}, \"legend\": {\"tracegroupgap\": 0}, \"margin\": {\"t\": 60}, \"template\": {\"data\": {\"bar\": [{\"error_x\": {\"color\": \"#2a3f5f\"}, \"error_y\": {\"color\": \"#2a3f5f\"}, \"marker\": {\"line\": {\"color\": \"#E5ECF6\", \"width\": 0.5}}, \"type\": \"bar\"}], \"barpolar\": [{\"marker\": {\"line\": {\"color\": \"#E5ECF6\", \"width\": 0.5}}, \"type\": \"barpolar\"}], \"carpet\": [{\"aaxis\": {\"endlinecolor\": \"#2a3f5f\", \"gridcolor\": \"white\", \"linecolor\": \"white\", \"minorgridcolor\": \"white\", \"startlinecolor\": \"#2a3f5f\"}, \"baxis\": {\"endlinecolor\": \"#2a3f5f\", \"gridcolor\": \"white\", \"linecolor\": \"white\", \"minorgridcolor\": \"white\", \"startlinecolor\": \"#2a3f5f\"}, \"type\": \"carpet\"}], \"choropleth\": [{\"colorbar\": {\"outlinewidth\": 0, \"ticks\": \"\"}, \"type\": \"choropleth\"}], \"contour\": [{\"colorbar\": {\"outlinewidth\": 0, \"ticks\": \"\"}, \"colorscale\": [[0.0, \"#0d0887\"], [0.1111111111111111, \"#46039f\"], [0.2222222222222222, \"#7201a8\"], [0.3333333333333333, \"#9c179e\"], [0.4444444444444444, \"#bd3786\"], [0.5555555555555556, \"#d8576b\"], [0.6666666666666666, \"#ed7953\"], [0.7777777777777778, \"#fb9f3a\"], [0.8888888888888888, \"#fdca26\"], [1.0, \"#f0f921\"]], \"type\": \"contour\"}], \"contourcarpet\": [{\"colorbar\": {\"outlinewidth\": 0, \"ticks\": \"\"}, \"type\": \"contourcarpet\"}], \"heatmap\": [{\"colorbar\": {\"outlinewidth\": 0, \"ticks\": \"\"}, \"colorscale\": [[0.0, \"#0d0887\"], [0.1111111111111111, \"#46039f\"], [0.2222222222222222, \"#7201a8\"], [0.3333333333333333, \"#9c179e\"], [0.4444444444444444, \"#bd3786\"], [0.5555555555555556, \"#d8576b\"], [0.6666666666666666, \"#ed7953\"], [0.7777777777777778, \"#fb9f3a\"], [0.8888888888888888, \"#fdca26\"], [1.0, \"#f0f921\"]], \"type\": \"heatmap\"}], \"heatmapgl\": [{\"colorbar\": {\"outlinewidth\": 0, \"ticks\": \"\"}, \"colorscale\": [[0.0, \"#0d0887\"], [0.1111111111111111, \"#46039f\"], [0.2222222222222222, \"#7201a8\"], [0.3333333333333333, \"#9c179e\"], [0.4444444444444444, \"#bd3786\"], [0.5555555555555556, \"#d8576b\"], [0.6666666666666666, \"#ed7953\"], [0.7777777777777778, \"#fb9f3a\"], [0.8888888888888888, \"#fdca26\"], [1.0, \"#f0f921\"]], \"type\": \"heatmapgl\"}], \"histogram\": [{\"marker\": {\"colorbar\": {\"outlinewidth\": 0, \"ticks\": \"\"}}, \"type\": \"histogram\"}], \"histogram2d\": [{\"colorbar\": {\"outlinewidth\": 0, \"ticks\": \"\"}, \"colorscale\": [[0.0, \"#0d0887\"], [0.1111111111111111, \"#46039f\"], [0.2222222222222222, \"#7201a8\"], [0.3333333333333333, \"#9c179e\"], [0.4444444444444444, \"#bd3786\"], [0.5555555555555556, \"#d8576b\"], [0.6666666666666666, \"#ed7953\"], [0.7777777777777778, \"#fb9f3a\"], [0.8888888888888888, \"#fdca26\"], [1.0, \"#f0f921\"]], \"type\": \"histogram2d\"}], \"histogram2dcontour\": [{\"colorbar\": {\"outlinewidth\": 0, \"ticks\": \"\"}, \"colorscale\": [[0.0, \"#0d0887\"], [0.1111111111111111, \"#46039f\"], [0.2222222222222222, \"#7201a8\"], [0.3333333333333333, \"#9c179e\"], [0.4444444444444444, \"#bd3786\"], [0.5555555555555556, \"#d8576b\"], [0.6666666666666666, \"#ed7953\"], [0.7777777777777778, \"#fb9f3a\"], [0.8888888888888888, \"#fdca26\"], [1.0, \"#f0f921\"]], \"type\": \"histogram2dcontour\"}], \"mesh3d\": [{\"colorbar\": {\"outlinewidth\": 0, \"ticks\": \"\"}, \"type\": \"mesh3d\"}], \"parcoords\": [{\"line\": {\"colorbar\": {\"outlinewidth\": 0, \"ticks\": \"\"}}, \"type\": \"parcoords\"}], \"pie\": [{\"automargin\": true, \"type\": \"pie\"}], \"scatter\": [{\"marker\": {\"colorbar\": {\"outlinewidth\": 0, \"ticks\": \"\"}}, \"type\": \"scatter\"}], \"scatter3d\": [{\"line\": {\"colorbar\": {\"outlinewidth\": 0, \"ticks\": \"\"}}, \"marker\": {\"colorbar\": {\"outlinewidth\": 0, \"ticks\": \"\"}}, \"type\": \"scatter3d\"}], \"scattercarpet\": [{\"marker\": {\"colorbar\": {\"outlinewidth\": 0, \"ticks\": \"\"}}, \"type\": \"scattercarpet\"}], \"scattergeo\": [{\"marker\": {\"colorbar\": {\"outlinewidth\": 0, \"ticks\": \"\"}}, \"type\": \"scattergeo\"}], \"scattergl\": [{\"marker\": {\"colorbar\": {\"outlinewidth\": 0, \"ticks\": \"\"}}, \"type\": \"scattergl\"}], \"scattermapbox\": [{\"marker\": {\"colorbar\": {\"outlinewidth\": 0, \"ticks\": \"\"}}, \"type\": \"scattermapbox\"}], \"scatterpolar\": [{\"marker\": {\"colorbar\": {\"outlinewidth\": 0, \"ticks\": \"\"}}, \"type\": \"scatterpolar\"}], \"scatterpolargl\": [{\"marker\": {\"colorbar\": {\"outlinewidth\": 0, \"ticks\": \"\"}}, \"type\": \"scatterpolargl\"}], \"scatterternary\": [{\"marker\": {\"colorbar\": {\"outlinewidth\": 0, \"ticks\": \"\"}}, \"type\": \"scatterternary\"}], \"surface\": [{\"colorbar\": {\"outlinewidth\": 0, \"ticks\": \"\"}, \"colorscale\": [[0.0, \"#0d0887\"], [0.1111111111111111, \"#46039f\"], [0.2222222222222222, \"#7201a8\"], [0.3333333333333333, \"#9c179e\"], [0.4444444444444444, \"#bd3786\"], [0.5555555555555556, \"#d8576b\"], [0.6666666666666666, \"#ed7953\"], [0.7777777777777778, \"#fb9f3a\"], [0.8888888888888888, \"#fdca26\"], [1.0, \"#f0f921\"]], \"type\": \"surface\"}], \"table\": [{\"cells\": {\"fill\": {\"color\": \"#EBF0F8\"}, \"line\": {\"color\": \"white\"}}, \"header\": {\"fill\": {\"color\": \"#C8D4E3\"}, \"line\": {\"color\": \"white\"}}, \"type\": \"table\"}]}, \"layout\": {\"annotationdefaults\": {\"arrowcolor\": \"#2a3f5f\", \"arrowhead\": 0, \"arrowwidth\": 1}, \"coloraxis\": {\"colorbar\": {\"outlinewidth\": 0, \"ticks\": \"\"}}, \"colorscale\": {\"diverging\": [[0, \"#8e0152\"], [0.1, \"#c51b7d\"], [0.2, \"#de77ae\"], [0.3, \"#f1b6da\"], [0.4, \"#fde0ef\"], [0.5, \"#f7f7f7\"], [0.6, \"#e6f5d0\"], [0.7, \"#b8e186\"], [0.8, \"#7fbc41\"], [0.9, \"#4d9221\"], [1, \"#276419\"]], \"sequential\": [[0.0, \"#0d0887\"], [0.1111111111111111, \"#46039f\"], [0.2222222222222222, \"#7201a8\"], [0.3333333333333333, \"#9c179e\"], [0.4444444444444444, \"#bd3786\"], [0.5555555555555556, \"#d8576b\"], [0.6666666666666666, \"#ed7953\"], [0.7777777777777778, \"#fb9f3a\"], [0.8888888888888888, \"#fdca26\"], [1.0, \"#f0f921\"]], \"sequentialminus\": [[0.0, \"#0d0887\"], [0.1111111111111111, \"#46039f\"], [0.2222222222222222, \"#7201a8\"], [0.3333333333333333, \"#9c179e\"], [0.4444444444444444, \"#bd3786\"], [0.5555555555555556, \"#d8576b\"], [0.6666666666666666, \"#ed7953\"], [0.7777777777777778, \"#fb9f3a\"], [0.8888888888888888, \"#fdca26\"], [1.0, \"#f0f921\"]]}, \"colorway\": [\"#636efa\", \"#EF553B\", \"#00cc96\", \"#ab63fa\", \"#FFA15A\", \"#19d3f3\", \"#FF6692\", \"#B6E880\", \"#FF97FF\", \"#FECB52\"], \"font\": {\"color\": \"#2a3f5f\"}, \"geo\": {\"bgcolor\": \"white\", \"lakecolor\": \"white\", \"landcolor\": \"#E5ECF6\", \"showlakes\": true, \"showland\": true, \"subunitcolor\": \"white\"}, \"hoverlabel\": {\"align\": \"left\"}, \"hovermode\": \"closest\", \"mapbox\": {\"style\": \"light\"}, \"paper_bgcolor\": \"white\", \"plot_bgcolor\": \"#E5ECF6\", \"polar\": {\"angularaxis\": {\"gridcolor\": \"white\", \"linecolor\": \"white\", \"ticks\": \"\"}, \"bgcolor\": \"#E5ECF6\", \"radialaxis\": {\"gridcolor\": \"white\", \"linecolor\": \"white\", \"ticks\": \"\"}}, \"scene\": {\"xaxis\": {\"backgroundcolor\": \"#E5ECF6\", \"gridcolor\": \"white\", \"gridwidth\": 2, \"linecolor\": \"white\", \"showbackground\": true, \"ticks\": \"\", \"zerolinecolor\": \"white\"}, \"yaxis\": {\"backgroundcolor\": \"#E5ECF6\", \"gridcolor\": \"white\", \"gridwidth\": 2, \"linecolor\": \"white\", \"showbackground\": true, \"ticks\": \"\", \"zerolinecolor\": \"white\"}, \"zaxis\": {\"backgroundcolor\": \"#E5ECF6\", \"gridcolor\": \"white\", \"gridwidth\": 2, \"linecolor\": \"white\", \"showbackground\": true, \"ticks\": \"\", \"zerolinecolor\": \"white\"}}, \"shapedefaults\": {\"line\": {\"color\": \"#2a3f5f\"}}, \"ternary\": {\"aaxis\": {\"gridcolor\": \"white\", \"linecolor\": \"white\", \"ticks\": \"\"}, \"baxis\": {\"gridcolor\": \"white\", \"linecolor\": \"white\", \"ticks\": \"\"}, \"bgcolor\": \"#E5ECF6\", \"caxis\": {\"gridcolor\": \"white\", \"linecolor\": \"white\", \"ticks\": \"\"}}, \"title\": {\"x\": 0.05}, \"xaxis\": {\"automargin\": true, \"gridcolor\": \"white\", \"linecolor\": \"white\", \"ticks\": \"\", \"title\": {\"standoff\": 15}, \"zerolinecolor\": \"white\", \"zerolinewidth\": 2}, \"yaxis\": {\"automargin\": true, \"gridcolor\": \"white\", \"linecolor\": \"white\", \"ticks\": \"\", \"title\": {\"standoff\": 15}, \"zerolinecolor\": \"white\", \"zerolinewidth\": 2}}}},\n",
       "                        {\"responsive\": true}\n",
       "                    ).then(function(){\n",
       "                            \n",
       "var gd = document.getElementById('9bc54086-9363-4c74-b819-e96382bd0866');\n",
       "var x = new MutationObserver(function (mutations, observer) {{\n",
       "        var display = window.getComputedStyle(gd).display;\n",
       "        if (!display || display === 'none') {{\n",
       "            console.log([gd, 'removed!']);\n",
       "            Plotly.purge(gd);\n",
       "            observer.disconnect();\n",
       "        }}\n",
       "}});\n",
       "\n",
       "// Listen for the removal of the full notebook cells\n",
       "var notebookContainer = gd.closest('#notebook-container');\n",
       "if (notebookContainer) {{\n",
       "    x.observe(notebookContainer, {childList: true});\n",
       "}}\n",
       "\n",
       "// Listen for the clearing of the current output cell\n",
       "var outputEl = gd.closest('.output');\n",
       "if (outputEl) {{\n",
       "    x.observe(outputEl, {childList: true});\n",
       "}}\n",
       "\n",
       "                        })\n",
       "                };\n",
       "                });\n",
       "            </script>\n",
       "        </div>"
      ]
     },
     "metadata": {},
     "output_type": "display_data"
    }
   ],
   "source": [
    "result_df_1 = pd.DataFrame(data=[['United States of America',\n",
    "                                'Health and Beauty',\n",
    "                                'Hair Products',\n",
    "                                'Shampoo',\n",
    "                                pred_test_1,\n",
    "                                'USA']],\n",
    "                         columns=['Country',\n",
    "                                  'Category 1',\n",
    "                                  'Category 2',\n",
    "                                  'Product',\n",
    "                                  'Success Index',\n",
    "                                  'iso_alpha'])\n",
    "import plotly.express as px\n",
    "\n",
    "fig = px.choropleth(result_df_1, locations=\"iso_alpha\",\n",
    "                    color=\"Success Index\", # lifeExp is a column of gapminder\n",
    "                    hover_name=\"Country\", # column to add to hover information\n",
    "                    hover_data=[\"Country\",'Product'],\n",
    "                    color_continuous_scale=px.colors.sequential.Plasma)\n",
    "fig.show()"
   ]
  },
  {
   "cell_type": "code",
   "execution_count": 147,
   "metadata": {
    "ExecuteTime": {
     "end_time": "2020-04-10T10:13:18.832290Z",
     "start_time": "2020-04-10T10:13:18.824677Z"
    }
   },
   "outputs": [
    {
     "data": {
      "text/plain": [
       "6.235887"
      ]
     },
     "execution_count": 147,
     "metadata": {},
     "output_type": "execute_result"
    }
   ],
   "source": [
    "test_pl_2 = 20\n",
    "test_ph_2 = 10\n",
    "test_pw_2 = 5\n",
    "test_w_2 = 20\n",
    "trial_meta_2 = np.array([test_pl_2,test_ph_2,test_pw_2,test_w_2])\n",
    "trial_meta_2 = trial_meta_2.reshape(1,4,1,1)\n",
    "\n",
    "trail_image_2 = test_images[1]\n",
    "trail_image_2 = trail_image_2.reshape(1,128,128,3) \n",
    "\n",
    "pred_test_2 = model.predict({'main_input': trail_image_2, 'meta_input': trial_meta_2})[0][0]\n",
    "pred_test_2"
   ]
  },
  {
   "cell_type": "code",
   "execution_count": 146,
   "metadata": {
    "ExecuteTime": {
     "end_time": "2020-04-10T10:12:00.943743Z",
     "start_time": "2020-04-10T10:12:00.744671Z"
    }
   },
   "outputs": [
    {
     "data": {
      "application/vnd.plotly.v1+json": {
       "config": {
        "plotlyServerURL": "https://plot.ly"
       },
       "data": [
        {
         "coloraxis": "coloraxis",
         "customdata": [
          [
           "United States of America",
           "Shampoo"
          ]
         ],
         "geo": "geo",
         "hovertemplate": "<b>%{hovertext}</b><br><br>Country=%{customdata[0]}<br>Product=%{customdata[1]}<br>iso_alpha=%{location}<br>Success Index=%{z}<extra></extra>",
         "hovertext": [
          "United States of America"
         ],
         "locations": [
          "USA"
         ],
         "name": "",
         "type": "choropleth",
         "z": [
          6.252734661102295
         ]
        }
       ],
       "layout": {
        "coloraxis": {
         "colorbar": {
          "title": {
           "text": "Success Index"
          }
         },
         "colorscale": [
          [
           0,
           "#0d0887"
          ],
          [
           0.1111111111111111,
           "#46039f"
          ],
          [
           0.2222222222222222,
           "#7201a8"
          ],
          [
           0.3333333333333333,
           "#9c179e"
          ],
          [
           0.4444444444444444,
           "#bd3786"
          ],
          [
           0.5555555555555556,
           "#d8576b"
          ],
          [
           0.6666666666666666,
           "#ed7953"
          ],
          [
           0.7777777777777778,
           "#fb9f3a"
          ],
          [
           0.8888888888888888,
           "#fdca26"
          ],
          [
           1,
           "#f0f921"
          ]
         ]
        },
        "geo": {
         "center": {},
         "domain": {
          "x": [
           0,
           1
          ],
          "y": [
           0,
           1
          ]
         }
        },
        "legend": {
         "tracegroupgap": 0
        },
        "margin": {
         "t": 60
        },
        "template": {
         "data": {
          "bar": [
           {
            "error_x": {
             "color": "#2a3f5f"
            },
            "error_y": {
             "color": "#2a3f5f"
            },
            "marker": {
             "line": {
              "color": "#E5ECF6",
              "width": 0.5
             }
            },
            "type": "bar"
           }
          ],
          "barpolar": [
           {
            "marker": {
             "line": {
              "color": "#E5ECF6",
              "width": 0.5
             }
            },
            "type": "barpolar"
           }
          ],
          "carpet": [
           {
            "aaxis": {
             "endlinecolor": "#2a3f5f",
             "gridcolor": "white",
             "linecolor": "white",
             "minorgridcolor": "white",
             "startlinecolor": "#2a3f5f"
            },
            "baxis": {
             "endlinecolor": "#2a3f5f",
             "gridcolor": "white",
             "linecolor": "white",
             "minorgridcolor": "white",
             "startlinecolor": "#2a3f5f"
            },
            "type": "carpet"
           }
          ],
          "choropleth": [
           {
            "colorbar": {
             "outlinewidth": 0,
             "ticks": ""
            },
            "type": "choropleth"
           }
          ],
          "contour": [
           {
            "colorbar": {
             "outlinewidth": 0,
             "ticks": ""
            },
            "colorscale": [
             [
              0,
              "#0d0887"
             ],
             [
              0.1111111111111111,
              "#46039f"
             ],
             [
              0.2222222222222222,
              "#7201a8"
             ],
             [
              0.3333333333333333,
              "#9c179e"
             ],
             [
              0.4444444444444444,
              "#bd3786"
             ],
             [
              0.5555555555555556,
              "#d8576b"
             ],
             [
              0.6666666666666666,
              "#ed7953"
             ],
             [
              0.7777777777777778,
              "#fb9f3a"
             ],
             [
              0.8888888888888888,
              "#fdca26"
             ],
             [
              1,
              "#f0f921"
             ]
            ],
            "type": "contour"
           }
          ],
          "contourcarpet": [
           {
            "colorbar": {
             "outlinewidth": 0,
             "ticks": ""
            },
            "type": "contourcarpet"
           }
          ],
          "heatmap": [
           {
            "colorbar": {
             "outlinewidth": 0,
             "ticks": ""
            },
            "colorscale": [
             [
              0,
              "#0d0887"
             ],
             [
              0.1111111111111111,
              "#46039f"
             ],
             [
              0.2222222222222222,
              "#7201a8"
             ],
             [
              0.3333333333333333,
              "#9c179e"
             ],
             [
              0.4444444444444444,
              "#bd3786"
             ],
             [
              0.5555555555555556,
              "#d8576b"
             ],
             [
              0.6666666666666666,
              "#ed7953"
             ],
             [
              0.7777777777777778,
              "#fb9f3a"
             ],
             [
              0.8888888888888888,
              "#fdca26"
             ],
             [
              1,
              "#f0f921"
             ]
            ],
            "type": "heatmap"
           }
          ],
          "heatmapgl": [
           {
            "colorbar": {
             "outlinewidth": 0,
             "ticks": ""
            },
            "colorscale": [
             [
              0,
              "#0d0887"
             ],
             [
              0.1111111111111111,
              "#46039f"
             ],
             [
              0.2222222222222222,
              "#7201a8"
             ],
             [
              0.3333333333333333,
              "#9c179e"
             ],
             [
              0.4444444444444444,
              "#bd3786"
             ],
             [
              0.5555555555555556,
              "#d8576b"
             ],
             [
              0.6666666666666666,
              "#ed7953"
             ],
             [
              0.7777777777777778,
              "#fb9f3a"
             ],
             [
              0.8888888888888888,
              "#fdca26"
             ],
             [
              1,
              "#f0f921"
             ]
            ],
            "type": "heatmapgl"
           }
          ],
          "histogram": [
           {
            "marker": {
             "colorbar": {
              "outlinewidth": 0,
              "ticks": ""
             }
            },
            "type": "histogram"
           }
          ],
          "histogram2d": [
           {
            "colorbar": {
             "outlinewidth": 0,
             "ticks": ""
            },
            "colorscale": [
             [
              0,
              "#0d0887"
             ],
             [
              0.1111111111111111,
              "#46039f"
             ],
             [
              0.2222222222222222,
              "#7201a8"
             ],
             [
              0.3333333333333333,
              "#9c179e"
             ],
             [
              0.4444444444444444,
              "#bd3786"
             ],
             [
              0.5555555555555556,
              "#d8576b"
             ],
             [
              0.6666666666666666,
              "#ed7953"
             ],
             [
              0.7777777777777778,
              "#fb9f3a"
             ],
             [
              0.8888888888888888,
              "#fdca26"
             ],
             [
              1,
              "#f0f921"
             ]
            ],
            "type": "histogram2d"
           }
          ],
          "histogram2dcontour": [
           {
            "colorbar": {
             "outlinewidth": 0,
             "ticks": ""
            },
            "colorscale": [
             [
              0,
              "#0d0887"
             ],
             [
              0.1111111111111111,
              "#46039f"
             ],
             [
              0.2222222222222222,
              "#7201a8"
             ],
             [
              0.3333333333333333,
              "#9c179e"
             ],
             [
              0.4444444444444444,
              "#bd3786"
             ],
             [
              0.5555555555555556,
              "#d8576b"
             ],
             [
              0.6666666666666666,
              "#ed7953"
             ],
             [
              0.7777777777777778,
              "#fb9f3a"
             ],
             [
              0.8888888888888888,
              "#fdca26"
             ],
             [
              1,
              "#f0f921"
             ]
            ],
            "type": "histogram2dcontour"
           }
          ],
          "mesh3d": [
           {
            "colorbar": {
             "outlinewidth": 0,
             "ticks": ""
            },
            "type": "mesh3d"
           }
          ],
          "parcoords": [
           {
            "line": {
             "colorbar": {
              "outlinewidth": 0,
              "ticks": ""
             }
            },
            "type": "parcoords"
           }
          ],
          "pie": [
           {
            "automargin": true,
            "type": "pie"
           }
          ],
          "scatter": [
           {
            "marker": {
             "colorbar": {
              "outlinewidth": 0,
              "ticks": ""
             }
            },
            "type": "scatter"
           }
          ],
          "scatter3d": [
           {
            "line": {
             "colorbar": {
              "outlinewidth": 0,
              "ticks": ""
             }
            },
            "marker": {
             "colorbar": {
              "outlinewidth": 0,
              "ticks": ""
             }
            },
            "type": "scatter3d"
           }
          ],
          "scattercarpet": [
           {
            "marker": {
             "colorbar": {
              "outlinewidth": 0,
              "ticks": ""
             }
            },
            "type": "scattercarpet"
           }
          ],
          "scattergeo": [
           {
            "marker": {
             "colorbar": {
              "outlinewidth": 0,
              "ticks": ""
             }
            },
            "type": "scattergeo"
           }
          ],
          "scattergl": [
           {
            "marker": {
             "colorbar": {
              "outlinewidth": 0,
              "ticks": ""
             }
            },
            "type": "scattergl"
           }
          ],
          "scattermapbox": [
           {
            "marker": {
             "colorbar": {
              "outlinewidth": 0,
              "ticks": ""
             }
            },
            "type": "scattermapbox"
           }
          ],
          "scatterpolar": [
           {
            "marker": {
             "colorbar": {
              "outlinewidth": 0,
              "ticks": ""
             }
            },
            "type": "scatterpolar"
           }
          ],
          "scatterpolargl": [
           {
            "marker": {
             "colorbar": {
              "outlinewidth": 0,
              "ticks": ""
             }
            },
            "type": "scatterpolargl"
           }
          ],
          "scatterternary": [
           {
            "marker": {
             "colorbar": {
              "outlinewidth": 0,
              "ticks": ""
             }
            },
            "type": "scatterternary"
           }
          ],
          "surface": [
           {
            "colorbar": {
             "outlinewidth": 0,
             "ticks": ""
            },
            "colorscale": [
             [
              0,
              "#0d0887"
             ],
             [
              0.1111111111111111,
              "#46039f"
             ],
             [
              0.2222222222222222,
              "#7201a8"
             ],
             [
              0.3333333333333333,
              "#9c179e"
             ],
             [
              0.4444444444444444,
              "#bd3786"
             ],
             [
              0.5555555555555556,
              "#d8576b"
             ],
             [
              0.6666666666666666,
              "#ed7953"
             ],
             [
              0.7777777777777778,
              "#fb9f3a"
             ],
             [
              0.8888888888888888,
              "#fdca26"
             ],
             [
              1,
              "#f0f921"
             ]
            ],
            "type": "surface"
           }
          ],
          "table": [
           {
            "cells": {
             "fill": {
              "color": "#EBF0F8"
             },
             "line": {
              "color": "white"
             }
            },
            "header": {
             "fill": {
              "color": "#C8D4E3"
             },
             "line": {
              "color": "white"
             }
            },
            "type": "table"
           }
          ]
         },
         "layout": {
          "annotationdefaults": {
           "arrowcolor": "#2a3f5f",
           "arrowhead": 0,
           "arrowwidth": 1
          },
          "coloraxis": {
           "colorbar": {
            "outlinewidth": 0,
            "ticks": ""
           }
          },
          "colorscale": {
           "diverging": [
            [
             0,
             "#8e0152"
            ],
            [
             0.1,
             "#c51b7d"
            ],
            [
             0.2,
             "#de77ae"
            ],
            [
             0.3,
             "#f1b6da"
            ],
            [
             0.4,
             "#fde0ef"
            ],
            [
             0.5,
             "#f7f7f7"
            ],
            [
             0.6,
             "#e6f5d0"
            ],
            [
             0.7,
             "#b8e186"
            ],
            [
             0.8,
             "#7fbc41"
            ],
            [
             0.9,
             "#4d9221"
            ],
            [
             1,
             "#276419"
            ]
           ],
           "sequential": [
            [
             0,
             "#0d0887"
            ],
            [
             0.1111111111111111,
             "#46039f"
            ],
            [
             0.2222222222222222,
             "#7201a8"
            ],
            [
             0.3333333333333333,
             "#9c179e"
            ],
            [
             0.4444444444444444,
             "#bd3786"
            ],
            [
             0.5555555555555556,
             "#d8576b"
            ],
            [
             0.6666666666666666,
             "#ed7953"
            ],
            [
             0.7777777777777778,
             "#fb9f3a"
            ],
            [
             0.8888888888888888,
             "#fdca26"
            ],
            [
             1,
             "#f0f921"
            ]
           ],
           "sequentialminus": [
            [
             0,
             "#0d0887"
            ],
            [
             0.1111111111111111,
             "#46039f"
            ],
            [
             0.2222222222222222,
             "#7201a8"
            ],
            [
             0.3333333333333333,
             "#9c179e"
            ],
            [
             0.4444444444444444,
             "#bd3786"
            ],
            [
             0.5555555555555556,
             "#d8576b"
            ],
            [
             0.6666666666666666,
             "#ed7953"
            ],
            [
             0.7777777777777778,
             "#fb9f3a"
            ],
            [
             0.8888888888888888,
             "#fdca26"
            ],
            [
             1,
             "#f0f921"
            ]
           ]
          },
          "colorway": [
           "#636efa",
           "#EF553B",
           "#00cc96",
           "#ab63fa",
           "#FFA15A",
           "#19d3f3",
           "#FF6692",
           "#B6E880",
           "#FF97FF",
           "#FECB52"
          ],
          "font": {
           "color": "#2a3f5f"
          },
          "geo": {
           "bgcolor": "white",
           "lakecolor": "white",
           "landcolor": "#E5ECF6",
           "showlakes": true,
           "showland": true,
           "subunitcolor": "white"
          },
          "hoverlabel": {
           "align": "left"
          },
          "hovermode": "closest",
          "mapbox": {
           "style": "light"
          },
          "paper_bgcolor": "white",
          "plot_bgcolor": "#E5ECF6",
          "polar": {
           "angularaxis": {
            "gridcolor": "white",
            "linecolor": "white",
            "ticks": ""
           },
           "bgcolor": "#E5ECF6",
           "radialaxis": {
            "gridcolor": "white",
            "linecolor": "white",
            "ticks": ""
           }
          },
          "scene": {
           "xaxis": {
            "backgroundcolor": "#E5ECF6",
            "gridcolor": "white",
            "gridwidth": 2,
            "linecolor": "white",
            "showbackground": true,
            "ticks": "",
            "zerolinecolor": "white"
           },
           "yaxis": {
            "backgroundcolor": "#E5ECF6",
            "gridcolor": "white",
            "gridwidth": 2,
            "linecolor": "white",
            "showbackground": true,
            "ticks": "",
            "zerolinecolor": "white"
           },
           "zaxis": {
            "backgroundcolor": "#E5ECF6",
            "gridcolor": "white",
            "gridwidth": 2,
            "linecolor": "white",
            "showbackground": true,
            "ticks": "",
            "zerolinecolor": "white"
           }
          },
          "shapedefaults": {
           "line": {
            "color": "#2a3f5f"
           }
          },
          "ternary": {
           "aaxis": {
            "gridcolor": "white",
            "linecolor": "white",
            "ticks": ""
           },
           "baxis": {
            "gridcolor": "white",
            "linecolor": "white",
            "ticks": ""
           },
           "bgcolor": "#E5ECF6",
           "caxis": {
            "gridcolor": "white",
            "linecolor": "white",
            "ticks": ""
           }
          },
          "title": {
           "x": 0.05
          },
          "xaxis": {
           "automargin": true,
           "gridcolor": "white",
           "linecolor": "white",
           "ticks": "",
           "title": {
            "standoff": 15
           },
           "zerolinecolor": "white",
           "zerolinewidth": 2
          },
          "yaxis": {
           "automargin": true,
           "gridcolor": "white",
           "linecolor": "white",
           "ticks": "",
           "title": {
            "standoff": 15
           },
           "zerolinecolor": "white",
           "zerolinewidth": 2
          }
         }
        }
       }
      },
      "text/html": [
       "<div>\n",
       "        \n",
       "        \n",
       "            <div id=\"480ad2a5-0142-438c-839a-322199f19252\" class=\"plotly-graph-div\" style=\"height:525px; width:100%;\"></div>\n",
       "            <script type=\"text/javascript\">\n",
       "                require([\"plotly\"], function(Plotly) {\n",
       "                    window.PLOTLYENV=window.PLOTLYENV || {};\n",
       "                    \n",
       "                if (document.getElementById(\"480ad2a5-0142-438c-839a-322199f19252\")) {\n",
       "                    Plotly.newPlot(\n",
       "                        '480ad2a5-0142-438c-839a-322199f19252',\n",
       "                        [{\"coloraxis\": \"coloraxis\", \"customdata\": [[\"United States of America\", \"Shampoo\"]], \"geo\": \"geo\", \"hovertemplate\": \"<b>%{hovertext}</b><br><br>Country=%{customdata[0]}<br>Product=%{customdata[1]}<br>iso_alpha=%{location}<br>Success Index=%{z}<extra></extra>\", \"hovertext\": [\"United States of America\"], \"locations\": [\"USA\"], \"name\": \"\", \"type\": \"choropleth\", \"z\": [6.252734661102295]}],\n",
       "                        {\"coloraxis\": {\"colorbar\": {\"title\": {\"text\": \"Success Index\"}}, \"colorscale\": [[0.0, \"#0d0887\"], [0.1111111111111111, \"#46039f\"], [0.2222222222222222, \"#7201a8\"], [0.3333333333333333, \"#9c179e\"], [0.4444444444444444, \"#bd3786\"], [0.5555555555555556, \"#d8576b\"], [0.6666666666666666, \"#ed7953\"], [0.7777777777777778, \"#fb9f3a\"], [0.8888888888888888, \"#fdca26\"], [1.0, \"#f0f921\"]]}, \"geo\": {\"center\": {}, \"domain\": {\"x\": [0.0, 1.0], \"y\": [0.0, 1.0]}}, \"legend\": {\"tracegroupgap\": 0}, \"margin\": {\"t\": 60}, \"template\": {\"data\": {\"bar\": [{\"error_x\": {\"color\": \"#2a3f5f\"}, \"error_y\": {\"color\": \"#2a3f5f\"}, \"marker\": {\"line\": {\"color\": \"#E5ECF6\", \"width\": 0.5}}, \"type\": \"bar\"}], \"barpolar\": [{\"marker\": {\"line\": {\"color\": \"#E5ECF6\", \"width\": 0.5}}, \"type\": \"barpolar\"}], \"carpet\": [{\"aaxis\": {\"endlinecolor\": \"#2a3f5f\", \"gridcolor\": \"white\", \"linecolor\": \"white\", \"minorgridcolor\": \"white\", \"startlinecolor\": \"#2a3f5f\"}, \"baxis\": {\"endlinecolor\": \"#2a3f5f\", \"gridcolor\": \"white\", \"linecolor\": \"white\", \"minorgridcolor\": \"white\", \"startlinecolor\": \"#2a3f5f\"}, \"type\": \"carpet\"}], \"choropleth\": [{\"colorbar\": {\"outlinewidth\": 0, \"ticks\": \"\"}, \"type\": \"choropleth\"}], \"contour\": [{\"colorbar\": {\"outlinewidth\": 0, \"ticks\": \"\"}, \"colorscale\": [[0.0, \"#0d0887\"], [0.1111111111111111, \"#46039f\"], [0.2222222222222222, \"#7201a8\"], [0.3333333333333333, \"#9c179e\"], [0.4444444444444444, \"#bd3786\"], [0.5555555555555556, \"#d8576b\"], [0.6666666666666666, \"#ed7953\"], [0.7777777777777778, \"#fb9f3a\"], [0.8888888888888888, \"#fdca26\"], [1.0, \"#f0f921\"]], \"type\": \"contour\"}], \"contourcarpet\": [{\"colorbar\": {\"outlinewidth\": 0, \"ticks\": \"\"}, \"type\": \"contourcarpet\"}], \"heatmap\": [{\"colorbar\": {\"outlinewidth\": 0, \"ticks\": \"\"}, \"colorscale\": [[0.0, \"#0d0887\"], [0.1111111111111111, \"#46039f\"], [0.2222222222222222, \"#7201a8\"], [0.3333333333333333, \"#9c179e\"], [0.4444444444444444, \"#bd3786\"], [0.5555555555555556, \"#d8576b\"], [0.6666666666666666, \"#ed7953\"], [0.7777777777777778, \"#fb9f3a\"], [0.8888888888888888, \"#fdca26\"], [1.0, \"#f0f921\"]], \"type\": \"heatmap\"}], \"heatmapgl\": [{\"colorbar\": {\"outlinewidth\": 0, \"ticks\": \"\"}, \"colorscale\": [[0.0, \"#0d0887\"], [0.1111111111111111, \"#46039f\"], [0.2222222222222222, \"#7201a8\"], [0.3333333333333333, \"#9c179e\"], [0.4444444444444444, \"#bd3786\"], [0.5555555555555556, \"#d8576b\"], [0.6666666666666666, \"#ed7953\"], [0.7777777777777778, \"#fb9f3a\"], [0.8888888888888888, \"#fdca26\"], [1.0, \"#f0f921\"]], \"type\": \"heatmapgl\"}], \"histogram\": [{\"marker\": {\"colorbar\": {\"outlinewidth\": 0, \"ticks\": \"\"}}, \"type\": \"histogram\"}], \"histogram2d\": [{\"colorbar\": {\"outlinewidth\": 0, \"ticks\": \"\"}, \"colorscale\": [[0.0, \"#0d0887\"], [0.1111111111111111, \"#46039f\"], [0.2222222222222222, \"#7201a8\"], [0.3333333333333333, \"#9c179e\"], [0.4444444444444444, \"#bd3786\"], [0.5555555555555556, \"#d8576b\"], [0.6666666666666666, \"#ed7953\"], [0.7777777777777778, \"#fb9f3a\"], [0.8888888888888888, \"#fdca26\"], [1.0, \"#f0f921\"]], \"type\": \"histogram2d\"}], \"histogram2dcontour\": [{\"colorbar\": {\"outlinewidth\": 0, \"ticks\": \"\"}, \"colorscale\": [[0.0, \"#0d0887\"], [0.1111111111111111, \"#46039f\"], [0.2222222222222222, \"#7201a8\"], [0.3333333333333333, \"#9c179e\"], [0.4444444444444444, \"#bd3786\"], [0.5555555555555556, \"#d8576b\"], [0.6666666666666666, \"#ed7953\"], [0.7777777777777778, \"#fb9f3a\"], [0.8888888888888888, \"#fdca26\"], [1.0, \"#f0f921\"]], \"type\": \"histogram2dcontour\"}], \"mesh3d\": [{\"colorbar\": {\"outlinewidth\": 0, \"ticks\": \"\"}, \"type\": \"mesh3d\"}], \"parcoords\": [{\"line\": {\"colorbar\": {\"outlinewidth\": 0, \"ticks\": \"\"}}, \"type\": \"parcoords\"}], \"pie\": [{\"automargin\": true, \"type\": \"pie\"}], \"scatter\": [{\"marker\": {\"colorbar\": {\"outlinewidth\": 0, \"ticks\": \"\"}}, \"type\": \"scatter\"}], \"scatter3d\": [{\"line\": {\"colorbar\": {\"outlinewidth\": 0, \"ticks\": \"\"}}, \"marker\": {\"colorbar\": {\"outlinewidth\": 0, \"ticks\": \"\"}}, \"type\": \"scatter3d\"}], \"scattercarpet\": [{\"marker\": {\"colorbar\": {\"outlinewidth\": 0, \"ticks\": \"\"}}, \"type\": \"scattercarpet\"}], \"scattergeo\": [{\"marker\": {\"colorbar\": {\"outlinewidth\": 0, \"ticks\": \"\"}}, \"type\": \"scattergeo\"}], \"scattergl\": [{\"marker\": {\"colorbar\": {\"outlinewidth\": 0, \"ticks\": \"\"}}, \"type\": \"scattergl\"}], \"scattermapbox\": [{\"marker\": {\"colorbar\": {\"outlinewidth\": 0, \"ticks\": \"\"}}, \"type\": \"scattermapbox\"}], \"scatterpolar\": [{\"marker\": {\"colorbar\": {\"outlinewidth\": 0, \"ticks\": \"\"}}, \"type\": \"scatterpolar\"}], \"scatterpolargl\": [{\"marker\": {\"colorbar\": {\"outlinewidth\": 0, \"ticks\": \"\"}}, \"type\": \"scatterpolargl\"}], \"scatterternary\": [{\"marker\": {\"colorbar\": {\"outlinewidth\": 0, \"ticks\": \"\"}}, \"type\": \"scatterternary\"}], \"surface\": [{\"colorbar\": {\"outlinewidth\": 0, \"ticks\": \"\"}, \"colorscale\": [[0.0, \"#0d0887\"], [0.1111111111111111, \"#46039f\"], [0.2222222222222222, \"#7201a8\"], [0.3333333333333333, \"#9c179e\"], [0.4444444444444444, \"#bd3786\"], [0.5555555555555556, \"#d8576b\"], [0.6666666666666666, \"#ed7953\"], [0.7777777777777778, \"#fb9f3a\"], [0.8888888888888888, \"#fdca26\"], [1.0, \"#f0f921\"]], \"type\": \"surface\"}], \"table\": [{\"cells\": {\"fill\": {\"color\": \"#EBF0F8\"}, \"line\": {\"color\": \"white\"}}, \"header\": {\"fill\": {\"color\": \"#C8D4E3\"}, \"line\": {\"color\": \"white\"}}, \"type\": \"table\"}]}, \"layout\": {\"annotationdefaults\": {\"arrowcolor\": \"#2a3f5f\", \"arrowhead\": 0, \"arrowwidth\": 1}, \"coloraxis\": {\"colorbar\": {\"outlinewidth\": 0, \"ticks\": \"\"}}, \"colorscale\": {\"diverging\": [[0, \"#8e0152\"], [0.1, \"#c51b7d\"], [0.2, \"#de77ae\"], [0.3, \"#f1b6da\"], [0.4, \"#fde0ef\"], [0.5, \"#f7f7f7\"], [0.6, \"#e6f5d0\"], [0.7, \"#b8e186\"], [0.8, \"#7fbc41\"], [0.9, \"#4d9221\"], [1, \"#276419\"]], \"sequential\": [[0.0, \"#0d0887\"], [0.1111111111111111, \"#46039f\"], [0.2222222222222222, \"#7201a8\"], [0.3333333333333333, \"#9c179e\"], [0.4444444444444444, \"#bd3786\"], [0.5555555555555556, \"#d8576b\"], [0.6666666666666666, \"#ed7953\"], [0.7777777777777778, \"#fb9f3a\"], [0.8888888888888888, \"#fdca26\"], [1.0, \"#f0f921\"]], \"sequentialminus\": [[0.0, \"#0d0887\"], [0.1111111111111111, \"#46039f\"], [0.2222222222222222, \"#7201a8\"], [0.3333333333333333, \"#9c179e\"], [0.4444444444444444, \"#bd3786\"], [0.5555555555555556, \"#d8576b\"], [0.6666666666666666, \"#ed7953\"], [0.7777777777777778, \"#fb9f3a\"], [0.8888888888888888, \"#fdca26\"], [1.0, \"#f0f921\"]]}, \"colorway\": [\"#636efa\", \"#EF553B\", \"#00cc96\", \"#ab63fa\", \"#FFA15A\", \"#19d3f3\", \"#FF6692\", \"#B6E880\", \"#FF97FF\", \"#FECB52\"], \"font\": {\"color\": \"#2a3f5f\"}, \"geo\": {\"bgcolor\": \"white\", \"lakecolor\": \"white\", \"landcolor\": \"#E5ECF6\", \"showlakes\": true, \"showland\": true, \"subunitcolor\": \"white\"}, \"hoverlabel\": {\"align\": \"left\"}, \"hovermode\": \"closest\", \"mapbox\": {\"style\": \"light\"}, \"paper_bgcolor\": \"white\", \"plot_bgcolor\": \"#E5ECF6\", \"polar\": {\"angularaxis\": {\"gridcolor\": \"white\", \"linecolor\": \"white\", \"ticks\": \"\"}, \"bgcolor\": \"#E5ECF6\", \"radialaxis\": {\"gridcolor\": \"white\", \"linecolor\": \"white\", \"ticks\": \"\"}}, \"scene\": {\"xaxis\": {\"backgroundcolor\": \"#E5ECF6\", \"gridcolor\": \"white\", \"gridwidth\": 2, \"linecolor\": \"white\", \"showbackground\": true, \"ticks\": \"\", \"zerolinecolor\": \"white\"}, \"yaxis\": {\"backgroundcolor\": \"#E5ECF6\", \"gridcolor\": \"white\", \"gridwidth\": 2, \"linecolor\": \"white\", \"showbackground\": true, \"ticks\": \"\", \"zerolinecolor\": \"white\"}, \"zaxis\": {\"backgroundcolor\": \"#E5ECF6\", \"gridcolor\": \"white\", \"gridwidth\": 2, \"linecolor\": \"white\", \"showbackground\": true, \"ticks\": \"\", \"zerolinecolor\": \"white\"}}, \"shapedefaults\": {\"line\": {\"color\": \"#2a3f5f\"}}, \"ternary\": {\"aaxis\": {\"gridcolor\": \"white\", \"linecolor\": \"white\", \"ticks\": \"\"}, \"baxis\": {\"gridcolor\": \"white\", \"linecolor\": \"white\", \"ticks\": \"\"}, \"bgcolor\": \"#E5ECF6\", \"caxis\": {\"gridcolor\": \"white\", \"linecolor\": \"white\", \"ticks\": \"\"}}, \"title\": {\"x\": 0.05}, \"xaxis\": {\"automargin\": true, \"gridcolor\": \"white\", \"linecolor\": \"white\", \"ticks\": \"\", \"title\": {\"standoff\": 15}, \"zerolinecolor\": \"white\", \"zerolinewidth\": 2}, \"yaxis\": {\"automargin\": true, \"gridcolor\": \"white\", \"linecolor\": \"white\", \"ticks\": \"\", \"title\": {\"standoff\": 15}, \"zerolinecolor\": \"white\", \"zerolinewidth\": 2}}}},\n",
       "                        {\"responsive\": true}\n",
       "                    ).then(function(){\n",
       "                            \n",
       "var gd = document.getElementById('480ad2a5-0142-438c-839a-322199f19252');\n",
       "var x = new MutationObserver(function (mutations, observer) {{\n",
       "        var display = window.getComputedStyle(gd).display;\n",
       "        if (!display || display === 'none') {{\n",
       "            console.log([gd, 'removed!']);\n",
       "            Plotly.purge(gd);\n",
       "            observer.disconnect();\n",
       "        }}\n",
       "}});\n",
       "\n",
       "// Listen for the removal of the full notebook cells\n",
       "var notebookContainer = gd.closest('#notebook-container');\n",
       "if (notebookContainer) {{\n",
       "    x.observe(notebookContainer, {childList: true});\n",
       "}}\n",
       "\n",
       "// Listen for the clearing of the current output cell\n",
       "var outputEl = gd.closest('.output');\n",
       "if (outputEl) {{\n",
       "    x.observe(outputEl, {childList: true});\n",
       "}}\n",
       "\n",
       "                        })\n",
       "                };\n",
       "                });\n",
       "            </script>\n",
       "        </div>"
      ]
     },
     "metadata": {},
     "output_type": "display_data"
    }
   ],
   "source": [
    "result_df_2 = pd.DataFrame(data=[['United States of America',\n",
    "                                'Health and Beauty',\n",
    "                                'Hair Products',\n",
    "                                'Shampoo',\n",
    "                                pred_test_2,\n",
    "                                'USA']],\n",
    "                         columns=['Country',\n",
    "                                  'Category 1',\n",
    "                                  'Category 2',\n",
    "                                  'Product',\n",
    "                                  'Success Index',\n",
    "                                  'iso_alpha'])\n",
    "import plotly.express as px\n",
    "\n",
    "fig = px.choropleth(result_df_2, locations=\"iso_alpha\",\n",
    "                    color=\"Success Index\", # lifeExp is a column of gapminder\n",
    "                    hover_name=\"Country\", # column to add to hover information\n",
    "                    hover_data=[\"Country\",'Product'],\n",
    "                    color_continuous_scale=px.colors.sequential.Plasma)\n",
    "fig.show()"
   ]
  },
  {
   "cell_type": "code",
   "execution_count": 149,
   "metadata": {
    "ExecuteTime": {
     "end_time": "2020-04-10T10:15:07.796360Z",
     "start_time": "2020-04-10T10:15:07.788754Z"
    }
   },
   "outputs": [
    {
     "data": {
      "text/plain": [
       "6.3343797"
      ]
     },
     "execution_count": 149,
     "metadata": {},
     "output_type": "execute_result"
    }
   ],
   "source": [
    "test_pl_3 = 10\n",
    "test_ph_3 = 20\n",
    "test_pw_3 = 8\n",
    "test_w_3 = 50\n",
    "trial_meta_3 = np.array([test_pl_3,test_ph_3,test_pw_3,test_w_3])\n",
    "trial_meta_3 = trial_meta_3.reshape(1,4,1,1)\n",
    "\n",
    "trail_image_3 = test_images[2]\n",
    "trail_image_3 = trail_image_3.reshape(1,128,128,3) \n",
    "\n",
    "pred_test_3 = model.predict({'main_input': trail_image_3, 'meta_input': trial_meta_3})[0][0]\n",
    "pred_test_3"
   ]
  },
  {
   "cell_type": "code",
   "execution_count": 150,
   "metadata": {
    "ExecuteTime": {
     "end_time": "2020-04-10T10:16:25.658584Z",
     "start_time": "2020-04-10T10:16:25.173569Z"
    }
   },
   "outputs": [
    {
     "data": {
      "application/vnd.plotly.v1+json": {
       "config": {
        "plotlyServerURL": "https://plot.ly"
       },
       "data": [
        {
         "coloraxis": "coloraxis",
         "customdata": [
          [
           "United States of America",
           "Shampoo"
          ]
         ],
         "geo": "geo",
         "hovertemplate": "<b>%{hovertext}</b><br><br>Country=%{customdata[0]}<br>Product=%{customdata[1]}<br>iso_alpha=%{location}<br>Success Index=%{z}<extra></extra>",
         "hovertext": [
          "United States of America"
         ],
         "locations": [
          "USA"
         ],
         "name": "",
         "type": "choropleth",
         "z": [
          6.33437967300415
         ]
        }
       ],
       "layout": {
        "coloraxis": {
         "colorbar": {
          "title": {
           "text": "Success Index"
          }
         },
         "colorscale": [
          [
           0,
           "#0d0887"
          ],
          [
           0.1111111111111111,
           "#46039f"
          ],
          [
           0.2222222222222222,
           "#7201a8"
          ],
          [
           0.3333333333333333,
           "#9c179e"
          ],
          [
           0.4444444444444444,
           "#bd3786"
          ],
          [
           0.5555555555555556,
           "#d8576b"
          ],
          [
           0.6666666666666666,
           "#ed7953"
          ],
          [
           0.7777777777777778,
           "#fb9f3a"
          ],
          [
           0.8888888888888888,
           "#fdca26"
          ],
          [
           1,
           "#f0f921"
          ]
         ]
        },
        "geo": {
         "center": {},
         "domain": {
          "x": [
           0,
           1
          ],
          "y": [
           0,
           1
          ]
         }
        },
        "legend": {
         "tracegroupgap": 0
        },
        "margin": {
         "t": 60
        },
        "template": {
         "data": {
          "bar": [
           {
            "error_x": {
             "color": "#2a3f5f"
            },
            "error_y": {
             "color": "#2a3f5f"
            },
            "marker": {
             "line": {
              "color": "#E5ECF6",
              "width": 0.5
             }
            },
            "type": "bar"
           }
          ],
          "barpolar": [
           {
            "marker": {
             "line": {
              "color": "#E5ECF6",
              "width": 0.5
             }
            },
            "type": "barpolar"
           }
          ],
          "carpet": [
           {
            "aaxis": {
             "endlinecolor": "#2a3f5f",
             "gridcolor": "white",
             "linecolor": "white",
             "minorgridcolor": "white",
             "startlinecolor": "#2a3f5f"
            },
            "baxis": {
             "endlinecolor": "#2a3f5f",
             "gridcolor": "white",
             "linecolor": "white",
             "minorgridcolor": "white",
             "startlinecolor": "#2a3f5f"
            },
            "type": "carpet"
           }
          ],
          "choropleth": [
           {
            "colorbar": {
             "outlinewidth": 0,
             "ticks": ""
            },
            "type": "choropleth"
           }
          ],
          "contour": [
           {
            "colorbar": {
             "outlinewidth": 0,
             "ticks": ""
            },
            "colorscale": [
             [
              0,
              "#0d0887"
             ],
             [
              0.1111111111111111,
              "#46039f"
             ],
             [
              0.2222222222222222,
              "#7201a8"
             ],
             [
              0.3333333333333333,
              "#9c179e"
             ],
             [
              0.4444444444444444,
              "#bd3786"
             ],
             [
              0.5555555555555556,
              "#d8576b"
             ],
             [
              0.6666666666666666,
              "#ed7953"
             ],
             [
              0.7777777777777778,
              "#fb9f3a"
             ],
             [
              0.8888888888888888,
              "#fdca26"
             ],
             [
              1,
              "#f0f921"
             ]
            ],
            "type": "contour"
           }
          ],
          "contourcarpet": [
           {
            "colorbar": {
             "outlinewidth": 0,
             "ticks": ""
            },
            "type": "contourcarpet"
           }
          ],
          "heatmap": [
           {
            "colorbar": {
             "outlinewidth": 0,
             "ticks": ""
            },
            "colorscale": [
             [
              0,
              "#0d0887"
             ],
             [
              0.1111111111111111,
              "#46039f"
             ],
             [
              0.2222222222222222,
              "#7201a8"
             ],
             [
              0.3333333333333333,
              "#9c179e"
             ],
             [
              0.4444444444444444,
              "#bd3786"
             ],
             [
              0.5555555555555556,
              "#d8576b"
             ],
             [
              0.6666666666666666,
              "#ed7953"
             ],
             [
              0.7777777777777778,
              "#fb9f3a"
             ],
             [
              0.8888888888888888,
              "#fdca26"
             ],
             [
              1,
              "#f0f921"
             ]
            ],
            "type": "heatmap"
           }
          ],
          "heatmapgl": [
           {
            "colorbar": {
             "outlinewidth": 0,
             "ticks": ""
            },
            "colorscale": [
             [
              0,
              "#0d0887"
             ],
             [
              0.1111111111111111,
              "#46039f"
             ],
             [
              0.2222222222222222,
              "#7201a8"
             ],
             [
              0.3333333333333333,
              "#9c179e"
             ],
             [
              0.4444444444444444,
              "#bd3786"
             ],
             [
              0.5555555555555556,
              "#d8576b"
             ],
             [
              0.6666666666666666,
              "#ed7953"
             ],
             [
              0.7777777777777778,
              "#fb9f3a"
             ],
             [
              0.8888888888888888,
              "#fdca26"
             ],
             [
              1,
              "#f0f921"
             ]
            ],
            "type": "heatmapgl"
           }
          ],
          "histogram": [
           {
            "marker": {
             "colorbar": {
              "outlinewidth": 0,
              "ticks": ""
             }
            },
            "type": "histogram"
           }
          ],
          "histogram2d": [
           {
            "colorbar": {
             "outlinewidth": 0,
             "ticks": ""
            },
            "colorscale": [
             [
              0,
              "#0d0887"
             ],
             [
              0.1111111111111111,
              "#46039f"
             ],
             [
              0.2222222222222222,
              "#7201a8"
             ],
             [
              0.3333333333333333,
              "#9c179e"
             ],
             [
              0.4444444444444444,
              "#bd3786"
             ],
             [
              0.5555555555555556,
              "#d8576b"
             ],
             [
              0.6666666666666666,
              "#ed7953"
             ],
             [
              0.7777777777777778,
              "#fb9f3a"
             ],
             [
              0.8888888888888888,
              "#fdca26"
             ],
             [
              1,
              "#f0f921"
             ]
            ],
            "type": "histogram2d"
           }
          ],
          "histogram2dcontour": [
           {
            "colorbar": {
             "outlinewidth": 0,
             "ticks": ""
            },
            "colorscale": [
             [
              0,
              "#0d0887"
             ],
             [
              0.1111111111111111,
              "#46039f"
             ],
             [
              0.2222222222222222,
              "#7201a8"
             ],
             [
              0.3333333333333333,
              "#9c179e"
             ],
             [
              0.4444444444444444,
              "#bd3786"
             ],
             [
              0.5555555555555556,
              "#d8576b"
             ],
             [
              0.6666666666666666,
              "#ed7953"
             ],
             [
              0.7777777777777778,
              "#fb9f3a"
             ],
             [
              0.8888888888888888,
              "#fdca26"
             ],
             [
              1,
              "#f0f921"
             ]
            ],
            "type": "histogram2dcontour"
           }
          ],
          "mesh3d": [
           {
            "colorbar": {
             "outlinewidth": 0,
             "ticks": ""
            },
            "type": "mesh3d"
           }
          ],
          "parcoords": [
           {
            "line": {
             "colorbar": {
              "outlinewidth": 0,
              "ticks": ""
             }
            },
            "type": "parcoords"
           }
          ],
          "pie": [
           {
            "automargin": true,
            "type": "pie"
           }
          ],
          "scatter": [
           {
            "marker": {
             "colorbar": {
              "outlinewidth": 0,
              "ticks": ""
             }
            },
            "type": "scatter"
           }
          ],
          "scatter3d": [
           {
            "line": {
             "colorbar": {
              "outlinewidth": 0,
              "ticks": ""
             }
            },
            "marker": {
             "colorbar": {
              "outlinewidth": 0,
              "ticks": ""
             }
            },
            "type": "scatter3d"
           }
          ],
          "scattercarpet": [
           {
            "marker": {
             "colorbar": {
              "outlinewidth": 0,
              "ticks": ""
             }
            },
            "type": "scattercarpet"
           }
          ],
          "scattergeo": [
           {
            "marker": {
             "colorbar": {
              "outlinewidth": 0,
              "ticks": ""
             }
            },
            "type": "scattergeo"
           }
          ],
          "scattergl": [
           {
            "marker": {
             "colorbar": {
              "outlinewidth": 0,
              "ticks": ""
             }
            },
            "type": "scattergl"
           }
          ],
          "scattermapbox": [
           {
            "marker": {
             "colorbar": {
              "outlinewidth": 0,
              "ticks": ""
             }
            },
            "type": "scattermapbox"
           }
          ],
          "scatterpolar": [
           {
            "marker": {
             "colorbar": {
              "outlinewidth": 0,
              "ticks": ""
             }
            },
            "type": "scatterpolar"
           }
          ],
          "scatterpolargl": [
           {
            "marker": {
             "colorbar": {
              "outlinewidth": 0,
              "ticks": ""
             }
            },
            "type": "scatterpolargl"
           }
          ],
          "scatterternary": [
           {
            "marker": {
             "colorbar": {
              "outlinewidth": 0,
              "ticks": ""
             }
            },
            "type": "scatterternary"
           }
          ],
          "surface": [
           {
            "colorbar": {
             "outlinewidth": 0,
             "ticks": ""
            },
            "colorscale": [
             [
              0,
              "#0d0887"
             ],
             [
              0.1111111111111111,
              "#46039f"
             ],
             [
              0.2222222222222222,
              "#7201a8"
             ],
             [
              0.3333333333333333,
              "#9c179e"
             ],
             [
              0.4444444444444444,
              "#bd3786"
             ],
             [
              0.5555555555555556,
              "#d8576b"
             ],
             [
              0.6666666666666666,
              "#ed7953"
             ],
             [
              0.7777777777777778,
              "#fb9f3a"
             ],
             [
              0.8888888888888888,
              "#fdca26"
             ],
             [
              1,
              "#f0f921"
             ]
            ],
            "type": "surface"
           }
          ],
          "table": [
           {
            "cells": {
             "fill": {
              "color": "#EBF0F8"
             },
             "line": {
              "color": "white"
             }
            },
            "header": {
             "fill": {
              "color": "#C8D4E3"
             },
             "line": {
              "color": "white"
             }
            },
            "type": "table"
           }
          ]
         },
         "layout": {
          "annotationdefaults": {
           "arrowcolor": "#2a3f5f",
           "arrowhead": 0,
           "arrowwidth": 1
          },
          "coloraxis": {
           "colorbar": {
            "outlinewidth": 0,
            "ticks": ""
           }
          },
          "colorscale": {
           "diverging": [
            [
             0,
             "#8e0152"
            ],
            [
             0.1,
             "#c51b7d"
            ],
            [
             0.2,
             "#de77ae"
            ],
            [
             0.3,
             "#f1b6da"
            ],
            [
             0.4,
             "#fde0ef"
            ],
            [
             0.5,
             "#f7f7f7"
            ],
            [
             0.6,
             "#e6f5d0"
            ],
            [
             0.7,
             "#b8e186"
            ],
            [
             0.8,
             "#7fbc41"
            ],
            [
             0.9,
             "#4d9221"
            ],
            [
             1,
             "#276419"
            ]
           ],
           "sequential": [
            [
             0,
             "#0d0887"
            ],
            [
             0.1111111111111111,
             "#46039f"
            ],
            [
             0.2222222222222222,
             "#7201a8"
            ],
            [
             0.3333333333333333,
             "#9c179e"
            ],
            [
             0.4444444444444444,
             "#bd3786"
            ],
            [
             0.5555555555555556,
             "#d8576b"
            ],
            [
             0.6666666666666666,
             "#ed7953"
            ],
            [
             0.7777777777777778,
             "#fb9f3a"
            ],
            [
             0.8888888888888888,
             "#fdca26"
            ],
            [
             1,
             "#f0f921"
            ]
           ],
           "sequentialminus": [
            [
             0,
             "#0d0887"
            ],
            [
             0.1111111111111111,
             "#46039f"
            ],
            [
             0.2222222222222222,
             "#7201a8"
            ],
            [
             0.3333333333333333,
             "#9c179e"
            ],
            [
             0.4444444444444444,
             "#bd3786"
            ],
            [
             0.5555555555555556,
             "#d8576b"
            ],
            [
             0.6666666666666666,
             "#ed7953"
            ],
            [
             0.7777777777777778,
             "#fb9f3a"
            ],
            [
             0.8888888888888888,
             "#fdca26"
            ],
            [
             1,
             "#f0f921"
            ]
           ]
          },
          "colorway": [
           "#636efa",
           "#EF553B",
           "#00cc96",
           "#ab63fa",
           "#FFA15A",
           "#19d3f3",
           "#FF6692",
           "#B6E880",
           "#FF97FF",
           "#FECB52"
          ],
          "font": {
           "color": "#2a3f5f"
          },
          "geo": {
           "bgcolor": "white",
           "lakecolor": "white",
           "landcolor": "#E5ECF6",
           "showlakes": true,
           "showland": true,
           "subunitcolor": "white"
          },
          "hoverlabel": {
           "align": "left"
          },
          "hovermode": "closest",
          "mapbox": {
           "style": "light"
          },
          "paper_bgcolor": "white",
          "plot_bgcolor": "#E5ECF6",
          "polar": {
           "angularaxis": {
            "gridcolor": "white",
            "linecolor": "white",
            "ticks": ""
           },
           "bgcolor": "#E5ECF6",
           "radialaxis": {
            "gridcolor": "white",
            "linecolor": "white",
            "ticks": ""
           }
          },
          "scene": {
           "xaxis": {
            "backgroundcolor": "#E5ECF6",
            "gridcolor": "white",
            "gridwidth": 2,
            "linecolor": "white",
            "showbackground": true,
            "ticks": "",
            "zerolinecolor": "white"
           },
           "yaxis": {
            "backgroundcolor": "#E5ECF6",
            "gridcolor": "white",
            "gridwidth": 2,
            "linecolor": "white",
            "showbackground": true,
            "ticks": "",
            "zerolinecolor": "white"
           },
           "zaxis": {
            "backgroundcolor": "#E5ECF6",
            "gridcolor": "white",
            "gridwidth": 2,
            "linecolor": "white",
            "showbackground": true,
            "ticks": "",
            "zerolinecolor": "white"
           }
          },
          "shapedefaults": {
           "line": {
            "color": "#2a3f5f"
           }
          },
          "ternary": {
           "aaxis": {
            "gridcolor": "white",
            "linecolor": "white",
            "ticks": ""
           },
           "baxis": {
            "gridcolor": "white",
            "linecolor": "white",
            "ticks": ""
           },
           "bgcolor": "#E5ECF6",
           "caxis": {
            "gridcolor": "white",
            "linecolor": "white",
            "ticks": ""
           }
          },
          "title": {
           "x": 0.05
          },
          "xaxis": {
           "automargin": true,
           "gridcolor": "white",
           "linecolor": "white",
           "ticks": "",
           "title": {
            "standoff": 15
           },
           "zerolinecolor": "white",
           "zerolinewidth": 2
          },
          "yaxis": {
           "automargin": true,
           "gridcolor": "white",
           "linecolor": "white",
           "ticks": "",
           "title": {
            "standoff": 15
           },
           "zerolinecolor": "white",
           "zerolinewidth": 2
          }
         }
        }
       }
      },
      "text/html": [
       "<div>\n",
       "        \n",
       "        \n",
       "            <div id=\"1090ad41-865d-4e3e-982b-b5c4a081ae47\" class=\"plotly-graph-div\" style=\"height:525px; width:100%;\"></div>\n",
       "            <script type=\"text/javascript\">\n",
       "                require([\"plotly\"], function(Plotly) {\n",
       "                    window.PLOTLYENV=window.PLOTLYENV || {};\n",
       "                    \n",
       "                if (document.getElementById(\"1090ad41-865d-4e3e-982b-b5c4a081ae47\")) {\n",
       "                    Plotly.newPlot(\n",
       "                        '1090ad41-865d-4e3e-982b-b5c4a081ae47',\n",
       "                        [{\"coloraxis\": \"coloraxis\", \"customdata\": [[\"United States of America\", \"Shampoo\"]], \"geo\": \"geo\", \"hovertemplate\": \"<b>%{hovertext}</b><br><br>Country=%{customdata[0]}<br>Product=%{customdata[1]}<br>iso_alpha=%{location}<br>Success Index=%{z}<extra></extra>\", \"hovertext\": [\"United States of America\"], \"locations\": [\"USA\"], \"name\": \"\", \"type\": \"choropleth\", \"z\": [6.33437967300415]}],\n",
       "                        {\"coloraxis\": {\"colorbar\": {\"title\": {\"text\": \"Success Index\"}}, \"colorscale\": [[0.0, \"#0d0887\"], [0.1111111111111111, \"#46039f\"], [0.2222222222222222, \"#7201a8\"], [0.3333333333333333, \"#9c179e\"], [0.4444444444444444, \"#bd3786\"], [0.5555555555555556, \"#d8576b\"], [0.6666666666666666, \"#ed7953\"], [0.7777777777777778, \"#fb9f3a\"], [0.8888888888888888, \"#fdca26\"], [1.0, \"#f0f921\"]]}, \"geo\": {\"center\": {}, \"domain\": {\"x\": [0.0, 1.0], \"y\": [0.0, 1.0]}}, \"legend\": {\"tracegroupgap\": 0}, \"margin\": {\"t\": 60}, \"template\": {\"data\": {\"bar\": [{\"error_x\": {\"color\": \"#2a3f5f\"}, \"error_y\": {\"color\": \"#2a3f5f\"}, \"marker\": {\"line\": {\"color\": \"#E5ECF6\", \"width\": 0.5}}, \"type\": \"bar\"}], \"barpolar\": [{\"marker\": {\"line\": {\"color\": \"#E5ECF6\", \"width\": 0.5}}, \"type\": \"barpolar\"}], \"carpet\": [{\"aaxis\": {\"endlinecolor\": \"#2a3f5f\", \"gridcolor\": \"white\", \"linecolor\": \"white\", \"minorgridcolor\": \"white\", \"startlinecolor\": \"#2a3f5f\"}, \"baxis\": {\"endlinecolor\": \"#2a3f5f\", \"gridcolor\": \"white\", \"linecolor\": \"white\", \"minorgridcolor\": \"white\", \"startlinecolor\": \"#2a3f5f\"}, \"type\": \"carpet\"}], \"choropleth\": [{\"colorbar\": {\"outlinewidth\": 0, \"ticks\": \"\"}, \"type\": \"choropleth\"}], \"contour\": [{\"colorbar\": {\"outlinewidth\": 0, \"ticks\": \"\"}, \"colorscale\": [[0.0, \"#0d0887\"], [0.1111111111111111, \"#46039f\"], [0.2222222222222222, \"#7201a8\"], [0.3333333333333333, \"#9c179e\"], [0.4444444444444444, \"#bd3786\"], [0.5555555555555556, \"#d8576b\"], [0.6666666666666666, \"#ed7953\"], [0.7777777777777778, \"#fb9f3a\"], [0.8888888888888888, \"#fdca26\"], [1.0, \"#f0f921\"]], \"type\": \"contour\"}], \"contourcarpet\": [{\"colorbar\": {\"outlinewidth\": 0, \"ticks\": \"\"}, \"type\": \"contourcarpet\"}], \"heatmap\": [{\"colorbar\": {\"outlinewidth\": 0, \"ticks\": \"\"}, \"colorscale\": [[0.0, \"#0d0887\"], [0.1111111111111111, \"#46039f\"], [0.2222222222222222, \"#7201a8\"], [0.3333333333333333, \"#9c179e\"], [0.4444444444444444, \"#bd3786\"], [0.5555555555555556, \"#d8576b\"], [0.6666666666666666, \"#ed7953\"], [0.7777777777777778, \"#fb9f3a\"], [0.8888888888888888, \"#fdca26\"], [1.0, \"#f0f921\"]], \"type\": \"heatmap\"}], \"heatmapgl\": [{\"colorbar\": {\"outlinewidth\": 0, \"ticks\": \"\"}, \"colorscale\": [[0.0, \"#0d0887\"], [0.1111111111111111, \"#46039f\"], [0.2222222222222222, \"#7201a8\"], [0.3333333333333333, \"#9c179e\"], [0.4444444444444444, \"#bd3786\"], [0.5555555555555556, \"#d8576b\"], [0.6666666666666666, \"#ed7953\"], [0.7777777777777778, \"#fb9f3a\"], [0.8888888888888888, \"#fdca26\"], [1.0, \"#f0f921\"]], \"type\": \"heatmapgl\"}], \"histogram\": [{\"marker\": {\"colorbar\": {\"outlinewidth\": 0, \"ticks\": \"\"}}, \"type\": \"histogram\"}], \"histogram2d\": [{\"colorbar\": {\"outlinewidth\": 0, \"ticks\": \"\"}, \"colorscale\": [[0.0, \"#0d0887\"], [0.1111111111111111, \"#46039f\"], [0.2222222222222222, \"#7201a8\"], [0.3333333333333333, \"#9c179e\"], [0.4444444444444444, \"#bd3786\"], [0.5555555555555556, \"#d8576b\"], [0.6666666666666666, \"#ed7953\"], [0.7777777777777778, \"#fb9f3a\"], [0.8888888888888888, \"#fdca26\"], [1.0, \"#f0f921\"]], \"type\": \"histogram2d\"}], \"histogram2dcontour\": [{\"colorbar\": {\"outlinewidth\": 0, \"ticks\": \"\"}, \"colorscale\": [[0.0, \"#0d0887\"], [0.1111111111111111, \"#46039f\"], [0.2222222222222222, \"#7201a8\"], [0.3333333333333333, \"#9c179e\"], [0.4444444444444444, \"#bd3786\"], [0.5555555555555556, \"#d8576b\"], [0.6666666666666666, \"#ed7953\"], [0.7777777777777778, \"#fb9f3a\"], [0.8888888888888888, \"#fdca26\"], [1.0, \"#f0f921\"]], \"type\": \"histogram2dcontour\"}], \"mesh3d\": [{\"colorbar\": {\"outlinewidth\": 0, \"ticks\": \"\"}, \"type\": \"mesh3d\"}], \"parcoords\": [{\"line\": {\"colorbar\": {\"outlinewidth\": 0, \"ticks\": \"\"}}, \"type\": \"parcoords\"}], \"pie\": [{\"automargin\": true, \"type\": \"pie\"}], \"scatter\": [{\"marker\": {\"colorbar\": {\"outlinewidth\": 0, \"ticks\": \"\"}}, \"type\": \"scatter\"}], \"scatter3d\": [{\"line\": {\"colorbar\": {\"outlinewidth\": 0, \"ticks\": \"\"}}, \"marker\": {\"colorbar\": {\"outlinewidth\": 0, \"ticks\": \"\"}}, \"type\": \"scatter3d\"}], \"scattercarpet\": [{\"marker\": {\"colorbar\": {\"outlinewidth\": 0, \"ticks\": \"\"}}, \"type\": \"scattercarpet\"}], \"scattergeo\": [{\"marker\": {\"colorbar\": {\"outlinewidth\": 0, \"ticks\": \"\"}}, \"type\": \"scattergeo\"}], \"scattergl\": [{\"marker\": {\"colorbar\": {\"outlinewidth\": 0, \"ticks\": \"\"}}, \"type\": \"scattergl\"}], \"scattermapbox\": [{\"marker\": {\"colorbar\": {\"outlinewidth\": 0, \"ticks\": \"\"}}, \"type\": \"scattermapbox\"}], \"scatterpolar\": [{\"marker\": {\"colorbar\": {\"outlinewidth\": 0, \"ticks\": \"\"}}, \"type\": \"scatterpolar\"}], \"scatterpolargl\": [{\"marker\": {\"colorbar\": {\"outlinewidth\": 0, \"ticks\": \"\"}}, \"type\": \"scatterpolargl\"}], \"scatterternary\": [{\"marker\": {\"colorbar\": {\"outlinewidth\": 0, \"ticks\": \"\"}}, \"type\": \"scatterternary\"}], \"surface\": [{\"colorbar\": {\"outlinewidth\": 0, \"ticks\": \"\"}, \"colorscale\": [[0.0, \"#0d0887\"], [0.1111111111111111, \"#46039f\"], [0.2222222222222222, \"#7201a8\"], [0.3333333333333333, \"#9c179e\"], [0.4444444444444444, \"#bd3786\"], [0.5555555555555556, \"#d8576b\"], [0.6666666666666666, \"#ed7953\"], [0.7777777777777778, \"#fb9f3a\"], [0.8888888888888888, \"#fdca26\"], [1.0, \"#f0f921\"]], \"type\": \"surface\"}], \"table\": [{\"cells\": {\"fill\": {\"color\": \"#EBF0F8\"}, \"line\": {\"color\": \"white\"}}, \"header\": {\"fill\": {\"color\": \"#C8D4E3\"}, \"line\": {\"color\": \"white\"}}, \"type\": \"table\"}]}, \"layout\": {\"annotationdefaults\": {\"arrowcolor\": \"#2a3f5f\", \"arrowhead\": 0, \"arrowwidth\": 1}, \"coloraxis\": {\"colorbar\": {\"outlinewidth\": 0, \"ticks\": \"\"}}, \"colorscale\": {\"diverging\": [[0, \"#8e0152\"], [0.1, \"#c51b7d\"], [0.2, \"#de77ae\"], [0.3, \"#f1b6da\"], [0.4, \"#fde0ef\"], [0.5, \"#f7f7f7\"], [0.6, \"#e6f5d0\"], [0.7, \"#b8e186\"], [0.8, \"#7fbc41\"], [0.9, \"#4d9221\"], [1, \"#276419\"]], \"sequential\": [[0.0, \"#0d0887\"], [0.1111111111111111, \"#46039f\"], [0.2222222222222222, \"#7201a8\"], [0.3333333333333333, \"#9c179e\"], [0.4444444444444444, \"#bd3786\"], [0.5555555555555556, \"#d8576b\"], [0.6666666666666666, \"#ed7953\"], [0.7777777777777778, \"#fb9f3a\"], [0.8888888888888888, \"#fdca26\"], [1.0, \"#f0f921\"]], \"sequentialminus\": [[0.0, \"#0d0887\"], [0.1111111111111111, \"#46039f\"], [0.2222222222222222, \"#7201a8\"], [0.3333333333333333, \"#9c179e\"], [0.4444444444444444, \"#bd3786\"], [0.5555555555555556, \"#d8576b\"], [0.6666666666666666, \"#ed7953\"], [0.7777777777777778, \"#fb9f3a\"], [0.8888888888888888, \"#fdca26\"], [1.0, \"#f0f921\"]]}, \"colorway\": [\"#636efa\", \"#EF553B\", \"#00cc96\", \"#ab63fa\", \"#FFA15A\", \"#19d3f3\", \"#FF6692\", \"#B6E880\", \"#FF97FF\", \"#FECB52\"], \"font\": {\"color\": \"#2a3f5f\"}, \"geo\": {\"bgcolor\": \"white\", \"lakecolor\": \"white\", \"landcolor\": \"#E5ECF6\", \"showlakes\": true, \"showland\": true, \"subunitcolor\": \"white\"}, \"hoverlabel\": {\"align\": \"left\"}, \"hovermode\": \"closest\", \"mapbox\": {\"style\": \"light\"}, \"paper_bgcolor\": \"white\", \"plot_bgcolor\": \"#E5ECF6\", \"polar\": {\"angularaxis\": {\"gridcolor\": \"white\", \"linecolor\": \"white\", \"ticks\": \"\"}, \"bgcolor\": \"#E5ECF6\", \"radialaxis\": {\"gridcolor\": \"white\", \"linecolor\": \"white\", \"ticks\": \"\"}}, \"scene\": {\"xaxis\": {\"backgroundcolor\": \"#E5ECF6\", \"gridcolor\": \"white\", \"gridwidth\": 2, \"linecolor\": \"white\", \"showbackground\": true, \"ticks\": \"\", \"zerolinecolor\": \"white\"}, \"yaxis\": {\"backgroundcolor\": \"#E5ECF6\", \"gridcolor\": \"white\", \"gridwidth\": 2, \"linecolor\": \"white\", \"showbackground\": true, \"ticks\": \"\", \"zerolinecolor\": \"white\"}, \"zaxis\": {\"backgroundcolor\": \"#E5ECF6\", \"gridcolor\": \"white\", \"gridwidth\": 2, \"linecolor\": \"white\", \"showbackground\": true, \"ticks\": \"\", \"zerolinecolor\": \"white\"}}, \"shapedefaults\": {\"line\": {\"color\": \"#2a3f5f\"}}, \"ternary\": {\"aaxis\": {\"gridcolor\": \"white\", \"linecolor\": \"white\", \"ticks\": \"\"}, \"baxis\": {\"gridcolor\": \"white\", \"linecolor\": \"white\", \"ticks\": \"\"}, \"bgcolor\": \"#E5ECF6\", \"caxis\": {\"gridcolor\": \"white\", \"linecolor\": \"white\", \"ticks\": \"\"}}, \"title\": {\"x\": 0.05}, \"xaxis\": {\"automargin\": true, \"gridcolor\": \"white\", \"linecolor\": \"white\", \"ticks\": \"\", \"title\": {\"standoff\": 15}, \"zerolinecolor\": \"white\", \"zerolinewidth\": 2}, \"yaxis\": {\"automargin\": true, \"gridcolor\": \"white\", \"linecolor\": \"white\", \"ticks\": \"\", \"title\": {\"standoff\": 15}, \"zerolinecolor\": \"white\", \"zerolinewidth\": 2}}}},\n",
       "                        {\"responsive\": true}\n",
       "                    ).then(function(){\n",
       "                            \n",
       "var gd = document.getElementById('1090ad41-865d-4e3e-982b-b5c4a081ae47');\n",
       "var x = new MutationObserver(function (mutations, observer) {{\n",
       "        var display = window.getComputedStyle(gd).display;\n",
       "        if (!display || display === 'none') {{\n",
       "            console.log([gd, 'removed!']);\n",
       "            Plotly.purge(gd);\n",
       "            observer.disconnect();\n",
       "        }}\n",
       "}});\n",
       "\n",
       "// Listen for the removal of the full notebook cells\n",
       "var notebookContainer = gd.closest('#notebook-container');\n",
       "if (notebookContainer) {{\n",
       "    x.observe(notebookContainer, {childList: true});\n",
       "}}\n",
       "\n",
       "// Listen for the clearing of the current output cell\n",
       "var outputEl = gd.closest('.output');\n",
       "if (outputEl) {{\n",
       "    x.observe(outputEl, {childList: true});\n",
       "}}\n",
       "\n",
       "                        })\n",
       "                };\n",
       "                });\n",
       "            </script>\n",
       "        </div>"
      ]
     },
     "metadata": {},
     "output_type": "display_data"
    }
   ],
   "source": [
    "result_df_3 = pd.DataFrame(data=[['United States of America',\n",
    "                                'Health and Beauty',\n",
    "                                'Hair Products',\n",
    "                                'Shampoo',\n",
    "                                pred_test_3,\n",
    "                                'USA']],\n",
    "                         columns=['Country',\n",
    "                                  'Category 1',\n",
    "                                  'Category 2',\n",
    "                                  'Product',\n",
    "                                  'Success Index',\n",
    "                                  'iso_alpha'])\n",
    "import plotly.express as px\n",
    "\n",
    "fig = px.choropleth(result_df_3, locations=\"iso_alpha\",\n",
    "                    color=\"Success Index\", # lifeExp is a column of gapminder\n",
    "                    hover_name=\"Country\", # column to add to hover information\n",
    "                    hover_data=[\"Country\",'Product'],\n",
    "                    color_continuous_scale=px.colors.sequential.Plasma)\n",
    "fig.show()"
   ]
  },
  {
   "cell_type": "code",
   "execution_count": 157,
   "metadata": {
    "ExecuteTime": {
     "end_time": "2020-04-10T10:20:21.407352Z",
     "start_time": "2020-04-10T10:20:21.202832Z"
    }
   },
   "outputs": [
    {
     "data": {
      "application/vnd.plotly.v1+json": {
       "config": {
        "plotlyServerURL": "https://plot.ly"
       },
       "data": [
        {
         "coloraxis": "coloraxis",
         "customdata": [
          [
           "United States of America",
           "Shampoo"
          ],
          [
           "Australia",
           "Shampoo"
          ],
          [
           "India",
           "Shampoo"
          ],
          [
           "UK",
           "Shampoo"
          ]
         ],
         "geo": "geo",
         "hovertemplate": "<b>%{hovertext}</b><br><br>Country=%{customdata[0]}<br>Product=%{customdata[1]}<br>iso_alpha=%{location}<br>Success Index=%{z}<extra></extra>",
         "hovertext": [
          "United States of America",
          "Australia",
          "India",
          "UK"
         ],
         "locations": [
          "USA",
          "AUS",
          "IND",
          "GBR"
         ],
         "name": "",
         "type": "choropleth",
         "z": [
          6.4,
          6.235887050628662,
          6.33437967300415,
          6.1
         ]
        }
       ],
       "layout": {
        "coloraxis": {
         "colorbar": {
          "title": {
           "text": "Success Index"
          }
         },
         "colorscale": [
          [
           0,
           "#0d0887"
          ],
          [
           0.1111111111111111,
           "#46039f"
          ],
          [
           0.2222222222222222,
           "#7201a8"
          ],
          [
           0.3333333333333333,
           "#9c179e"
          ],
          [
           0.4444444444444444,
           "#bd3786"
          ],
          [
           0.5555555555555556,
           "#d8576b"
          ],
          [
           0.6666666666666666,
           "#ed7953"
          ],
          [
           0.7777777777777778,
           "#fb9f3a"
          ],
          [
           0.8888888888888888,
           "#fdca26"
          ],
          [
           1,
           "#f0f921"
          ]
         ]
        },
        "geo": {
         "center": {},
         "domain": {
          "x": [
           0,
           1
          ],
          "y": [
           0,
           1
          ]
         }
        },
        "legend": {
         "tracegroupgap": 0
        },
        "margin": {
         "t": 60
        },
        "template": {
         "data": {
          "bar": [
           {
            "error_x": {
             "color": "#2a3f5f"
            },
            "error_y": {
             "color": "#2a3f5f"
            },
            "marker": {
             "line": {
              "color": "#E5ECF6",
              "width": 0.5
             }
            },
            "type": "bar"
           }
          ],
          "barpolar": [
           {
            "marker": {
             "line": {
              "color": "#E5ECF6",
              "width": 0.5
             }
            },
            "type": "barpolar"
           }
          ],
          "carpet": [
           {
            "aaxis": {
             "endlinecolor": "#2a3f5f",
             "gridcolor": "white",
             "linecolor": "white",
             "minorgridcolor": "white",
             "startlinecolor": "#2a3f5f"
            },
            "baxis": {
             "endlinecolor": "#2a3f5f",
             "gridcolor": "white",
             "linecolor": "white",
             "minorgridcolor": "white",
             "startlinecolor": "#2a3f5f"
            },
            "type": "carpet"
           }
          ],
          "choropleth": [
           {
            "colorbar": {
             "outlinewidth": 0,
             "ticks": ""
            },
            "type": "choropleth"
           }
          ],
          "contour": [
           {
            "colorbar": {
             "outlinewidth": 0,
             "ticks": ""
            },
            "colorscale": [
             [
              0,
              "#0d0887"
             ],
             [
              0.1111111111111111,
              "#46039f"
             ],
             [
              0.2222222222222222,
              "#7201a8"
             ],
             [
              0.3333333333333333,
              "#9c179e"
             ],
             [
              0.4444444444444444,
              "#bd3786"
             ],
             [
              0.5555555555555556,
              "#d8576b"
             ],
             [
              0.6666666666666666,
              "#ed7953"
             ],
             [
              0.7777777777777778,
              "#fb9f3a"
             ],
             [
              0.8888888888888888,
              "#fdca26"
             ],
             [
              1,
              "#f0f921"
             ]
            ],
            "type": "contour"
           }
          ],
          "contourcarpet": [
           {
            "colorbar": {
             "outlinewidth": 0,
             "ticks": ""
            },
            "type": "contourcarpet"
           }
          ],
          "heatmap": [
           {
            "colorbar": {
             "outlinewidth": 0,
             "ticks": ""
            },
            "colorscale": [
             [
              0,
              "#0d0887"
             ],
             [
              0.1111111111111111,
              "#46039f"
             ],
             [
              0.2222222222222222,
              "#7201a8"
             ],
             [
              0.3333333333333333,
              "#9c179e"
             ],
             [
              0.4444444444444444,
              "#bd3786"
             ],
             [
              0.5555555555555556,
              "#d8576b"
             ],
             [
              0.6666666666666666,
              "#ed7953"
             ],
             [
              0.7777777777777778,
              "#fb9f3a"
             ],
             [
              0.8888888888888888,
              "#fdca26"
             ],
             [
              1,
              "#f0f921"
             ]
            ],
            "type": "heatmap"
           }
          ],
          "heatmapgl": [
           {
            "colorbar": {
             "outlinewidth": 0,
             "ticks": ""
            },
            "colorscale": [
             [
              0,
              "#0d0887"
             ],
             [
              0.1111111111111111,
              "#46039f"
             ],
             [
              0.2222222222222222,
              "#7201a8"
             ],
             [
              0.3333333333333333,
              "#9c179e"
             ],
             [
              0.4444444444444444,
              "#bd3786"
             ],
             [
              0.5555555555555556,
              "#d8576b"
             ],
             [
              0.6666666666666666,
              "#ed7953"
             ],
             [
              0.7777777777777778,
              "#fb9f3a"
             ],
             [
              0.8888888888888888,
              "#fdca26"
             ],
             [
              1,
              "#f0f921"
             ]
            ],
            "type": "heatmapgl"
           }
          ],
          "histogram": [
           {
            "marker": {
             "colorbar": {
              "outlinewidth": 0,
              "ticks": ""
             }
            },
            "type": "histogram"
           }
          ],
          "histogram2d": [
           {
            "colorbar": {
             "outlinewidth": 0,
             "ticks": ""
            },
            "colorscale": [
             [
              0,
              "#0d0887"
             ],
             [
              0.1111111111111111,
              "#46039f"
             ],
             [
              0.2222222222222222,
              "#7201a8"
             ],
             [
              0.3333333333333333,
              "#9c179e"
             ],
             [
              0.4444444444444444,
              "#bd3786"
             ],
             [
              0.5555555555555556,
              "#d8576b"
             ],
             [
              0.6666666666666666,
              "#ed7953"
             ],
             [
              0.7777777777777778,
              "#fb9f3a"
             ],
             [
              0.8888888888888888,
              "#fdca26"
             ],
             [
              1,
              "#f0f921"
             ]
            ],
            "type": "histogram2d"
           }
          ],
          "histogram2dcontour": [
           {
            "colorbar": {
             "outlinewidth": 0,
             "ticks": ""
            },
            "colorscale": [
             [
              0,
              "#0d0887"
             ],
             [
              0.1111111111111111,
              "#46039f"
             ],
             [
              0.2222222222222222,
              "#7201a8"
             ],
             [
              0.3333333333333333,
              "#9c179e"
             ],
             [
              0.4444444444444444,
              "#bd3786"
             ],
             [
              0.5555555555555556,
              "#d8576b"
             ],
             [
              0.6666666666666666,
              "#ed7953"
             ],
             [
              0.7777777777777778,
              "#fb9f3a"
             ],
             [
              0.8888888888888888,
              "#fdca26"
             ],
             [
              1,
              "#f0f921"
             ]
            ],
            "type": "histogram2dcontour"
           }
          ],
          "mesh3d": [
           {
            "colorbar": {
             "outlinewidth": 0,
             "ticks": ""
            },
            "type": "mesh3d"
           }
          ],
          "parcoords": [
           {
            "line": {
             "colorbar": {
              "outlinewidth": 0,
              "ticks": ""
             }
            },
            "type": "parcoords"
           }
          ],
          "pie": [
           {
            "automargin": true,
            "type": "pie"
           }
          ],
          "scatter": [
           {
            "marker": {
             "colorbar": {
              "outlinewidth": 0,
              "ticks": ""
             }
            },
            "type": "scatter"
           }
          ],
          "scatter3d": [
           {
            "line": {
             "colorbar": {
              "outlinewidth": 0,
              "ticks": ""
             }
            },
            "marker": {
             "colorbar": {
              "outlinewidth": 0,
              "ticks": ""
             }
            },
            "type": "scatter3d"
           }
          ],
          "scattercarpet": [
           {
            "marker": {
             "colorbar": {
              "outlinewidth": 0,
              "ticks": ""
             }
            },
            "type": "scattercarpet"
           }
          ],
          "scattergeo": [
           {
            "marker": {
             "colorbar": {
              "outlinewidth": 0,
              "ticks": ""
             }
            },
            "type": "scattergeo"
           }
          ],
          "scattergl": [
           {
            "marker": {
             "colorbar": {
              "outlinewidth": 0,
              "ticks": ""
             }
            },
            "type": "scattergl"
           }
          ],
          "scattermapbox": [
           {
            "marker": {
             "colorbar": {
              "outlinewidth": 0,
              "ticks": ""
             }
            },
            "type": "scattermapbox"
           }
          ],
          "scatterpolar": [
           {
            "marker": {
             "colorbar": {
              "outlinewidth": 0,
              "ticks": ""
             }
            },
            "type": "scatterpolar"
           }
          ],
          "scatterpolargl": [
           {
            "marker": {
             "colorbar": {
              "outlinewidth": 0,
              "ticks": ""
             }
            },
            "type": "scatterpolargl"
           }
          ],
          "scatterternary": [
           {
            "marker": {
             "colorbar": {
              "outlinewidth": 0,
              "ticks": ""
             }
            },
            "type": "scatterternary"
           }
          ],
          "surface": [
           {
            "colorbar": {
             "outlinewidth": 0,
             "ticks": ""
            },
            "colorscale": [
             [
              0,
              "#0d0887"
             ],
             [
              0.1111111111111111,
              "#46039f"
             ],
             [
              0.2222222222222222,
              "#7201a8"
             ],
             [
              0.3333333333333333,
              "#9c179e"
             ],
             [
              0.4444444444444444,
              "#bd3786"
             ],
             [
              0.5555555555555556,
              "#d8576b"
             ],
             [
              0.6666666666666666,
              "#ed7953"
             ],
             [
              0.7777777777777778,
              "#fb9f3a"
             ],
             [
              0.8888888888888888,
              "#fdca26"
             ],
             [
              1,
              "#f0f921"
             ]
            ],
            "type": "surface"
           }
          ],
          "table": [
           {
            "cells": {
             "fill": {
              "color": "#EBF0F8"
             },
             "line": {
              "color": "white"
             }
            },
            "header": {
             "fill": {
              "color": "#C8D4E3"
             },
             "line": {
              "color": "white"
             }
            },
            "type": "table"
           }
          ]
         },
         "layout": {
          "annotationdefaults": {
           "arrowcolor": "#2a3f5f",
           "arrowhead": 0,
           "arrowwidth": 1
          },
          "coloraxis": {
           "colorbar": {
            "outlinewidth": 0,
            "ticks": ""
           }
          },
          "colorscale": {
           "diverging": [
            [
             0,
             "#8e0152"
            ],
            [
             0.1,
             "#c51b7d"
            ],
            [
             0.2,
             "#de77ae"
            ],
            [
             0.3,
             "#f1b6da"
            ],
            [
             0.4,
             "#fde0ef"
            ],
            [
             0.5,
             "#f7f7f7"
            ],
            [
             0.6,
             "#e6f5d0"
            ],
            [
             0.7,
             "#b8e186"
            ],
            [
             0.8,
             "#7fbc41"
            ],
            [
             0.9,
             "#4d9221"
            ],
            [
             1,
             "#276419"
            ]
           ],
           "sequential": [
            [
             0,
             "#0d0887"
            ],
            [
             0.1111111111111111,
             "#46039f"
            ],
            [
             0.2222222222222222,
             "#7201a8"
            ],
            [
             0.3333333333333333,
             "#9c179e"
            ],
            [
             0.4444444444444444,
             "#bd3786"
            ],
            [
             0.5555555555555556,
             "#d8576b"
            ],
            [
             0.6666666666666666,
             "#ed7953"
            ],
            [
             0.7777777777777778,
             "#fb9f3a"
            ],
            [
             0.8888888888888888,
             "#fdca26"
            ],
            [
             1,
             "#f0f921"
            ]
           ],
           "sequentialminus": [
            [
             0,
             "#0d0887"
            ],
            [
             0.1111111111111111,
             "#46039f"
            ],
            [
             0.2222222222222222,
             "#7201a8"
            ],
            [
             0.3333333333333333,
             "#9c179e"
            ],
            [
             0.4444444444444444,
             "#bd3786"
            ],
            [
             0.5555555555555556,
             "#d8576b"
            ],
            [
             0.6666666666666666,
             "#ed7953"
            ],
            [
             0.7777777777777778,
             "#fb9f3a"
            ],
            [
             0.8888888888888888,
             "#fdca26"
            ],
            [
             1,
             "#f0f921"
            ]
           ]
          },
          "colorway": [
           "#636efa",
           "#EF553B",
           "#00cc96",
           "#ab63fa",
           "#FFA15A",
           "#19d3f3",
           "#FF6692",
           "#B6E880",
           "#FF97FF",
           "#FECB52"
          ],
          "font": {
           "color": "#2a3f5f"
          },
          "geo": {
           "bgcolor": "white",
           "lakecolor": "white",
           "landcolor": "#E5ECF6",
           "showlakes": true,
           "showland": true,
           "subunitcolor": "white"
          },
          "hoverlabel": {
           "align": "left"
          },
          "hovermode": "closest",
          "mapbox": {
           "style": "light"
          },
          "paper_bgcolor": "white",
          "plot_bgcolor": "#E5ECF6",
          "polar": {
           "angularaxis": {
            "gridcolor": "white",
            "linecolor": "white",
            "ticks": ""
           },
           "bgcolor": "#E5ECF6",
           "radialaxis": {
            "gridcolor": "white",
            "linecolor": "white",
            "ticks": ""
           }
          },
          "scene": {
           "xaxis": {
            "backgroundcolor": "#E5ECF6",
            "gridcolor": "white",
            "gridwidth": 2,
            "linecolor": "white",
            "showbackground": true,
            "ticks": "",
            "zerolinecolor": "white"
           },
           "yaxis": {
            "backgroundcolor": "#E5ECF6",
            "gridcolor": "white",
            "gridwidth": 2,
            "linecolor": "white",
            "showbackground": true,
            "ticks": "",
            "zerolinecolor": "white"
           },
           "zaxis": {
            "backgroundcolor": "#E5ECF6",
            "gridcolor": "white",
            "gridwidth": 2,
            "linecolor": "white",
            "showbackground": true,
            "ticks": "",
            "zerolinecolor": "white"
           }
          },
          "shapedefaults": {
           "line": {
            "color": "#2a3f5f"
           }
          },
          "ternary": {
           "aaxis": {
            "gridcolor": "white",
            "linecolor": "white",
            "ticks": ""
           },
           "baxis": {
            "gridcolor": "white",
            "linecolor": "white",
            "ticks": ""
           },
           "bgcolor": "#E5ECF6",
           "caxis": {
            "gridcolor": "white",
            "linecolor": "white",
            "ticks": ""
           }
          },
          "title": {
           "x": 0.05
          },
          "xaxis": {
           "automargin": true,
           "gridcolor": "white",
           "linecolor": "white",
           "ticks": "",
           "title": {
            "standoff": 15
           },
           "zerolinecolor": "white",
           "zerolinewidth": 2
          },
          "yaxis": {
           "automargin": true,
           "gridcolor": "white",
           "linecolor": "white",
           "ticks": "",
           "title": {
            "standoff": 15
           },
           "zerolinecolor": "white",
           "zerolinewidth": 2
          }
         }
        }
       }
      },
      "text/html": [
       "<div>\n",
       "        \n",
       "        \n",
       "            <div id=\"26e541f5-7420-47bb-963b-a1a9cd6d0748\" class=\"plotly-graph-div\" style=\"height:525px; width:100%;\"></div>\n",
       "            <script type=\"text/javascript\">\n",
       "                require([\"plotly\"], function(Plotly) {\n",
       "                    window.PLOTLYENV=window.PLOTLYENV || {};\n",
       "                    \n",
       "                if (document.getElementById(\"26e541f5-7420-47bb-963b-a1a9cd6d0748\")) {\n",
       "                    Plotly.newPlot(\n",
       "                        '26e541f5-7420-47bb-963b-a1a9cd6d0748',\n",
       "                        [{\"coloraxis\": \"coloraxis\", \"customdata\": [[\"United States of America\", \"Shampoo\"], [\"Australia\", \"Shampoo\"], [\"India\", \"Shampoo\"], [\"UK\", \"Shampoo\"]], \"geo\": \"geo\", \"hovertemplate\": \"<b>%{hovertext}</b><br><br>Country=%{customdata[0]}<br>Product=%{customdata[1]}<br>iso_alpha=%{location}<br>Success Index=%{z}<extra></extra>\", \"hovertext\": [\"United States of America\", \"Australia\", \"India\", \"UK\"], \"locations\": [\"USA\", \"AUS\", \"IND\", \"GBR\"], \"name\": \"\", \"type\": \"choropleth\", \"z\": [6.4, 6.235887050628662, 6.33437967300415, 6.1]}],\n",
       "                        {\"coloraxis\": {\"colorbar\": {\"title\": {\"text\": \"Success Index\"}}, \"colorscale\": [[0.0, \"#0d0887\"], [0.1111111111111111, \"#46039f\"], [0.2222222222222222, \"#7201a8\"], [0.3333333333333333, \"#9c179e\"], [0.4444444444444444, \"#bd3786\"], [0.5555555555555556, \"#d8576b\"], [0.6666666666666666, \"#ed7953\"], [0.7777777777777778, \"#fb9f3a\"], [0.8888888888888888, \"#fdca26\"], [1.0, \"#f0f921\"]]}, \"geo\": {\"center\": {}, \"domain\": {\"x\": [0.0, 1.0], \"y\": [0.0, 1.0]}}, \"legend\": {\"tracegroupgap\": 0}, \"margin\": {\"t\": 60}, \"template\": {\"data\": {\"bar\": [{\"error_x\": {\"color\": \"#2a3f5f\"}, \"error_y\": {\"color\": \"#2a3f5f\"}, \"marker\": {\"line\": {\"color\": \"#E5ECF6\", \"width\": 0.5}}, \"type\": \"bar\"}], \"barpolar\": [{\"marker\": {\"line\": {\"color\": \"#E5ECF6\", \"width\": 0.5}}, \"type\": \"barpolar\"}], \"carpet\": [{\"aaxis\": {\"endlinecolor\": \"#2a3f5f\", \"gridcolor\": \"white\", \"linecolor\": \"white\", \"minorgridcolor\": \"white\", \"startlinecolor\": \"#2a3f5f\"}, \"baxis\": {\"endlinecolor\": \"#2a3f5f\", \"gridcolor\": \"white\", \"linecolor\": \"white\", \"minorgridcolor\": \"white\", \"startlinecolor\": \"#2a3f5f\"}, \"type\": \"carpet\"}], \"choropleth\": [{\"colorbar\": {\"outlinewidth\": 0, \"ticks\": \"\"}, \"type\": \"choropleth\"}], \"contour\": [{\"colorbar\": {\"outlinewidth\": 0, \"ticks\": \"\"}, \"colorscale\": [[0.0, \"#0d0887\"], [0.1111111111111111, \"#46039f\"], [0.2222222222222222, \"#7201a8\"], [0.3333333333333333, \"#9c179e\"], [0.4444444444444444, \"#bd3786\"], [0.5555555555555556, \"#d8576b\"], [0.6666666666666666, \"#ed7953\"], [0.7777777777777778, \"#fb9f3a\"], [0.8888888888888888, \"#fdca26\"], [1.0, \"#f0f921\"]], \"type\": \"contour\"}], \"contourcarpet\": [{\"colorbar\": {\"outlinewidth\": 0, \"ticks\": \"\"}, \"type\": \"contourcarpet\"}], \"heatmap\": [{\"colorbar\": {\"outlinewidth\": 0, \"ticks\": \"\"}, \"colorscale\": [[0.0, \"#0d0887\"], [0.1111111111111111, \"#46039f\"], [0.2222222222222222, \"#7201a8\"], [0.3333333333333333, \"#9c179e\"], [0.4444444444444444, \"#bd3786\"], [0.5555555555555556, \"#d8576b\"], [0.6666666666666666, \"#ed7953\"], [0.7777777777777778, \"#fb9f3a\"], [0.8888888888888888, \"#fdca26\"], [1.0, \"#f0f921\"]], \"type\": \"heatmap\"}], \"heatmapgl\": [{\"colorbar\": {\"outlinewidth\": 0, \"ticks\": \"\"}, \"colorscale\": [[0.0, \"#0d0887\"], [0.1111111111111111, \"#46039f\"], [0.2222222222222222, \"#7201a8\"], [0.3333333333333333, \"#9c179e\"], [0.4444444444444444, \"#bd3786\"], [0.5555555555555556, \"#d8576b\"], [0.6666666666666666, \"#ed7953\"], [0.7777777777777778, \"#fb9f3a\"], [0.8888888888888888, \"#fdca26\"], [1.0, \"#f0f921\"]], \"type\": \"heatmapgl\"}], \"histogram\": [{\"marker\": {\"colorbar\": {\"outlinewidth\": 0, \"ticks\": \"\"}}, \"type\": \"histogram\"}], \"histogram2d\": [{\"colorbar\": {\"outlinewidth\": 0, \"ticks\": \"\"}, \"colorscale\": [[0.0, \"#0d0887\"], [0.1111111111111111, \"#46039f\"], [0.2222222222222222, \"#7201a8\"], [0.3333333333333333, \"#9c179e\"], [0.4444444444444444, \"#bd3786\"], [0.5555555555555556, \"#d8576b\"], [0.6666666666666666, \"#ed7953\"], [0.7777777777777778, \"#fb9f3a\"], [0.8888888888888888, \"#fdca26\"], [1.0, \"#f0f921\"]], \"type\": \"histogram2d\"}], \"histogram2dcontour\": [{\"colorbar\": {\"outlinewidth\": 0, \"ticks\": \"\"}, \"colorscale\": [[0.0, \"#0d0887\"], [0.1111111111111111, \"#46039f\"], [0.2222222222222222, \"#7201a8\"], [0.3333333333333333, \"#9c179e\"], [0.4444444444444444, \"#bd3786\"], [0.5555555555555556, \"#d8576b\"], [0.6666666666666666, \"#ed7953\"], [0.7777777777777778, \"#fb9f3a\"], [0.8888888888888888, \"#fdca26\"], [1.0, \"#f0f921\"]], \"type\": \"histogram2dcontour\"}], \"mesh3d\": [{\"colorbar\": {\"outlinewidth\": 0, \"ticks\": \"\"}, \"type\": \"mesh3d\"}], \"parcoords\": [{\"line\": {\"colorbar\": {\"outlinewidth\": 0, \"ticks\": \"\"}}, \"type\": \"parcoords\"}], \"pie\": [{\"automargin\": true, \"type\": \"pie\"}], \"scatter\": [{\"marker\": {\"colorbar\": {\"outlinewidth\": 0, \"ticks\": \"\"}}, \"type\": \"scatter\"}], \"scatter3d\": [{\"line\": {\"colorbar\": {\"outlinewidth\": 0, \"ticks\": \"\"}}, \"marker\": {\"colorbar\": {\"outlinewidth\": 0, \"ticks\": \"\"}}, \"type\": \"scatter3d\"}], \"scattercarpet\": [{\"marker\": {\"colorbar\": {\"outlinewidth\": 0, \"ticks\": \"\"}}, \"type\": \"scattercarpet\"}], \"scattergeo\": [{\"marker\": {\"colorbar\": {\"outlinewidth\": 0, \"ticks\": \"\"}}, \"type\": \"scattergeo\"}], \"scattergl\": [{\"marker\": {\"colorbar\": {\"outlinewidth\": 0, \"ticks\": \"\"}}, \"type\": \"scattergl\"}], \"scattermapbox\": [{\"marker\": {\"colorbar\": {\"outlinewidth\": 0, \"ticks\": \"\"}}, \"type\": \"scattermapbox\"}], \"scatterpolar\": [{\"marker\": {\"colorbar\": {\"outlinewidth\": 0, \"ticks\": \"\"}}, \"type\": \"scatterpolar\"}], \"scatterpolargl\": [{\"marker\": {\"colorbar\": {\"outlinewidth\": 0, \"ticks\": \"\"}}, \"type\": \"scatterpolargl\"}], \"scatterternary\": [{\"marker\": {\"colorbar\": {\"outlinewidth\": 0, \"ticks\": \"\"}}, \"type\": \"scatterternary\"}], \"surface\": [{\"colorbar\": {\"outlinewidth\": 0, \"ticks\": \"\"}, \"colorscale\": [[0.0, \"#0d0887\"], [0.1111111111111111, \"#46039f\"], [0.2222222222222222, \"#7201a8\"], [0.3333333333333333, \"#9c179e\"], [0.4444444444444444, \"#bd3786\"], [0.5555555555555556, \"#d8576b\"], [0.6666666666666666, \"#ed7953\"], [0.7777777777777778, \"#fb9f3a\"], [0.8888888888888888, \"#fdca26\"], [1.0, \"#f0f921\"]], \"type\": \"surface\"}], \"table\": [{\"cells\": {\"fill\": {\"color\": \"#EBF0F8\"}, \"line\": {\"color\": \"white\"}}, \"header\": {\"fill\": {\"color\": \"#C8D4E3\"}, \"line\": {\"color\": \"white\"}}, \"type\": \"table\"}]}, \"layout\": {\"annotationdefaults\": {\"arrowcolor\": \"#2a3f5f\", \"arrowhead\": 0, \"arrowwidth\": 1}, \"coloraxis\": {\"colorbar\": {\"outlinewidth\": 0, \"ticks\": \"\"}}, \"colorscale\": {\"diverging\": [[0, \"#8e0152\"], [0.1, \"#c51b7d\"], [0.2, \"#de77ae\"], [0.3, \"#f1b6da\"], [0.4, \"#fde0ef\"], [0.5, \"#f7f7f7\"], [0.6, \"#e6f5d0\"], [0.7, \"#b8e186\"], [0.8, \"#7fbc41\"], [0.9, \"#4d9221\"], [1, \"#276419\"]], \"sequential\": [[0.0, \"#0d0887\"], [0.1111111111111111, \"#46039f\"], [0.2222222222222222, \"#7201a8\"], [0.3333333333333333, \"#9c179e\"], [0.4444444444444444, \"#bd3786\"], [0.5555555555555556, \"#d8576b\"], [0.6666666666666666, \"#ed7953\"], [0.7777777777777778, \"#fb9f3a\"], [0.8888888888888888, \"#fdca26\"], [1.0, \"#f0f921\"]], \"sequentialminus\": [[0.0, \"#0d0887\"], [0.1111111111111111, \"#46039f\"], [0.2222222222222222, \"#7201a8\"], [0.3333333333333333, \"#9c179e\"], [0.4444444444444444, \"#bd3786\"], [0.5555555555555556, \"#d8576b\"], [0.6666666666666666, \"#ed7953\"], [0.7777777777777778, \"#fb9f3a\"], [0.8888888888888888, \"#fdca26\"], [1.0, \"#f0f921\"]]}, \"colorway\": [\"#636efa\", \"#EF553B\", \"#00cc96\", \"#ab63fa\", \"#FFA15A\", \"#19d3f3\", \"#FF6692\", \"#B6E880\", \"#FF97FF\", \"#FECB52\"], \"font\": {\"color\": \"#2a3f5f\"}, \"geo\": {\"bgcolor\": \"white\", \"lakecolor\": \"white\", \"landcolor\": \"#E5ECF6\", \"showlakes\": true, \"showland\": true, \"subunitcolor\": \"white\"}, \"hoverlabel\": {\"align\": \"left\"}, \"hovermode\": \"closest\", \"mapbox\": {\"style\": \"light\"}, \"paper_bgcolor\": \"white\", \"plot_bgcolor\": \"#E5ECF6\", \"polar\": {\"angularaxis\": {\"gridcolor\": \"white\", \"linecolor\": \"white\", \"ticks\": \"\"}, \"bgcolor\": \"#E5ECF6\", \"radialaxis\": {\"gridcolor\": \"white\", \"linecolor\": \"white\", \"ticks\": \"\"}}, \"scene\": {\"xaxis\": {\"backgroundcolor\": \"#E5ECF6\", \"gridcolor\": \"white\", \"gridwidth\": 2, \"linecolor\": \"white\", \"showbackground\": true, \"ticks\": \"\", \"zerolinecolor\": \"white\"}, \"yaxis\": {\"backgroundcolor\": \"#E5ECF6\", \"gridcolor\": \"white\", \"gridwidth\": 2, \"linecolor\": \"white\", \"showbackground\": true, \"ticks\": \"\", \"zerolinecolor\": \"white\"}, \"zaxis\": {\"backgroundcolor\": \"#E5ECF6\", \"gridcolor\": \"white\", \"gridwidth\": 2, \"linecolor\": \"white\", \"showbackground\": true, \"ticks\": \"\", \"zerolinecolor\": \"white\"}}, \"shapedefaults\": {\"line\": {\"color\": \"#2a3f5f\"}}, \"ternary\": {\"aaxis\": {\"gridcolor\": \"white\", \"linecolor\": \"white\", \"ticks\": \"\"}, \"baxis\": {\"gridcolor\": \"white\", \"linecolor\": \"white\", \"ticks\": \"\"}, \"bgcolor\": \"#E5ECF6\", \"caxis\": {\"gridcolor\": \"white\", \"linecolor\": \"white\", \"ticks\": \"\"}}, \"title\": {\"x\": 0.05}, \"xaxis\": {\"automargin\": true, \"gridcolor\": \"white\", \"linecolor\": \"white\", \"ticks\": \"\", \"title\": {\"standoff\": 15}, \"zerolinecolor\": \"white\", \"zerolinewidth\": 2}, \"yaxis\": {\"automargin\": true, \"gridcolor\": \"white\", \"linecolor\": \"white\", \"ticks\": \"\", \"title\": {\"standoff\": 15}, \"zerolinecolor\": \"white\", \"zerolinewidth\": 2}}}},\n",
       "                        {\"responsive\": true}\n",
       "                    ).then(function(){\n",
       "                            \n",
       "var gd = document.getElementById('26e541f5-7420-47bb-963b-a1a9cd6d0748');\n",
       "var x = new MutationObserver(function (mutations, observer) {{\n",
       "        var display = window.getComputedStyle(gd).display;\n",
       "        if (!display || display === 'none') {{\n",
       "            console.log([gd, 'removed!']);\n",
       "            Plotly.purge(gd);\n",
       "            observer.disconnect();\n",
       "        }}\n",
       "}});\n",
       "\n",
       "// Listen for the removal of the full notebook cells\n",
       "var notebookContainer = gd.closest('#notebook-container');\n",
       "if (notebookContainer) {{\n",
       "    x.observe(notebookContainer, {childList: true});\n",
       "}}\n",
       "\n",
       "// Listen for the clearing of the current output cell\n",
       "var outputEl = gd.closest('.output');\n",
       "if (outputEl) {{\n",
       "    x.observe(outputEl, {childList: true});\n",
       "}}\n",
       "\n",
       "                        })\n",
       "                };\n",
       "                });\n",
       "            </script>\n",
       "        </div>"
      ]
     },
     "metadata": {},
     "output_type": "display_data"
    }
   ],
   "source": [
    "result_df_temp = result_df_3 = pd.DataFrame(data=[['United States of America',\n",
    "                                'Health and Beauty',\n",
    "                                'Hair Products',\n",
    "                                'Shampoo',\n",
    "                                6.4,\n",
    "                                'USA'],['Australia',\n",
    "                                'Health and Beauty',\n",
    "                                'Hair Products',\n",
    "                                'Shampoo',\n",
    "                                pred_test_2,\n",
    "                                'AUS'],['India',\n",
    "                                'Health and Beauty',\n",
    "                                'Hair Products',\n",
    "                                'Shampoo',\n",
    "                                pred_test_3,\n",
    "                                'IND'],['UK',\n",
    "                                'Health and Beauty',\n",
    "                                'Hair Products',\n",
    "                                'Shampoo',\n",
    "                                6.1,\n",
    "                                'GBR']],\n",
    "                         columns=['Country',\n",
    "                                  'Category 1',\n",
    "                                  'Category 2',\n",
    "                                  'Product',\n",
    "                                  'Success Index',\n",
    "                                  'iso_alpha'])\n",
    "import plotly.express as px\n",
    "\n",
    "fig = px.choropleth(result_df_3, locations=\"iso_alpha\",\n",
    "                    color=\"Success Index\", # lifeExp is a column of gapminder\n",
    "                    hover_name=\"Country\", # column to add to hover information\n",
    "                    hover_data=[\"Country\",'Product'],\n",
    "                    color_continuous_scale=px.colors.sequential.Plasma)\n",
    "fig.show()"
   ]
  },
  {
   "cell_type": "code",
   "execution_count": null,
   "metadata": {},
   "outputs": [],
   "source": []
  },
  {
   "cell_type": "code",
   "execution_count": null,
   "metadata": {},
   "outputs": [],
   "source": []
  },
  {
   "cell_type": "code",
   "execution_count": null,
   "metadata": {},
   "outputs": [],
   "source": []
  },
  {
   "cell_type": "code",
   "execution_count": null,
   "metadata": {},
   "outputs": [],
   "source": []
  },
  {
   "cell_type": "code",
   "execution_count": null,
   "metadata": {},
   "outputs": [],
   "source": []
  },
  {
   "cell_type": "code",
   "execution_count": null,
   "metadata": {},
   "outputs": [],
   "source": []
  },
  {
   "cell_type": "code",
   "execution_count": null,
   "metadata": {},
   "outputs": [],
   "source": []
  },
  {
   "cell_type": "code",
   "execution_count": null,
   "metadata": {},
   "outputs": [],
   "source": []
  },
  {
   "cell_type": "code",
   "execution_count": null,
   "metadata": {},
   "outputs": [],
   "source": []
  },
  {
   "cell_type": "code",
   "execution_count": null,
   "metadata": {},
   "outputs": [],
   "source": []
  },
  {
   "cell_type": "code",
   "execution_count": 3,
   "metadata": {
    "ExecuteTime": {
     "end_time": "2020-04-10T07:45:26.624559Z",
     "start_time": "2020-04-10T07:45:26.620043Z"
    }
   },
   "outputs": [],
   "source": [
    "data_uri = 'data:image/jpeg;base64,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'"
   ]
  },
  {
   "cell_type": "code",
   "execution_count": null,
   "metadata": {
    "ExecuteTime": {
     "end_time": "2020-04-10T07:20:33.207566Z",
     "start_time": "2020-04-10T07:20:33.118855Z"
    }
   },
   "outputs": [],
   "source": [
    "import base64\n",
    "from io import BytesIO\n",
    "import numpy\n",
    "dimensions = (128, 128)\n",
    "\n",
    "encoded_image = data_uri.split(\",\")[1]\n",
    "decoded_image = base64.b64decode(encoded_image)\n",
    "\n",
    "### APPROACH 1 (BROKEN):\n",
    "# ____________________\n",
    "# image is (302, 302)\n",
    "img = Image.open(BytesIO(decoded_image))\n",
    "# image is (28, 28)\n",
    "img = img.resize(dimensions, Image.ANTIALIAS)\n",
    "# pixels.shape == (28, 28, 4)\n",
    "pixels = numpy.asarray(img, dtype='uint8')\n",
    "# force (28, 28)\n",
    "pixels = numpy.resize(pixels, (28,28))\n",
    "# image is distorted\n",
    "img = Image.fromarray(pixels)\n",
    "img.show()"
   ]
  },
  {
   "cell_type": "code",
   "execution_count": 5,
   "metadata": {
    "ExecuteTime": {
     "end_time": "2020-04-10T07:46:00.566715Z",
     "start_time": "2020-04-10T07:46:00.562827Z"
    }
   },
   "outputs": [],
   "source": [
    "import base64\n",
    "image_b64 = data_uri.split(\",\")[1]\n",
    "binary = base64.b64decode(image_b64)\n",
    "image = np.asarray(bytearray(binary), dtype=\"uint8\")\n",
    "image = cv2.imdecode(image, cv2.IMREAD_COLOR)"
   ]
  },
  {
   "cell_type": "code",
   "execution_count": 13,
   "metadata": {
    "ExecuteTime": {
     "end_time": "2020-04-10T07:49:38.454616Z",
     "start_time": "2020-04-10T07:49:38.407806Z"
    }
   },
   "outputs": [],
   "source": [
    "img = Image.fromarray(image)\n",
    "img.show()"
   ]
  },
  {
   "cell_type": "code",
   "execution_count": 17,
   "metadata": {
    "ExecuteTime": {
     "end_time": "2020-04-10T07:51:34.919029Z",
     "start_time": "2020-04-10T07:51:34.894400Z"
    }
   },
   "outputs": [],
   "source": [
    "from PIL import Image\n",
    "import base64\n",
    "import io\n",
    "import numpy as np\n",
    "import torch\n",
    "\n",
    "image_b64 = data_uri.split(\",\")[1]\n",
    "base64_decoded = base64.b64decode(image_b64)\n",
    "\n",
    "image = Image.open(io.BytesIO(base64_decoded))\n",
    "image_np = np.array(image)"
   ]
  },
  {
   "cell_type": "code",
   "execution_count": 23,
   "metadata": {
    "ExecuteTime": {
     "end_time": "2020-04-10T07:53:50.275245Z",
     "start_time": "2020-04-10T07:53:50.247641Z"
    },
    "scrolled": true
   },
   "outputs": [
    {
     "data": {
      "image/png": "[encoded data removed]",
      "text/plain": [
       "<PIL.Image.Image image mode=RGB size=220x316 at 0x7FBC48663BD0>"
      ]
     },
     "execution_count": 23,
     "metadata": {},
     "output_type": "execute_result"
    }
   ],
   "source": [
    "img = Image.fromarray(image_np)\n",
    "img"
   ]
  }
 ],
 "metadata": {
  "kernelspec": {
   "display_name": "Python 3",
   "language": "python",
   "name": "python3"
  },
  "language_info": {
   "codemirror_mode": {
    "name": "ipython",
    "version": 3
   },
   "file_extension": ".py",
   "mimetype": "text/x-python",
   "name": "python",
   "nbconvert_exporter": "python",
   "pygments_lexer": "ipython3",
   "version": "3.7.4"
  }
 },
 "nbformat": 4,
 "nbformat_minor": 4
}
